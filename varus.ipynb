{
 "cells": [
  {
   "cell_type": "code",
   "execution_count": 158,
   "metadata": {
    "pycharm": {
     "name": "#%%\n"
    }
   },
   "outputs": [],
   "source": [
    "#Packages\n",
    "import numpy as np\n",
    "import pandas as pd\n",
    "\n",
    "#Options\n",
    "pd.options.display.float_format = '{:,.2f}'.format\n"
   ]
  },
  {
   "cell_type": "code",
   "execution_count": 159,
   "metadata": {
    "pycharm": {
     "name": "#%%\n"
    }
   },
   "outputs": [],
   "source": [
    "varus_valgus_original = pd.read_excel('varus_valgus.xlsx')\n",
    "# Will we treat varus and valgus separately? \n",
    "# Will we look at Rachala and Philips separately or as a group?"
   ]
  },
  {
   "cell_type": "code",
   "execution_count": 160,
   "metadata": {
    "pycharm": {
     "name": "#%%\n"
    }
   },
   "outputs": [],
   "source": [
    "#Consider a dual index for outliers (use zip command and hier_index)\n",
    "varus_valgus_original.set_index('Study ID', inplace=True)"
   ]
  },
  {
   "cell_type": "code",
   "execution_count": 161,
   "outputs": [],
   "source": [
    "#Data cleaning step (missing data etc.)\n",
    "#df.dropna(axis=1) for columns df.fillna()"
   ],
   "metadata": {
    "collapsed": false,
    "pycharm": {
     "name": "#%%\n"
    }
   }
  },
  {
   "cell_type": "code",
   "execution_count": 162,
   "metadata": {
    "pycharm": {
     "name": "#%%\n"
    }
   },
   "outputs": [],
   "source": [
    "#Filter the original data for outliers\n",
    "#Any deviation of mechanical axis of 10 or more from normal, according to either Nav or XR measurement\n",
    "varus_valgus_outliers = varus_valgus_original[(abs(varus_valgus_original['PreOp Mechanical axis']) >= 10) |\n",
    "                                              (abs(varus_valgus_original['Nav PreOp Measurement (degree; Valgus is negative)']) >= 10)]"
   ]
  },
  {
   "cell_type": "code",
   "execution_count": 163,
   "metadata": {
    "pycharm": {
     "name": "#%%\n"
    }
   },
   "outputs": [
    {
     "data": {
      "text/plain": "          Laterality (Right =1; Left = 2) Team Member Med Hist Review  \\\nStudy ID                                                                \n7                                    2.00                     Hailley   \n15                                   2.00                     Hailley   \n17                                   1.00                     Hailley   \n22                                   2.00                     Hailley   \n29                                   1.00                     Hailley   \n...                                   ...                         ...   \n497                                  2.00                     Hailley   \n498                                  1.00                     Hailley   \n1                                    1.00                      Andrey   \n2                                    1.00                     Andrey    \n389                                  1.00                         NaN   \n\n         Team Member XRay Review  Meets Inclusion: (Y=1; N=2)  \\\nStudy ID                                                        \n7                         Andrey                            1   \n15                        Andrey                            1   \n17                        Andrey                            1   \n22                        Andrey                            1   \n29                        Andrey                            1   \n...                          ...                          ...   \n497                          NaN                            1   \n498                          NaN                            1   \n1                            NaN                            1   \n2                            NaN                            1   \n389                          NaN                            1   \n\n          Nav or Conventional (Nav=1; Con=2)    Nav #  \\\nStudy ID                                                \n7                                          1 3,056.00   \n15                                         1 3,066.00   \n17                                         1 3,068.00   \n22                                         1 3,074.00   \n29                                         1 3,082.00   \n...                                      ...      ...   \n497                                        1 3,661.00   \n498                                        1 3,663.00   \n1                                          1 3,050.00   \n2                                          1 3,051.00   \n389                                        1 3,535.00   \n\n          MD (Phillips = 1; Rachala = 2)  Age at Surgery  Length of FU (Days)  \\\nStudy ID                                                                        \n7                                      1              69               123.00   \n15                                     1              71               106.00   \n17                                     1              58               169.00   \n22                                     1              54                  NaN   \n29                                     1              77                  NaN   \n...                                  ...             ...                  ...   \n497                                    1              57               362.00   \n498                                    1              74               328.00   \n1                                      1              51                  NaN   \n2                                      1              63                  NaN   \n389                                    1              81                  NaN   \n\n          Sex (M=1; F=2)  ...  KSS-Functional Knee Score 3 mo  \\\nStudy ID                  ...                                   \n7                      2  ...                             NaN   \n15                     1  ...                             NaN   \n17                     1  ...                             NaN   \n22                     2  ...                             NaN   \n29                     1  ...                             NaN   \n...                  ...  ...                             ...   \n497                    2  ...                             NaN   \n498                    1  ...                           20.00   \n1                      2  ...                             NaN   \n2                      1  ...                             NaN   \n389                    1  ...                             NaN   \n\n          KSS-Functional Knee Score 1 yr  \\\nStudy ID                                   \n7                                    NaN   \n15                                   NaN   \n17                                   NaN   \n22                                   NaN   \n29                                   NaN   \n...                                  ...   \n497                                  NaN   \n498                                  NaN   \n1                                    NaN   \n2                                    NaN   \n389                                  NaN   \n\n          KSS-Objective Knee Score (Pain) Score 2 wk  \\\nStudy ID                                               \n7                                                NaN   \n15                                               NaN   \n17                                               NaN   \n22                                               NaN   \n29                                               NaN   \n...                                              ...   \n497                                              NaN   \n498                                              NaN   \n1                                                NaN   \n2                                                NaN   \n389                                              NaN   \n\n          KSS-Objective Knee Score (Pain) Score 6 wk  \\\nStudy ID                                               \n7                                                NaN   \n15                                               NaN   \n17                                               NaN   \n22                                               NaN   \n29                                               NaN   \n...                                              ...   \n497                                              NaN   \n498                                              NaN   \n1                                                NaN   \n2                                                NaN   \n389                                              NaN   \n\n          KSS-Objective Knee Score (Pain) Score 3 mo  \\\nStudy ID                                               \n7                                                NaN   \n15                                               NaN   \n17                                               NaN   \n22                                               NaN   \n29                                               NaN   \n...                                              ...   \n497                                              NaN   \n498                                            50.00   \n1                                                NaN   \n2                                                NaN   \n389                                              NaN   \n\n          KSS-Objective Knee Score (Pain) Score 1 yr  LEAS Score 2 wk  \\\nStudy ID                                                                \n7                                                NaN              NaN   \n15                                               NaN              NaN   \n17                                               NaN              NaN   \n22                                               NaN              NaN   \n29                                               NaN              NaN   \n...                                              ...              ...   \n497                                              NaN              NaN   \n498                                              NaN              NaN   \n1                                                NaN              NaN   \n2                                                NaN              NaN   \n389                                              NaN              NaN   \n\n          LEAS Score 6 wk  LEAS Score 3 mo  LEAS Score 1 yr  \nStudy ID                                                     \n7                     NaN              NaN              NaN  \n15                    NaN              NaN              NaN  \n17                    NaN              NaN              NaN  \n22                    NaN              NaN              NaN  \n29                    NaN              NaN              NaN  \n...                   ...              ...              ...  \n497                   NaN              NaN              NaN  \n498                   NaN             6.00              NaN  \n1                     NaN              NaN              NaN  \n2                     NaN              NaN              NaN  \n389                   NaN              NaN              NaN  \n\n[102 rows x 90 columns]",
      "text/html": "<div>\n<style scoped>\n    .dataframe tbody tr th:only-of-type {\n        vertical-align: middle;\n    }\n\n    .dataframe tbody tr th {\n        vertical-align: top;\n    }\n\n    .dataframe thead th {\n        text-align: right;\n    }\n</style>\n<table border=\"1\" class=\"dataframe\">\n  <thead>\n    <tr style=\"text-align: right;\">\n      <th></th>\n      <th>Laterality (Right =1; Left = 2)</th>\n      <th>Team Member Med Hist Review</th>\n      <th>Team Member XRay Review</th>\n      <th>Meets Inclusion: (Y=1; N=2)</th>\n      <th>Nav or Conventional (Nav=1; Con=2)</th>\n      <th>Nav #</th>\n      <th>MD (Phillips = 1; Rachala = 2)</th>\n      <th>Age at Surgery</th>\n      <th>Length of FU (Days)</th>\n      <th>Sex (M=1; F=2)</th>\n      <th>...</th>\n      <th>KSS-Functional Knee Score 3 mo</th>\n      <th>KSS-Functional Knee Score 1 yr</th>\n      <th>KSS-Objective Knee Score (Pain) Score 2 wk</th>\n      <th>KSS-Objective Knee Score (Pain) Score 6 wk</th>\n      <th>KSS-Objective Knee Score (Pain) Score 3 mo</th>\n      <th>KSS-Objective Knee Score (Pain) Score 1 yr</th>\n      <th>LEAS Score 2 wk</th>\n      <th>LEAS Score 6 wk</th>\n      <th>LEAS Score 3 mo</th>\n      <th>LEAS Score 1 yr</th>\n    </tr>\n    <tr>\n      <th>Study ID</th>\n      <th></th>\n      <th></th>\n      <th></th>\n      <th></th>\n      <th></th>\n      <th></th>\n      <th></th>\n      <th></th>\n      <th></th>\n      <th></th>\n      <th></th>\n      <th></th>\n      <th></th>\n      <th></th>\n      <th></th>\n      <th></th>\n      <th></th>\n      <th></th>\n      <th></th>\n      <th></th>\n      <th></th>\n    </tr>\n  </thead>\n  <tbody>\n    <tr>\n      <th>7</th>\n      <td>2.00</td>\n      <td>Hailley</td>\n      <td>Andrey</td>\n      <td>1</td>\n      <td>1</td>\n      <td>3,056.00</td>\n      <td>1</td>\n      <td>69</td>\n      <td>123.00</td>\n      <td>2</td>\n      <td>...</td>\n      <td>NaN</td>\n      <td>NaN</td>\n      <td>NaN</td>\n      <td>NaN</td>\n      <td>NaN</td>\n      <td>NaN</td>\n      <td>NaN</td>\n      <td>NaN</td>\n      <td>NaN</td>\n      <td>NaN</td>\n    </tr>\n    <tr>\n      <th>15</th>\n      <td>2.00</td>\n      <td>Hailley</td>\n      <td>Andrey</td>\n      <td>1</td>\n      <td>1</td>\n      <td>3,066.00</td>\n      <td>1</td>\n      <td>71</td>\n      <td>106.00</td>\n      <td>1</td>\n      <td>...</td>\n      <td>NaN</td>\n      <td>NaN</td>\n      <td>NaN</td>\n      <td>NaN</td>\n      <td>NaN</td>\n      <td>NaN</td>\n      <td>NaN</td>\n      <td>NaN</td>\n      <td>NaN</td>\n      <td>NaN</td>\n    </tr>\n    <tr>\n      <th>17</th>\n      <td>1.00</td>\n      <td>Hailley</td>\n      <td>Andrey</td>\n      <td>1</td>\n      <td>1</td>\n      <td>3,068.00</td>\n      <td>1</td>\n      <td>58</td>\n      <td>169.00</td>\n      <td>1</td>\n      <td>...</td>\n      <td>NaN</td>\n      <td>NaN</td>\n      <td>NaN</td>\n      <td>NaN</td>\n      <td>NaN</td>\n      <td>NaN</td>\n      <td>NaN</td>\n      <td>NaN</td>\n      <td>NaN</td>\n      <td>NaN</td>\n    </tr>\n    <tr>\n      <th>22</th>\n      <td>2.00</td>\n      <td>Hailley</td>\n      <td>Andrey</td>\n      <td>1</td>\n      <td>1</td>\n      <td>3,074.00</td>\n      <td>1</td>\n      <td>54</td>\n      <td>NaN</td>\n      <td>2</td>\n      <td>...</td>\n      <td>NaN</td>\n      <td>NaN</td>\n      <td>NaN</td>\n      <td>NaN</td>\n      <td>NaN</td>\n      <td>NaN</td>\n      <td>NaN</td>\n      <td>NaN</td>\n      <td>NaN</td>\n      <td>NaN</td>\n    </tr>\n    <tr>\n      <th>29</th>\n      <td>1.00</td>\n      <td>Hailley</td>\n      <td>Andrey</td>\n      <td>1</td>\n      <td>1</td>\n      <td>3,082.00</td>\n      <td>1</td>\n      <td>77</td>\n      <td>NaN</td>\n      <td>1</td>\n      <td>...</td>\n      <td>NaN</td>\n      <td>NaN</td>\n      <td>NaN</td>\n      <td>NaN</td>\n      <td>NaN</td>\n      <td>NaN</td>\n      <td>NaN</td>\n      <td>NaN</td>\n      <td>NaN</td>\n      <td>NaN</td>\n    </tr>\n    <tr>\n      <th>...</th>\n      <td>...</td>\n      <td>...</td>\n      <td>...</td>\n      <td>...</td>\n      <td>...</td>\n      <td>...</td>\n      <td>...</td>\n      <td>...</td>\n      <td>...</td>\n      <td>...</td>\n      <td>...</td>\n      <td>...</td>\n      <td>...</td>\n      <td>...</td>\n      <td>...</td>\n      <td>...</td>\n      <td>...</td>\n      <td>...</td>\n      <td>...</td>\n      <td>...</td>\n      <td>...</td>\n    </tr>\n    <tr>\n      <th>497</th>\n      <td>2.00</td>\n      <td>Hailley</td>\n      <td>NaN</td>\n      <td>1</td>\n      <td>1</td>\n      <td>3,661.00</td>\n      <td>1</td>\n      <td>57</td>\n      <td>362.00</td>\n      <td>2</td>\n      <td>...</td>\n      <td>NaN</td>\n      <td>NaN</td>\n      <td>NaN</td>\n      <td>NaN</td>\n      <td>NaN</td>\n      <td>NaN</td>\n      <td>NaN</td>\n      <td>NaN</td>\n      <td>NaN</td>\n      <td>NaN</td>\n    </tr>\n    <tr>\n      <th>498</th>\n      <td>1.00</td>\n      <td>Hailley</td>\n      <td>NaN</td>\n      <td>1</td>\n      <td>1</td>\n      <td>3,663.00</td>\n      <td>1</td>\n      <td>74</td>\n      <td>328.00</td>\n      <td>1</td>\n      <td>...</td>\n      <td>20.00</td>\n      <td>NaN</td>\n      <td>NaN</td>\n      <td>NaN</td>\n      <td>50.00</td>\n      <td>NaN</td>\n      <td>NaN</td>\n      <td>NaN</td>\n      <td>6.00</td>\n      <td>NaN</td>\n    </tr>\n    <tr>\n      <th>1</th>\n      <td>1.00</td>\n      <td>Andrey</td>\n      <td>NaN</td>\n      <td>1</td>\n      <td>1</td>\n      <td>3,050.00</td>\n      <td>1</td>\n      <td>51</td>\n      <td>NaN</td>\n      <td>2</td>\n      <td>...</td>\n      <td>NaN</td>\n      <td>NaN</td>\n      <td>NaN</td>\n      <td>NaN</td>\n      <td>NaN</td>\n      <td>NaN</td>\n      <td>NaN</td>\n      <td>NaN</td>\n      <td>NaN</td>\n      <td>NaN</td>\n    </tr>\n    <tr>\n      <th>2</th>\n      <td>1.00</td>\n      <td>Andrey</td>\n      <td>NaN</td>\n      <td>1</td>\n      <td>1</td>\n      <td>3,051.00</td>\n      <td>1</td>\n      <td>63</td>\n      <td>NaN</td>\n      <td>1</td>\n      <td>...</td>\n      <td>NaN</td>\n      <td>NaN</td>\n      <td>NaN</td>\n      <td>NaN</td>\n      <td>NaN</td>\n      <td>NaN</td>\n      <td>NaN</td>\n      <td>NaN</td>\n      <td>NaN</td>\n      <td>NaN</td>\n    </tr>\n    <tr>\n      <th>389</th>\n      <td>1.00</td>\n      <td>NaN</td>\n      <td>NaN</td>\n      <td>1</td>\n      <td>1</td>\n      <td>3,535.00</td>\n      <td>1</td>\n      <td>81</td>\n      <td>NaN</td>\n      <td>1</td>\n      <td>...</td>\n      <td>NaN</td>\n      <td>NaN</td>\n      <td>NaN</td>\n      <td>NaN</td>\n      <td>NaN</td>\n      <td>NaN</td>\n      <td>NaN</td>\n      <td>NaN</td>\n      <td>NaN</td>\n      <td>NaN</td>\n    </tr>\n  </tbody>\n</table>\n<p>102 rows × 90 columns</p>\n</div>"
     },
     "execution_count": 163,
     "metadata": {},
     "output_type": "execute_result"
    }
   ],
   "source": [
    "#Verify varus valgus discrepancy b/w Nav and manual\n",
    "varus_outliers = varus_valgus_outliers = varus_valgus_outliers[(varus_valgus_outliers['PreOp Mechanical axis'] >= 10) |\n",
    "                                                              (varus_valgus_outliers['Nav PreOp Measurement (degree; Valgus is negative)'] >= 10)]\n",
    "varus_outliers"
   ]
  },
  {
   "cell_type": "code",
   "execution_count": 164,
   "outputs": [
    {
     "data": {
      "text/plain": "                                                    count   mean    std  \\\nAge at Surgery                                     102.00  67.25   9.00   \nLength of FU (Days)                                 87.00 563.15 582.13   \nBMI (kg/m2)                                        102.00  34.58   9.00   \nNav PreOp Measurement (degree; Valgus is negative) 102.00  11.99   3.32   \nNav PostOp Measurement (degree; Valgus is negat... 102.00   1.41   1.05   \nPreOp Extension (degrees; hyperextension is neg... 101.00   6.71   6.81   \nPostOp Extension at Final FU (degrees; hyperext... 101.00   2.27   1.28   \nPreOp Flexion (degrees)                            101.00 133.87   9.15   \nPostOp Flexion (degrees)                           100.00 132.84   9.06   \nTourniquet time (min)                               74.00  11.47  12.02   \nOR time (min)                                       74.00  71.08  17.35   \nEstimated Blood Loss (ml)                           61.00  83.36  57.41   \nPreOp Mechanical axis                              102.00  13.12   4.45   \n3mo PostOp Mechanical axis                         100.00   1.76   2.15   \nFinal FU Mechanical axis                           100.00   1.76   1.99   \nPreOp Posterior Tibial Slope                       100.00  11.06   4.17   \nPostOp Posterior Tibial Slope                      102.00   3.11   2.04   \nPreOp Proximal Medial Tibial Angle                 102.00  82.32   3.60   \nPostOp Proximal Medial Tibial Angle                 99.00  89.05   1.56   \nPreOp Lateral Distal Femoral Angle                 102.00  90.13   2.85   \n3 mo PostOp Lateral Distal Femoral Angle           100.00  89.86   1.68   \nFinal FU Lateral Distal Femoral Angle              100.00  89.77   1.70   \nPostOp Patellar Tilt                               101.00   7.08   5.05   \n\n                                                      min    25%    50%  \\\nAge at Surgery                                      51.00  61.00  66.50   \nLength of FU (Days)                                 43.00 208.50 372.00   \nBMI (kg/m2)                                         20.94  27.63  33.03   \nNav PreOp Measurement (degree; Valgus is negative) -11.50  10.50  12.00   \nNav PostOp Measurement (degree; Valgus is negat...  -1.00   0.62   1.50   \nPreOp Extension (degrees; hyperextension is neg... -12.00   2.50   7.00   \nPostOp Extension at Final FU (degrees; hyperext...  -2.00   1.50   2.50   \nPreOp Flexion (degrees)                            107.50 129.00 135.00   \nPostOp Flexion (degrees)                           113.00 127.38 132.25   \nTourniquet time (min)                                4.00   5.00   7.00   \nOR time (min)                                       31.00  59.25  66.50   \nEstimated Blood Loss (ml)                           10.00  50.00  65.00   \nPreOp Mechanical axis                              -14.00  11.00  13.00   \n3mo PostOp Mechanical axis                          -1.00   1.00   1.00   \nFinal FU Mechanical axis                            -1.00   0.00   1.00   \nPreOp Posterior Tibial Slope                         3.00   8.00  11.00   \nPostOp Posterior Tibial Slope                        0.00   2.00   3.00   \nPreOp Proximal Medial Tibial Angle                  74.00  80.00  82.00   \nPostOp Proximal Medial Tibial Angle                 83.00  88.00  89.00   \nPreOp Lateral Distal Femoral Angle                  83.00  88.25  90.00   \n3 mo PostOp Lateral Distal Femoral Angle            82.00  89.00  90.00   \nFinal FU Lateral Distal Femoral Angle               85.00  89.00  90.00   \nPostOp Patellar Tilt                                 0.00   4.00   6.00   \n\n                                                      75%      max  \nAge at Surgery                                      73.75    89.00  \nLength of FU (Days)                                754.00 4,068.00  \nBMI (kg/m2)                                         40.14    63.41  \nNav PreOp Measurement (degree; Valgus is negative)  13.38    22.00  \nNav PostOp Measurement (degree; Valgus is negat...   2.00     4.00  \nPreOp Extension (degrees; hyperextension is neg...  10.50    23.50  \nPostOp Extension at Final FU (degrees; hyperext...   3.00     5.00  \nPreOp Flexion (degrees)                            140.00   162.50  \nPostOp Flexion (degrees)                           137.50   160.50  \nTourniquet time (min)                               11.75    71.00  \nOR time (min)                                       81.50   116.00  \nEstimated Blood Loss (ml)                          100.00   300.00  \nPreOp Mechanical axis                               15.00    30.00  \n3mo PostOp Mechanical axis                           2.00    12.00  \nFinal FU Mechanical axis                             2.00    10.00  \nPreOp Posterior Tibial Slope                        14.00    22.00  \nPostOp Posterior Tibial Slope                        4.00     9.00  \nPreOp Proximal Medial Tibial Angle                  84.00    93.00  \nPostOp Proximal Medial Tibial Angle                 90.00    93.00  \nPreOp Lateral Distal Femoral Angle                  92.00    98.00  \n3 mo PostOp Lateral Distal Femoral Angle            91.00    95.00  \nFinal FU Lateral Distal Femoral Angle               90.00    96.00  \nPostOp Patellar Tilt                                 9.00    24.00  ",
      "text/html": "<div>\n<style scoped>\n    .dataframe tbody tr th:only-of-type {\n        vertical-align: middle;\n    }\n\n    .dataframe tbody tr th {\n        vertical-align: top;\n    }\n\n    .dataframe thead th {\n        text-align: right;\n    }\n</style>\n<table border=\"1\" class=\"dataframe\">\n  <thead>\n    <tr style=\"text-align: right;\">\n      <th></th>\n      <th>count</th>\n      <th>mean</th>\n      <th>std</th>\n      <th>min</th>\n      <th>25%</th>\n      <th>50%</th>\n      <th>75%</th>\n      <th>max</th>\n    </tr>\n  </thead>\n  <tbody>\n    <tr>\n      <th>Age at Surgery</th>\n      <td>102.00</td>\n      <td>67.25</td>\n      <td>9.00</td>\n      <td>51.00</td>\n      <td>61.00</td>\n      <td>66.50</td>\n      <td>73.75</td>\n      <td>89.00</td>\n    </tr>\n    <tr>\n      <th>Length of FU (Days)</th>\n      <td>87.00</td>\n      <td>563.15</td>\n      <td>582.13</td>\n      <td>43.00</td>\n      <td>208.50</td>\n      <td>372.00</td>\n      <td>754.00</td>\n      <td>4,068.00</td>\n    </tr>\n    <tr>\n      <th>BMI (kg/m2)</th>\n      <td>102.00</td>\n      <td>34.58</td>\n      <td>9.00</td>\n      <td>20.94</td>\n      <td>27.63</td>\n      <td>33.03</td>\n      <td>40.14</td>\n      <td>63.41</td>\n    </tr>\n    <tr>\n      <th>Nav PreOp Measurement (degree; Valgus is negative)</th>\n      <td>102.00</td>\n      <td>11.99</td>\n      <td>3.32</td>\n      <td>-11.50</td>\n      <td>10.50</td>\n      <td>12.00</td>\n      <td>13.38</td>\n      <td>22.00</td>\n    </tr>\n    <tr>\n      <th>Nav PostOp Measurement (degree; Valgus is negative)</th>\n      <td>102.00</td>\n      <td>1.41</td>\n      <td>1.05</td>\n      <td>-1.00</td>\n      <td>0.62</td>\n      <td>1.50</td>\n      <td>2.00</td>\n      <td>4.00</td>\n    </tr>\n    <tr>\n      <th>PreOp Extension (degrees; hyperextension is negative)</th>\n      <td>101.00</td>\n      <td>6.71</td>\n      <td>6.81</td>\n      <td>-12.00</td>\n      <td>2.50</td>\n      <td>7.00</td>\n      <td>10.50</td>\n      <td>23.50</td>\n    </tr>\n    <tr>\n      <th>PostOp Extension at Final FU (degrees; hyperextension is negative)</th>\n      <td>101.00</td>\n      <td>2.27</td>\n      <td>1.28</td>\n      <td>-2.00</td>\n      <td>1.50</td>\n      <td>2.50</td>\n      <td>3.00</td>\n      <td>5.00</td>\n    </tr>\n    <tr>\n      <th>PreOp Flexion (degrees)</th>\n      <td>101.00</td>\n      <td>133.87</td>\n      <td>9.15</td>\n      <td>107.50</td>\n      <td>129.00</td>\n      <td>135.00</td>\n      <td>140.00</td>\n      <td>162.50</td>\n    </tr>\n    <tr>\n      <th>PostOp Flexion (degrees)</th>\n      <td>100.00</td>\n      <td>132.84</td>\n      <td>9.06</td>\n      <td>113.00</td>\n      <td>127.38</td>\n      <td>132.25</td>\n      <td>137.50</td>\n      <td>160.50</td>\n    </tr>\n    <tr>\n      <th>Tourniquet time (min)</th>\n      <td>74.00</td>\n      <td>11.47</td>\n      <td>12.02</td>\n      <td>4.00</td>\n      <td>5.00</td>\n      <td>7.00</td>\n      <td>11.75</td>\n      <td>71.00</td>\n    </tr>\n    <tr>\n      <th>OR time (min)</th>\n      <td>74.00</td>\n      <td>71.08</td>\n      <td>17.35</td>\n      <td>31.00</td>\n      <td>59.25</td>\n      <td>66.50</td>\n      <td>81.50</td>\n      <td>116.00</td>\n    </tr>\n    <tr>\n      <th>Estimated Blood Loss (ml)</th>\n      <td>61.00</td>\n      <td>83.36</td>\n      <td>57.41</td>\n      <td>10.00</td>\n      <td>50.00</td>\n      <td>65.00</td>\n      <td>100.00</td>\n      <td>300.00</td>\n    </tr>\n    <tr>\n      <th>PreOp Mechanical axis</th>\n      <td>102.00</td>\n      <td>13.12</td>\n      <td>4.45</td>\n      <td>-14.00</td>\n      <td>11.00</td>\n      <td>13.00</td>\n      <td>15.00</td>\n      <td>30.00</td>\n    </tr>\n    <tr>\n      <th>3mo PostOp Mechanical axis</th>\n      <td>100.00</td>\n      <td>1.76</td>\n      <td>2.15</td>\n      <td>-1.00</td>\n      <td>1.00</td>\n      <td>1.00</td>\n      <td>2.00</td>\n      <td>12.00</td>\n    </tr>\n    <tr>\n      <th>Final FU Mechanical axis</th>\n      <td>100.00</td>\n      <td>1.76</td>\n      <td>1.99</td>\n      <td>-1.00</td>\n      <td>0.00</td>\n      <td>1.00</td>\n      <td>2.00</td>\n      <td>10.00</td>\n    </tr>\n    <tr>\n      <th>PreOp Posterior Tibial Slope</th>\n      <td>100.00</td>\n      <td>11.06</td>\n      <td>4.17</td>\n      <td>3.00</td>\n      <td>8.00</td>\n      <td>11.00</td>\n      <td>14.00</td>\n      <td>22.00</td>\n    </tr>\n    <tr>\n      <th>PostOp Posterior Tibial Slope</th>\n      <td>102.00</td>\n      <td>3.11</td>\n      <td>2.04</td>\n      <td>0.00</td>\n      <td>2.00</td>\n      <td>3.00</td>\n      <td>4.00</td>\n      <td>9.00</td>\n    </tr>\n    <tr>\n      <th>PreOp Proximal Medial Tibial Angle</th>\n      <td>102.00</td>\n      <td>82.32</td>\n      <td>3.60</td>\n      <td>74.00</td>\n      <td>80.00</td>\n      <td>82.00</td>\n      <td>84.00</td>\n      <td>93.00</td>\n    </tr>\n    <tr>\n      <th>PostOp Proximal Medial Tibial Angle</th>\n      <td>99.00</td>\n      <td>89.05</td>\n      <td>1.56</td>\n      <td>83.00</td>\n      <td>88.00</td>\n      <td>89.00</td>\n      <td>90.00</td>\n      <td>93.00</td>\n    </tr>\n    <tr>\n      <th>PreOp Lateral Distal Femoral Angle</th>\n      <td>102.00</td>\n      <td>90.13</td>\n      <td>2.85</td>\n      <td>83.00</td>\n      <td>88.25</td>\n      <td>90.00</td>\n      <td>92.00</td>\n      <td>98.00</td>\n    </tr>\n    <tr>\n      <th>3 mo PostOp Lateral Distal Femoral Angle</th>\n      <td>100.00</td>\n      <td>89.86</td>\n      <td>1.68</td>\n      <td>82.00</td>\n      <td>89.00</td>\n      <td>90.00</td>\n      <td>91.00</td>\n      <td>95.00</td>\n    </tr>\n    <tr>\n      <th>Final FU Lateral Distal Femoral Angle</th>\n      <td>100.00</td>\n      <td>89.77</td>\n      <td>1.70</td>\n      <td>85.00</td>\n      <td>89.00</td>\n      <td>90.00</td>\n      <td>90.00</td>\n      <td>96.00</td>\n    </tr>\n    <tr>\n      <th>PostOp Patellar Tilt</th>\n      <td>101.00</td>\n      <td>7.08</td>\n      <td>5.05</td>\n      <td>0.00</td>\n      <td>4.00</td>\n      <td>6.00</td>\n      <td>9.00</td>\n      <td>24.00</td>\n    </tr>\n  </tbody>\n</table>\n</div>"
     },
     "execution_count": 164,
     "metadata": {},
     "output_type": "execute_result"
    }
   ],
   "source": [
    "#Continous Data Varus\n",
    "basic_columns = [\"Age at Surgery\", \"Length of FU (Days)\", \"BMI (kg/m2)\"]\n",
    "nav_columns = varus_outliers.columns.values[19:21].tolist()\n",
    "misc_columns = varus_outliers.columns.values[24:31].tolist()\n",
    "xr_columns = varus_outliers.columns.values[41:52].tolist()\n",
    "\n",
    "varus_outliers.columns.values\n",
    "#vars_varus_cont = [\"Age at Surgery\", ]\n",
    "# varus_outliers[[\"Age at Surgery\", \"Length of FU (Days)\", \"BMI (kg/m2)\"] \"Nav PreOp Measurement (degree; Valgus is negative)\", \"Nav PostOp Measurement (degree; Valgus is negative)\", \"PreOp Extension (degrees; hyperextension is negative)\", \"PostOp Extension at Final FU (degrees; hyperextension is negative)\", \"PreOp Flexion (degrees)\", \"PostOp Flexion (degrees)\", \"Tourniquet time (min)\", \"OR time (min)\", \"Length of Stay (days)\", \"PreOp Mechanical axis\", \"3mo PostOp Mechanical axis\", \"Final FU Mechanical axis\", \"PreOp Posterior Tibial Slope\"] + xr_columns]\n",
    "\n",
    "\n",
    "varus_outliers[basic_columns + nav_columns + misc_columns + xr_columns].describe().transpose()"
   ],
   "metadata": {
    "collapsed": false,
    "pycharm": {
     "name": "#%%\n"
    }
   }
  },
  {
   "cell_type": "code",
   "execution_count": 164,
   "outputs": [],
   "source": [],
   "metadata": {
    "collapsed": false,
    "pycharm": {
     "name": "#%%\n"
    }
   }
  }
 ],
 "metadata": {
  "kernelspec": {
   "display_name": "Python 3 (ipykernel)",
   "language": "python",
   "name": "python3"
  },
  "language_info": {
   "codemirror_mode": {
    "name": "ipython",
    "version": 3
   },
   "file_extension": ".py",
   "mimetype": "text/x-python",
   "name": "python",
   "nbconvert_exporter": "python",
   "pygments_lexer": "ipython3",
   "version": "3.10.4"
  }
 },
 "nbformat": 4,
 "nbformat_minor": 1
}