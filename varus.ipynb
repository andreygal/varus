{
 "cells": [
  {
   "cell_type": "code",
   "execution_count": 48,
   "metadata": {
    "pycharm": {
     "name": "#%%\n"
    }
   },
   "outputs": [],
   "source": [
    "#Packages\n",
    "import pandas as pd\n",
    "import numpy as np"
   ]
  },
  {
   "cell_type": "code",
   "execution_count": 49,
   "metadata": {
    "pycharm": {
     "name": "#%%\n"
    }
   },
   "outputs": [],
   "source": [
    "#Ctrl + Q -> get function doc\n",
    "#Specify column data types for read_excel 'dtype' parameter using a dictionary\n",
    "#Can we convert some of these into boolean types and enums\n",
    "varus_valgus_dtypes = {\n",
    "    'Study ID':int,\n",
    "    'Laterality (Right =1; Left = 2)':np.float64,\n",
    "    'Team Member Med Hist Review':str,\n",
    "    'Team Member XRay Review':str,\n",
    "    'Meets Inclusion: (Y=1; N=2)':str,\n",
    "    'Nav or Conventional (Nav=1; Con=2)':np.float64,\n",
    "    'Nav #':np.float64,\n",
    "    'MD (Phillips = 1; Rachala = 2)':str,\n",
    "    'Age at Surgery':np.float64,\n",
    "    'Length of FU (Days)':np.float64,\n",
    "    'Sex (M=1; F=2)':np.float64,\n",
    "    'Ht (in)':np.float64,\n",
    "    'Wt (lbs)':np.float64,\n",
    "    'BMI (kg/m2)':np.float64,\n",
    "    'Osteoporosis/Osteopenia (Y=1; N=2)':str,\n",
    "    'Smoker (Current=1; Former=2; Never=3)':str,\n",
    "    'Diabetes (Y=1; N=2)':str,\n",
    "    'Comorbitities (Less than or equal to two = 1; Three or more = 2) WRITE \"Less\" or \"More\"':np.float64,\n",
    "    'Diagnosis (OA = 1; IA = 2; PTOA = 3; OA + IA = 4; OA + PTOA = 5)':str,\n",
    "    'Presence of PreOp Flexion Contracture (Y=1; N=2)':str,\n",
    "    'Nav PreOp Measurement (degree; Valgus is negative)':np.float64,\n",
    "    'Nav PostOp Measurement (degree; Valgus is negative)':np.float64,\n",
    "    'Nav PreOp Check':str,\n",
    "    'Nav PostOp Check':str,\n",
    "    'Group (Control=1; Outlier=2)':str,\n",
    "    'PreOp Extension (degrees; hyperextension is negative)':np.float64,\n",
    "    'PostOp Extension at Final FU (degrees; hyperextension is negative)':np.float64,\n",
    "    'PreOp Flexion (degrees)':np.float64,\n",
    "    'PostOp Flexion (degrees)':np.float64,\n",
    "    'Tourniquet time (min)':np.float64,\n",
    "    'OR time (min)':np.float64,\n",
    "    'Estimated Blood Loss (ml)':np.float64,\n",
    "    'Tibial plateau fracture (Y=1; N=2)':str,\n",
    "    'Tibial component size':np.float64,\n",
    "    'Femoral component size':np.float64,\n",
    "    'Length of Stay (days)':np.float64,\n",
    "    'Discharge destination (1=home; 2=rehab)':str,\n",
    "    'Readmission w/in 90 days (Y=1; N=2)':str,\n",
    "    'Reason for Readmission':str,\n",
    "    'Reoperation (Y=1; N=2)':str,\n",
    "    'Reason for reoperation':str,\n",
    "    'PostOp Infection  (Y=1; N=2)':str,\n",
    "    'PreOp Mechanical axis':np.float64,\n",
    "    '3mo PostOp Mechanical axis':np.float64,\n",
    "    'Final FU Mechanical axis':np.float64,\n",
    "    'PreOp Posterior Tibial Slope':np.float64,\n",
    "    'PostOp Posterior Tibial Slope':np.float64,\n",
    "    'PreOp Proximal Medial Tibial Angle':np.float64,\n",
    "    'PostOp Proximal Medial Tibial Angle':np.float64,\n",
    "    'PreOp Lateral Distal Femoral Angle':np.float64,\n",
    "    '3 mo PostOp Lateral Distal Femoral Angle':np.float64,\n",
    "    'Final FU Lateral Distal Femoral Angle':np.float64,\n",
    "    'PostOp Patellar Tilt':np.float64,\n",
    "    'Evidence of Hardware Failure (Y=1; N=2)':str,\n",
    "    'Fracture   (Y=1; N=2)':str,\n",
    "    'Subsidence   (Y=1; N=2)':str,\n",
    "    'Loosening   (Y=1; N=2)':str,\n",
    "    'Polyethylene Wear (Y=1; N=2)':str,\n",
    "    '3mo PostOp Radiolucent lines (Y=1; N=2)':str,\n",
    "    'Final FU Radiolucent lines (Y=1; N=2)':str,\n",
    "    '3mo PostOp Stress shielding (Y=1; N=2)':str,\n",
    "    'Final FU Stress shielding (Y=1; N=2)':str,\n",
    "    'UBMD General Function VAS Score 2 wk':np.float64,\n",
    "    'UBMD General Function VAS Score 6 wk':np.float64,\n",
    "    'UBMD General Function VAS Score 3 mo':np.float64,\n",
    "    'UBMD General Function VAS Score 1 yr':np.float64,\n",
    "    'UBMD General Pain VAS Score 2 wk':np.float64,\n",
    "    'UBMD General Pain VAS Score 6 wk':np.float64,\n",
    "    'UBMD General Pain VAS Score 3 mo':np.float64,\n",
    "    'UBMD General Pain VAS Score 1 yr':np.float64,\n",
    "    'SF-12 Physical Health Score 6 wk':np.float64,\n",
    "    'SF-12 Physical Health Score 3 mo':np.float64,\n",
    "    'SF-12 Physical Health Score 1 yr':np.float64,\n",
    "    'VR-12 Physical Score 6 wk':np.float64,\n",
    "    'VR-12 Physical Score 3 mo':np.float64,\n",
    "    'VR-12 Physical Score 1 yr':np.float64,\n",
    "    'VR6D Score 6 wk':np.float64,\n",
    "    'VR6D Score 3 mo':np.float64,\n",
    "    'VR6D Score 1 yr':np.float64,\n",
    "    'KSS-Functional Knee Score 2 wk':np.float64,\n",
    "    'KSS-Functional Knee Score 6 wk':np.float64,\n",
    "    'KSS-Functional Knee Score 3 mo':np.float64,\n",
    "    'KSS-Functional Knee Score 1 yr':np.float64,\n",
    "    'KSS-Objective Knee Score (Pain) Score 2 wk':np.float64,\n",
    "    'KSS-Objective Knee Score (Pain) Score 6 wk':np.float64,\n",
    "    'KSS-Objective Knee Score (Pain) Score 3 mo':np.float64,\n",
    "    'KSS-Objective Knee Score (Pain) Score 1 yr':np.float64,\n",
    "    'LEAS Score 2 wk':np.float64,\n",
    "    'LEAS Score 6 wk':np.float64,\n",
    "    'LEAS Score 3 mo':np.float64,\n",
    "    'LEAS Score 1 yr':np.float64\n",
    "}\n",
    "\n",
    "#Read-in the data file\n",
    "varus_valgus_original = pd.read_excel('varus_valgus.xlsx', dtype=varus_valgus_dtypes)\n",
    "\n",
    "\n",
    "#Questions for the group:\n",
    "# Will we treat varus and valgus separately?\n",
    "# Will we look at Rachala and Philips separately or as a group?"
   ]
  },
  {
   "cell_type": "code",
   "execution_count": 50,
   "metadata": {
    "pycharm": {
     "name": "#%%\n"
    }
   },
   "outputs": [],
   "source": [
    "#Consider a dual index for outliers (use zip command and hier_index)\n",
    "varus_valgus_original.set_index('Study ID', inplace=True)"
   ]
  },
  {
   "cell_type": "code",
   "execution_count": 51,
   "metadata": {
    "pycharm": {
     "name": "#%%\n"
    }
   },
   "outputs": [],
   "source": [
    "#Data cleaning step (missing data etc.)\n",
    "#df.dropna(axis=1) for columns df.fillna()"
   ]
  },
  {
   "cell_type": "code",
   "execution_count": 52,
   "metadata": {
    "pycharm": {
     "name": "#%%\n"
    }
   },
   "outputs": [
    {
     "data": {
      "text/plain": "          Laterality (Right =1; Left = 2) Team Member Med Hist Review  \\\nStudy ID                                                                \n7                                     2.0                     Hailley   \n15                                    2.0                     Hailley   \n17                                    1.0                     Hailley   \n22                                    2.0                     Hailley   \n29                                    1.0                     Hailley   \n...                                   ...                         ...   \n1                                     1.0                      Andrey   \n2                                     1.0                     Andrey    \n9                                     2.0                      Andrey   \n308                                   1.0                      Andrey   \n389                                   1.0                         NaN   \n\n         Team Member XRay Review Meets Inclusion: (Y=1; N=2)  \\\nStudy ID                                                       \n7                         Andrey                           1   \n15                        Andrey                           1   \n17                        Andrey                           1   \n22                        Andrey                           1   \n29                        Andrey                           1   \n...                          ...                         ...   \n1                            NaN                           1   \n2                            NaN                           1   \n9                            NaN                           1   \n308                          NaN                           1   \n389                          NaN                           1   \n\n          Nav or Conventional (Nav=1; Con=2)   Nav #  \\\nStudy ID                                               \n7                                        1.0  3056.0   \n15                                       1.0  3066.0   \n17                                       1.0  3068.0   \n22                                       1.0  3074.0   \n29                                       1.0  3082.0   \n...                                      ...     ...   \n1                                        1.0  3050.0   \n2                                        1.0  3051.0   \n9                                        1.0  3058.0   \n308                                      1.0  3433.0   \n389                                      1.0  3535.0   \n\n         MD (Phillips = 1; Rachala = 2)  Age at Surgery  Length of FU (Days)  \\\nStudy ID                                                                       \n7                                     1            69.0                123.0   \n15                                    1            71.0                106.0   \n17                                    1            58.0                169.0   \n22                                    1            54.0                  NaN   \n29                                    1            77.0                  NaN   \n...                                 ...             ...                  ...   \n1                                     1            51.0                  NaN   \n2                                     1            63.0                  NaN   \n9                                     1            74.0                  NaN   \n308                                   1            62.0                  NaN   \n389                                   1            81.0                  NaN   \n\n          Sex (M=1; F=2)  ...  KSS-Functional Knee Score 3 mo  \\\nStudy ID                  ...                                   \n7                    2.0  ...                             NaN   \n15                   1.0  ...                             NaN   \n17                   1.0  ...                             NaN   \n22                   2.0  ...                             NaN   \n29                   1.0  ...                             NaN   \n...                  ...  ...                             ...   \n1                    2.0  ...                             NaN   \n2                    1.0  ...                             NaN   \n9                    2.0  ...                             NaN   \n308                  1.0  ...                             NaN   \n389                  1.0  ...                             NaN   \n\n          KSS-Functional Knee Score 1 yr  \\\nStudy ID                                   \n7                                    NaN   \n15                                   NaN   \n17                                   NaN   \n22                                   NaN   \n29                                   NaN   \n...                                  ...   \n1                                    NaN   \n2                                    NaN   \n9                                    NaN   \n308                                  NaN   \n389                                  NaN   \n\n          KSS-Objective Knee Score (Pain) Score 2 wk  \\\nStudy ID                                               \n7                                                NaN   \n15                                               NaN   \n17                                               NaN   \n22                                               NaN   \n29                                               NaN   \n...                                              ...   \n1                                                NaN   \n2                                                NaN   \n9                                                NaN   \n308                                              NaN   \n389                                              NaN   \n\n         KSS-Objective Knee Score (Pain) Score 6 wk  \\\nStudy ID                                              \n7                                               NaN   \n15                                              NaN   \n17                                              NaN   \n22                                              NaN   \n29                                              NaN   \n...                                             ...   \n1                                               NaN   \n2                                               NaN   \n9                                               NaN   \n308                                             NaN   \n389                                             NaN   \n\n         KSS-Objective Knee Score (Pain) Score 3 mo  \\\nStudy ID                                              \n7                                               NaN   \n15                                              NaN   \n17                                              NaN   \n22                                              NaN   \n29                                              NaN   \n...                                             ...   \n1                                               NaN   \n2                                               NaN   \n9                                               NaN   \n308                                             NaN   \n389                                             NaN   \n\n         KSS-Objective Knee Score (Pain) Score 1 yr  LEAS Score 2 wk  \\\nStudy ID                                                               \n7                                               NaN              NaN   \n15                                              NaN              NaN   \n17                                              NaN              NaN   \n22                                              NaN              NaN   \n29                                              NaN              NaN   \n...                                             ...              ...   \n1                                               NaN              NaN   \n2                                               NaN              NaN   \n9                                               NaN              NaN   \n308                                             NaN              NaN   \n389                                             NaN              NaN   \n\n         LEAS Score 6 wk LEAS Score 3 mo  LEAS Score 1 yr  \nStudy ID                                                   \n7                    NaN             NaN              NaN  \n15                   NaN             NaN              NaN  \n17                   NaN             NaN              NaN  \n22                   NaN             NaN              NaN  \n29                   NaN             NaN              NaN  \n...                  ...             ...              ...  \n1                    NaN             NaN              NaN  \n2                    NaN             NaN              NaN  \n9                    NaN             NaN              NaN  \n308                  NaN             NaN              NaN  \n389                  NaN             NaN              NaN  \n\n[106 rows x 90 columns]",
      "text/html": "<div>\n<style scoped>\n    .dataframe tbody tr th:only-of-type {\n        vertical-align: middle;\n    }\n\n    .dataframe tbody tr th {\n        vertical-align: top;\n    }\n\n    .dataframe thead th {\n        text-align: right;\n    }\n</style>\n<table border=\"1\" class=\"dataframe\">\n  <thead>\n    <tr style=\"text-align: right;\">\n      <th></th>\n      <th>Laterality (Right =1; Left = 2)</th>\n      <th>Team Member Med Hist Review</th>\n      <th>Team Member XRay Review</th>\n      <th>Meets Inclusion: (Y=1; N=2)</th>\n      <th>Nav or Conventional (Nav=1; Con=2)</th>\n      <th>Nav #</th>\n      <th>MD (Phillips = 1; Rachala = 2)</th>\n      <th>Age at Surgery</th>\n      <th>Length of FU (Days)</th>\n      <th>Sex (M=1; F=2)</th>\n      <th>...</th>\n      <th>KSS-Functional Knee Score 3 mo</th>\n      <th>KSS-Functional Knee Score 1 yr</th>\n      <th>KSS-Objective Knee Score (Pain) Score 2 wk</th>\n      <th>KSS-Objective Knee Score (Pain) Score 6 wk</th>\n      <th>KSS-Objective Knee Score (Pain) Score 3 mo</th>\n      <th>KSS-Objective Knee Score (Pain) Score 1 yr</th>\n      <th>LEAS Score 2 wk</th>\n      <th>LEAS Score 6 wk</th>\n      <th>LEAS Score 3 mo</th>\n      <th>LEAS Score 1 yr</th>\n    </tr>\n    <tr>\n      <th>Study ID</th>\n      <th></th>\n      <th></th>\n      <th></th>\n      <th></th>\n      <th></th>\n      <th></th>\n      <th></th>\n      <th></th>\n      <th></th>\n      <th></th>\n      <th></th>\n      <th></th>\n      <th></th>\n      <th></th>\n      <th></th>\n      <th></th>\n      <th></th>\n      <th></th>\n      <th></th>\n      <th></th>\n      <th></th>\n    </tr>\n  </thead>\n  <tbody>\n    <tr>\n      <th>7</th>\n      <td>2.0</td>\n      <td>Hailley</td>\n      <td>Andrey</td>\n      <td>1</td>\n      <td>1.0</td>\n      <td>3056.0</td>\n      <td>1</td>\n      <td>69.0</td>\n      <td>123.0</td>\n      <td>2.0</td>\n      <td>...</td>\n      <td>NaN</td>\n      <td>NaN</td>\n      <td>NaN</td>\n      <td>NaN</td>\n      <td>NaN</td>\n      <td>NaN</td>\n      <td>NaN</td>\n      <td>NaN</td>\n      <td>NaN</td>\n      <td>NaN</td>\n    </tr>\n    <tr>\n      <th>15</th>\n      <td>2.0</td>\n      <td>Hailley</td>\n      <td>Andrey</td>\n      <td>1</td>\n      <td>1.0</td>\n      <td>3066.0</td>\n      <td>1</td>\n      <td>71.0</td>\n      <td>106.0</td>\n      <td>1.0</td>\n      <td>...</td>\n      <td>NaN</td>\n      <td>NaN</td>\n      <td>NaN</td>\n      <td>NaN</td>\n      <td>NaN</td>\n      <td>NaN</td>\n      <td>NaN</td>\n      <td>NaN</td>\n      <td>NaN</td>\n      <td>NaN</td>\n    </tr>\n    <tr>\n      <th>17</th>\n      <td>1.0</td>\n      <td>Hailley</td>\n      <td>Andrey</td>\n      <td>1</td>\n      <td>1.0</td>\n      <td>3068.0</td>\n      <td>1</td>\n      <td>58.0</td>\n      <td>169.0</td>\n      <td>1.0</td>\n      <td>...</td>\n      <td>NaN</td>\n      <td>NaN</td>\n      <td>NaN</td>\n      <td>NaN</td>\n      <td>NaN</td>\n      <td>NaN</td>\n      <td>NaN</td>\n      <td>NaN</td>\n      <td>NaN</td>\n      <td>NaN</td>\n    </tr>\n    <tr>\n      <th>22</th>\n      <td>2.0</td>\n      <td>Hailley</td>\n      <td>Andrey</td>\n      <td>1</td>\n      <td>1.0</td>\n      <td>3074.0</td>\n      <td>1</td>\n      <td>54.0</td>\n      <td>NaN</td>\n      <td>2.0</td>\n      <td>...</td>\n      <td>NaN</td>\n      <td>NaN</td>\n      <td>NaN</td>\n      <td>NaN</td>\n      <td>NaN</td>\n      <td>NaN</td>\n      <td>NaN</td>\n      <td>NaN</td>\n      <td>NaN</td>\n      <td>NaN</td>\n    </tr>\n    <tr>\n      <th>29</th>\n      <td>1.0</td>\n      <td>Hailley</td>\n      <td>Andrey</td>\n      <td>1</td>\n      <td>1.0</td>\n      <td>3082.0</td>\n      <td>1</td>\n      <td>77.0</td>\n      <td>NaN</td>\n      <td>1.0</td>\n      <td>...</td>\n      <td>NaN</td>\n      <td>NaN</td>\n      <td>NaN</td>\n      <td>NaN</td>\n      <td>NaN</td>\n      <td>NaN</td>\n      <td>NaN</td>\n      <td>NaN</td>\n      <td>NaN</td>\n      <td>NaN</td>\n    </tr>\n    <tr>\n      <th>...</th>\n      <td>...</td>\n      <td>...</td>\n      <td>...</td>\n      <td>...</td>\n      <td>...</td>\n      <td>...</td>\n      <td>...</td>\n      <td>...</td>\n      <td>...</td>\n      <td>...</td>\n      <td>...</td>\n      <td>...</td>\n      <td>...</td>\n      <td>...</td>\n      <td>...</td>\n      <td>...</td>\n      <td>...</td>\n      <td>...</td>\n      <td>...</td>\n      <td>...</td>\n      <td>...</td>\n    </tr>\n    <tr>\n      <th>1</th>\n      <td>1.0</td>\n      <td>Andrey</td>\n      <td>NaN</td>\n      <td>1</td>\n      <td>1.0</td>\n      <td>3050.0</td>\n      <td>1</td>\n      <td>51.0</td>\n      <td>NaN</td>\n      <td>2.0</td>\n      <td>...</td>\n      <td>NaN</td>\n      <td>NaN</td>\n      <td>NaN</td>\n      <td>NaN</td>\n      <td>NaN</td>\n      <td>NaN</td>\n      <td>NaN</td>\n      <td>NaN</td>\n      <td>NaN</td>\n      <td>NaN</td>\n    </tr>\n    <tr>\n      <th>2</th>\n      <td>1.0</td>\n      <td>Andrey</td>\n      <td>NaN</td>\n      <td>1</td>\n      <td>1.0</td>\n      <td>3051.0</td>\n      <td>1</td>\n      <td>63.0</td>\n      <td>NaN</td>\n      <td>1.0</td>\n      <td>...</td>\n      <td>NaN</td>\n      <td>NaN</td>\n      <td>NaN</td>\n      <td>NaN</td>\n      <td>NaN</td>\n      <td>NaN</td>\n      <td>NaN</td>\n      <td>NaN</td>\n      <td>NaN</td>\n      <td>NaN</td>\n    </tr>\n    <tr>\n      <th>9</th>\n      <td>2.0</td>\n      <td>Andrey</td>\n      <td>NaN</td>\n      <td>1</td>\n      <td>1.0</td>\n      <td>3058.0</td>\n      <td>1</td>\n      <td>74.0</td>\n      <td>NaN</td>\n      <td>2.0</td>\n      <td>...</td>\n      <td>NaN</td>\n      <td>NaN</td>\n      <td>NaN</td>\n      <td>NaN</td>\n      <td>NaN</td>\n      <td>NaN</td>\n      <td>NaN</td>\n      <td>NaN</td>\n      <td>NaN</td>\n      <td>NaN</td>\n    </tr>\n    <tr>\n      <th>308</th>\n      <td>1.0</td>\n      <td>Andrey</td>\n      <td>NaN</td>\n      <td>1</td>\n      <td>1.0</td>\n      <td>3433.0</td>\n      <td>1</td>\n      <td>62.0</td>\n      <td>NaN</td>\n      <td>1.0</td>\n      <td>...</td>\n      <td>NaN</td>\n      <td>NaN</td>\n      <td>NaN</td>\n      <td>NaN</td>\n      <td>NaN</td>\n      <td>NaN</td>\n      <td>NaN</td>\n      <td>NaN</td>\n      <td>NaN</td>\n      <td>NaN</td>\n    </tr>\n    <tr>\n      <th>389</th>\n      <td>1.0</td>\n      <td>NaN</td>\n      <td>NaN</td>\n      <td>1</td>\n      <td>1.0</td>\n      <td>3535.0</td>\n      <td>1</td>\n      <td>81.0</td>\n      <td>NaN</td>\n      <td>1.0</td>\n      <td>...</td>\n      <td>NaN</td>\n      <td>NaN</td>\n      <td>NaN</td>\n      <td>NaN</td>\n      <td>NaN</td>\n      <td>NaN</td>\n      <td>NaN</td>\n      <td>NaN</td>\n      <td>NaN</td>\n      <td>NaN</td>\n    </tr>\n  </tbody>\n</table>\n<p>106 rows × 90 columns</p>\n</div>"
     },
     "execution_count": 52,
     "metadata": {},
     "output_type": "execute_result"
    }
   ],
   "source": [
    "#Filter the original data for outliers\n",
    "#Any deviation of mechanical axis of 10 or more from normal, according to either Nav or XR measurement\n",
    "varus_valgus_outliers = varus_valgus_original[(abs(varus_valgus_original['PreOp Mechanical axis']) >= 10) |\n",
    "                                              (abs(varus_valgus_original['Nav PreOp Measurement (degree; Valgus is negative)']) >= 10)]\n",
    "varus_valgus_outliers"
   ]
  },
  {
   "cell_type": "code",
   "execution_count": 53,
   "metadata": {
    "pycharm": {
     "name": "#%%\n"
    }
   },
   "outputs": [
    {
     "data": {
      "text/plain": "          PreOp Mechanical axis  \\\nStudy ID                          \n7                          13.0   \n17                         15.0   \n22                         12.0   \n29                         12.0   \n38                         12.0   \n...                         ...   \n497                        12.0   \n498                        13.0   \n1                          11.0   \n2                          10.0   \n389                        11.0   \n\n          Nav PreOp Measurement (degree; Valgus is negative)  \nStudy ID                                                      \n7                                                      10.0   \n17                                                     11.5   \n22                                                     10.0   \n29                                                     10.0   \n38                                                     10.5   \n...                                                     ...   \n497                                                    10.0   \n498                                                    10.0   \n1                                                       9.0   \n2                                                       8.0   \n389                                                     9.0   \n\n[89 rows x 2 columns]",
      "text/html": "<div>\n<style scoped>\n    .dataframe tbody tr th:only-of-type {\n        vertical-align: middle;\n    }\n\n    .dataframe tbody tr th {\n        vertical-align: top;\n    }\n\n    .dataframe thead th {\n        text-align: right;\n    }\n</style>\n<table border=\"1\" class=\"dataframe\">\n  <thead>\n    <tr style=\"text-align: right;\">\n      <th></th>\n      <th>PreOp Mechanical axis</th>\n      <th>Nav PreOp Measurement (degree; Valgus is negative)</th>\n    </tr>\n    <tr>\n      <th>Study ID</th>\n      <th></th>\n      <th></th>\n    </tr>\n  </thead>\n  <tbody>\n    <tr>\n      <th>7</th>\n      <td>13.0</td>\n      <td>10.0</td>\n    </tr>\n    <tr>\n      <th>17</th>\n      <td>15.0</td>\n      <td>11.5</td>\n    </tr>\n    <tr>\n      <th>22</th>\n      <td>12.0</td>\n      <td>10.0</td>\n    </tr>\n    <tr>\n      <th>29</th>\n      <td>12.0</td>\n      <td>10.0</td>\n    </tr>\n    <tr>\n      <th>38</th>\n      <td>12.0</td>\n      <td>10.5</td>\n    </tr>\n    <tr>\n      <th>...</th>\n      <td>...</td>\n      <td>...</td>\n    </tr>\n    <tr>\n      <th>497</th>\n      <td>12.0</td>\n      <td>10.0</td>\n    </tr>\n    <tr>\n      <th>498</th>\n      <td>13.0</td>\n      <td>10.0</td>\n    </tr>\n    <tr>\n      <th>1</th>\n      <td>11.0</td>\n      <td>9.0</td>\n    </tr>\n    <tr>\n      <th>2</th>\n      <td>10.0</td>\n      <td>8.0</td>\n    </tr>\n    <tr>\n      <th>389</th>\n      <td>11.0</td>\n      <td>9.0</td>\n    </tr>\n  </tbody>\n</table>\n<p>89 rows × 2 columns</p>\n</div>"
     },
     "execution_count": 53,
     "metadata": {},
     "output_type": "execute_result"
    }
   ],
   "source": [
    "#Verify varus valgus discrepancy b/w Nav and manual\n",
    "varus_outliers = varus_valgus_outliers = varus_valgus_outliers[(varus_valgus_outliers['PreOp Mechanical axis'] >= 10) |\n",
    "                                                              (varus_valgus_outliers['Nav PreOp Measurement (degree; Valgus is negative)'] >= 10)]\n",
    "\n",
    "#Display discrepancies where XR measurement of mechanical axis does not equal NAV data\n",
    "varus_outliers[varus_outliers['PreOp Mechanical axis'] != varus_outliers['Nav PreOp Measurement (degree; Valgus is negative)']][['PreOp Mechanical axis', 'Nav PreOp Measurement (degree; Valgus is negative)']]"
   ]
  },
  {
   "cell_type": "code",
   "execution_count": 54,
   "metadata": {
    "pycharm": {
     "name": "#%%\n"
    }
   },
   "outputs": [
    {
     "data": {
      "text/plain": "          Laterality (Right =1; Left = 2) Team Member Med Hist Review  \\\nStudy ID                                                                \n7                                     2.0                     Hailley   \n15                                    2.0                     Hailley   \n17                                    1.0                     Hailley   \n22                                    2.0                     Hailley   \n29                                    1.0                     Hailley   \n...                                   ...                         ...   \n497                                   2.0                     Hailley   \n498                                   1.0                     Hailley   \n1                                     1.0                      Andrey   \n2                                     1.0                     Andrey    \n389                                   1.0                         NaN   \n\n         Team Member XRay Review Meets Inclusion: (Y=1; N=2)  \\\nStudy ID                                                       \n7                         Andrey                           1   \n15                        Andrey                           1   \n17                        Andrey                           1   \n22                        Andrey                           1   \n29                        Andrey                           1   \n...                          ...                         ...   \n497                          NaN                           1   \n498                          NaN                           1   \n1                            NaN                           1   \n2                            NaN                           1   \n389                          NaN                           1   \n\n          Nav or Conventional (Nav=1; Con=2)   Nav #  \\\nStudy ID                                               \n7                                        1.0  3056.0   \n15                                       1.0  3066.0   \n17                                       1.0  3068.0   \n22                                       1.0  3074.0   \n29                                       1.0  3082.0   \n...                                      ...     ...   \n497                                      1.0  3661.0   \n498                                      1.0  3663.0   \n1                                        1.0  3050.0   \n2                                        1.0  3051.0   \n389                                      1.0  3535.0   \n\n         MD (Phillips = 1; Rachala = 2)  Age at Surgery  Length of FU (Days)  \\\nStudy ID                                                                       \n7                                     1            69.0                123.0   \n15                                    1            71.0                106.0   \n17                                    1            58.0                169.0   \n22                                    1            54.0                  NaN   \n29                                    1            77.0                  NaN   \n...                                 ...             ...                  ...   \n497                                   1            57.0                362.0   \n498                                   1            74.0                328.0   \n1                                     1            51.0                  NaN   \n2                                     1            63.0                  NaN   \n389                                   1            81.0                  NaN   \n\n          Sex (M=1; F=2)  ...  KSS-Functional Knee Score 3 mo  \\\nStudy ID                  ...                                   \n7                    2.0  ...                             NaN   \n15                   1.0  ...                             NaN   \n17                   1.0  ...                             NaN   \n22                   2.0  ...                             NaN   \n29                   1.0  ...                             NaN   \n...                  ...  ...                             ...   \n497                  2.0  ...                             NaN   \n498                  1.0  ...                            20.0   \n1                    2.0  ...                             NaN   \n2                    1.0  ...                             NaN   \n389                  1.0  ...                             NaN   \n\n          KSS-Functional Knee Score 1 yr  \\\nStudy ID                                   \n7                                    NaN   \n15                                   NaN   \n17                                   NaN   \n22                                   NaN   \n29                                   NaN   \n...                                  ...   \n497                                  NaN   \n498                                  NaN   \n1                                    NaN   \n2                                    NaN   \n389                                  NaN   \n\n          KSS-Objective Knee Score (Pain) Score 2 wk  \\\nStudy ID                                               \n7                                                NaN   \n15                                               NaN   \n17                                               NaN   \n22                                               NaN   \n29                                               NaN   \n...                                              ...   \n497                                              NaN   \n498                                              NaN   \n1                                                NaN   \n2                                                NaN   \n389                                              NaN   \n\n         KSS-Objective Knee Score (Pain) Score 6 wk  \\\nStudy ID                                              \n7                                               NaN   \n15                                              NaN   \n17                                              NaN   \n22                                              NaN   \n29                                              NaN   \n...                                             ...   \n497                                             NaN   \n498                                             NaN   \n1                                               NaN   \n2                                               NaN   \n389                                             NaN   \n\n         KSS-Objective Knee Score (Pain) Score 3 mo  \\\nStudy ID                                              \n7                                               NaN   \n15                                              NaN   \n17                                              NaN   \n22                                              NaN   \n29                                              NaN   \n...                                             ...   \n497                                             NaN   \n498                                            50.0   \n1                                               NaN   \n2                                               NaN   \n389                                             NaN   \n\n         KSS-Objective Knee Score (Pain) Score 1 yr  LEAS Score 2 wk  \\\nStudy ID                                                               \n7                                               NaN              NaN   \n15                                              NaN              NaN   \n17                                              NaN              NaN   \n22                                              NaN              NaN   \n29                                              NaN              NaN   \n...                                             ...              ...   \n497                                             NaN              NaN   \n498                                             NaN              NaN   \n1                                               NaN              NaN   \n2                                               NaN              NaN   \n389                                             NaN              NaN   \n\n         LEAS Score 6 wk LEAS Score 3 mo  LEAS Score 1 yr  \nStudy ID                                                   \n7                    NaN             NaN              NaN  \n15                   NaN             NaN              NaN  \n17                   NaN             NaN              NaN  \n22                   NaN             NaN              NaN  \n29                   NaN             NaN              NaN  \n...                  ...             ...              ...  \n497                  NaN             NaN              NaN  \n498                  NaN             6.0              NaN  \n1                    NaN             NaN              NaN  \n2                    NaN             NaN              NaN  \n389                  NaN             NaN              NaN  \n\n[94 rows x 90 columns]",
      "text/html": "<div>\n<style scoped>\n    .dataframe tbody tr th:only-of-type {\n        vertical-align: middle;\n    }\n\n    .dataframe tbody tr th {\n        vertical-align: top;\n    }\n\n    .dataframe thead th {\n        text-align: right;\n    }\n</style>\n<table border=\"1\" class=\"dataframe\">\n  <thead>\n    <tr style=\"text-align: right;\">\n      <th></th>\n      <th>Laterality (Right =1; Left = 2)</th>\n      <th>Team Member Med Hist Review</th>\n      <th>Team Member XRay Review</th>\n      <th>Meets Inclusion: (Y=1; N=2)</th>\n      <th>Nav or Conventional (Nav=1; Con=2)</th>\n      <th>Nav #</th>\n      <th>MD (Phillips = 1; Rachala = 2)</th>\n      <th>Age at Surgery</th>\n      <th>Length of FU (Days)</th>\n      <th>Sex (M=1; F=2)</th>\n      <th>...</th>\n      <th>KSS-Functional Knee Score 3 mo</th>\n      <th>KSS-Functional Knee Score 1 yr</th>\n      <th>KSS-Objective Knee Score (Pain) Score 2 wk</th>\n      <th>KSS-Objective Knee Score (Pain) Score 6 wk</th>\n      <th>KSS-Objective Knee Score (Pain) Score 3 mo</th>\n      <th>KSS-Objective Knee Score (Pain) Score 1 yr</th>\n      <th>LEAS Score 2 wk</th>\n      <th>LEAS Score 6 wk</th>\n      <th>LEAS Score 3 mo</th>\n      <th>LEAS Score 1 yr</th>\n    </tr>\n    <tr>\n      <th>Study ID</th>\n      <th></th>\n      <th></th>\n      <th></th>\n      <th></th>\n      <th></th>\n      <th></th>\n      <th></th>\n      <th></th>\n      <th></th>\n      <th></th>\n      <th></th>\n      <th></th>\n      <th></th>\n      <th></th>\n      <th></th>\n      <th></th>\n      <th></th>\n      <th></th>\n      <th></th>\n      <th></th>\n      <th></th>\n    </tr>\n  </thead>\n  <tbody>\n    <tr>\n      <th>7</th>\n      <td>2.0</td>\n      <td>Hailley</td>\n      <td>Andrey</td>\n      <td>1</td>\n      <td>1.0</td>\n      <td>3056.0</td>\n      <td>1</td>\n      <td>69.0</td>\n      <td>123.0</td>\n      <td>2.0</td>\n      <td>...</td>\n      <td>NaN</td>\n      <td>NaN</td>\n      <td>NaN</td>\n      <td>NaN</td>\n      <td>NaN</td>\n      <td>NaN</td>\n      <td>NaN</td>\n      <td>NaN</td>\n      <td>NaN</td>\n      <td>NaN</td>\n    </tr>\n    <tr>\n      <th>15</th>\n      <td>2.0</td>\n      <td>Hailley</td>\n      <td>Andrey</td>\n      <td>1</td>\n      <td>1.0</td>\n      <td>3066.0</td>\n      <td>1</td>\n      <td>71.0</td>\n      <td>106.0</td>\n      <td>1.0</td>\n      <td>...</td>\n      <td>NaN</td>\n      <td>NaN</td>\n      <td>NaN</td>\n      <td>NaN</td>\n      <td>NaN</td>\n      <td>NaN</td>\n      <td>NaN</td>\n      <td>NaN</td>\n      <td>NaN</td>\n      <td>NaN</td>\n    </tr>\n    <tr>\n      <th>17</th>\n      <td>1.0</td>\n      <td>Hailley</td>\n      <td>Andrey</td>\n      <td>1</td>\n      <td>1.0</td>\n      <td>3068.0</td>\n      <td>1</td>\n      <td>58.0</td>\n      <td>169.0</td>\n      <td>1.0</td>\n      <td>...</td>\n      <td>NaN</td>\n      <td>NaN</td>\n      <td>NaN</td>\n      <td>NaN</td>\n      <td>NaN</td>\n      <td>NaN</td>\n      <td>NaN</td>\n      <td>NaN</td>\n      <td>NaN</td>\n      <td>NaN</td>\n    </tr>\n    <tr>\n      <th>22</th>\n      <td>2.0</td>\n      <td>Hailley</td>\n      <td>Andrey</td>\n      <td>1</td>\n      <td>1.0</td>\n      <td>3074.0</td>\n      <td>1</td>\n      <td>54.0</td>\n      <td>NaN</td>\n      <td>2.0</td>\n      <td>...</td>\n      <td>NaN</td>\n      <td>NaN</td>\n      <td>NaN</td>\n      <td>NaN</td>\n      <td>NaN</td>\n      <td>NaN</td>\n      <td>NaN</td>\n      <td>NaN</td>\n      <td>NaN</td>\n      <td>NaN</td>\n    </tr>\n    <tr>\n      <th>29</th>\n      <td>1.0</td>\n      <td>Hailley</td>\n      <td>Andrey</td>\n      <td>1</td>\n      <td>1.0</td>\n      <td>3082.0</td>\n      <td>1</td>\n      <td>77.0</td>\n      <td>NaN</td>\n      <td>1.0</td>\n      <td>...</td>\n      <td>NaN</td>\n      <td>NaN</td>\n      <td>NaN</td>\n      <td>NaN</td>\n      <td>NaN</td>\n      <td>NaN</td>\n      <td>NaN</td>\n      <td>NaN</td>\n      <td>NaN</td>\n      <td>NaN</td>\n    </tr>\n    <tr>\n      <th>...</th>\n      <td>...</td>\n      <td>...</td>\n      <td>...</td>\n      <td>...</td>\n      <td>...</td>\n      <td>...</td>\n      <td>...</td>\n      <td>...</td>\n      <td>...</td>\n      <td>...</td>\n      <td>...</td>\n      <td>...</td>\n      <td>...</td>\n      <td>...</td>\n      <td>...</td>\n      <td>...</td>\n      <td>...</td>\n      <td>...</td>\n      <td>...</td>\n      <td>...</td>\n      <td>...</td>\n    </tr>\n    <tr>\n      <th>497</th>\n      <td>2.0</td>\n      <td>Hailley</td>\n      <td>NaN</td>\n      <td>1</td>\n      <td>1.0</td>\n      <td>3661.0</td>\n      <td>1</td>\n      <td>57.0</td>\n      <td>362.0</td>\n      <td>2.0</td>\n      <td>...</td>\n      <td>NaN</td>\n      <td>NaN</td>\n      <td>NaN</td>\n      <td>NaN</td>\n      <td>NaN</td>\n      <td>NaN</td>\n      <td>NaN</td>\n      <td>NaN</td>\n      <td>NaN</td>\n      <td>NaN</td>\n    </tr>\n    <tr>\n      <th>498</th>\n      <td>1.0</td>\n      <td>Hailley</td>\n      <td>NaN</td>\n      <td>1</td>\n      <td>1.0</td>\n      <td>3663.0</td>\n      <td>1</td>\n      <td>74.0</td>\n      <td>328.0</td>\n      <td>1.0</td>\n      <td>...</td>\n      <td>20.0</td>\n      <td>NaN</td>\n      <td>NaN</td>\n      <td>NaN</td>\n      <td>50.0</td>\n      <td>NaN</td>\n      <td>NaN</td>\n      <td>NaN</td>\n      <td>6.0</td>\n      <td>NaN</td>\n    </tr>\n    <tr>\n      <th>1</th>\n      <td>1.0</td>\n      <td>Andrey</td>\n      <td>NaN</td>\n      <td>1</td>\n      <td>1.0</td>\n      <td>3050.0</td>\n      <td>1</td>\n      <td>51.0</td>\n      <td>NaN</td>\n      <td>2.0</td>\n      <td>...</td>\n      <td>NaN</td>\n      <td>NaN</td>\n      <td>NaN</td>\n      <td>NaN</td>\n      <td>NaN</td>\n      <td>NaN</td>\n      <td>NaN</td>\n      <td>NaN</td>\n      <td>NaN</td>\n      <td>NaN</td>\n    </tr>\n    <tr>\n      <th>2</th>\n      <td>1.0</td>\n      <td>Andrey</td>\n      <td>NaN</td>\n      <td>1</td>\n      <td>1.0</td>\n      <td>3051.0</td>\n      <td>1</td>\n      <td>63.0</td>\n      <td>NaN</td>\n      <td>1.0</td>\n      <td>...</td>\n      <td>NaN</td>\n      <td>NaN</td>\n      <td>NaN</td>\n      <td>NaN</td>\n      <td>NaN</td>\n      <td>NaN</td>\n      <td>NaN</td>\n      <td>NaN</td>\n      <td>NaN</td>\n      <td>NaN</td>\n    </tr>\n    <tr>\n      <th>389</th>\n      <td>1.0</td>\n      <td>NaN</td>\n      <td>NaN</td>\n      <td>1</td>\n      <td>1.0</td>\n      <td>3535.0</td>\n      <td>1</td>\n      <td>81.0</td>\n      <td>NaN</td>\n      <td>1.0</td>\n      <td>...</td>\n      <td>NaN</td>\n      <td>NaN</td>\n      <td>NaN</td>\n      <td>NaN</td>\n      <td>NaN</td>\n      <td>NaN</td>\n      <td>NaN</td>\n      <td>NaN</td>\n      <td>NaN</td>\n      <td>NaN</td>\n    </tr>\n  </tbody>\n</table>\n<p>94 rows × 90 columns</p>\n</div>"
     },
     "execution_count": 54,
     "metadata": {},
     "output_type": "execute_result"
    }
   ],
   "source": [
    "#Favor XR measurements over Nav\n",
    "varus_outliers = varus_valgus_outliers[(varus_valgus_outliers['PreOp Mechanical axis'] >= 10)]\n",
    "varus_outliers"
   ]
  },
  {
   "cell_type": "code",
   "execution_count": 58,
   "metadata": {
    "pycharm": {
     "name": "#%%\n"
    }
   },
   "outputs": [
    {
     "data": {
      "text/plain": "                                                    count        mean  \\\nAge at Surgery                                       94.0   67.276596   \nLength of FU (Days)                                  79.0  553.012658   \nBMI (kg/m2)                                          94.0   34.844536   \nNav PreOp Measurement (degree; Valgus is negative)   94.0   12.085106   \nNav PostOp Measurement (degree; Valgus is negat...   94.0    1.415426   \nPreOp Extension (degrees; hyperextension is neg...   93.0    6.777419   \nPostOp Extension at Final FU (degrees; hyperext...   93.0    2.284946   \nPreOp Flexion (degrees)                              93.0  133.645161   \nPostOp Flexion (degrees)                             92.0  132.451087   \nTourniquet time (min)                                69.0   11.768116   \nOR time (min)                                        69.0   72.130435   \nEstimated Blood Loss (ml)                            57.0   83.070175   \nPreOp Mechanical axis                                94.0   13.765957   \n3mo PostOp Mechanical axis                           92.0    1.815217   \nFinal FU Mechanical axis                             92.0    1.815217   \nPreOp Posterior Tibial Slope                         92.0   11.097826   \nPostOp Posterior Tibial Slope                        94.0    3.095745   \nPreOp Proximal Medial Tibial Angle                   94.0   82.042553   \nPostOp Proximal Medial Tibial Angle                  91.0   88.967033   \nPreOp Lateral Distal Femoral Angle                   94.0   90.223404   \n3 mo PostOp Lateral Distal Femoral Angle             92.0   89.858696   \nFinal FU Lateral Distal Femoral Angle                92.0   89.750000   \nPostOp Patellar Tilt                                 93.0    7.193548   \n\n                                                           std         min  \\\nAge at Surgery                                        8.880817   51.000000   \nLength of FU (Days)                                 582.060167   43.000000   \nBMI (kg/m2)                                           9.214818   20.938965   \nNav PreOp Measurement (degree; Valgus is negative)    3.420085  -11.500000   \nNav PostOp Measurement (degree; Valgus is negat...    1.063470   -1.000000   \nPreOp Extension (degrees; hyperextension is neg...    6.996414  -12.000000   \nPostOp Extension at Final FU (degrees; hyperext...    1.315455   -2.000000   \nPreOp Flexion (degrees)                               9.296324  107.500000   \nPostOp Flexion (degrees)                              9.229986  113.000000   \nTourniquet time (min)                                12.382560    4.000000   \nOR time (min)                                        17.337407   31.000000   \nEstimated Blood Loss (ml)                            58.368858   10.000000   \nPreOp Mechanical axis                                 3.380607   10.000000   \n3mo PostOp Mechanical axis                            2.213492   -1.000000   \nFinal FU Mechanical axis                              2.043103   -1.000000   \nPreOp Posterior Tibial Slope                          4.232423    3.000000   \nPostOp Posterior Tibial Slope                         2.048179    0.000000   \nPreOp Proximal Medial Tibial Angle                    3.416956   74.000000   \nPostOp Proximal Medial Tibial Angle                   1.566671   83.000000   \nPreOp Lateral Distal Femoral Angle                    2.878001   83.000000   \n3 mo PostOp Lateral Distal Femoral Angle              1.732568   82.000000   \nFinal FU Lateral Distal Femoral Angle                 1.764267   85.000000   \nPostOp Patellar Tilt                                  4.998387    0.000000   \n\n                                                           25%         50%  \\\nAge at Surgery                                       61.000000   66.500000   \nLength of FU (Days)                                 208.500000  372.000000   \nBMI (kg/m2)                                          27.366786   33.363734   \nNav PreOp Measurement (degree; Valgus is negative)   10.500000   12.000000   \nNav PostOp Measurement (degree; Valgus is negat...    0.500000    1.500000   \nPreOp Extension (degrees; hyperextension is neg...    2.500000    7.500000   \nPostOp Extension at Final FU (degrees; hyperext...    1.500000    2.500000   \nPreOp Flexion (degrees)                             129.000000  134.500000   \nPostOp Flexion (degrees)                            126.500000  131.750000   \nTourniquet time (min)                                 5.000000    7.000000   \nOR time (min)                                        60.000000   67.000000   \nEstimated Blood Loss (ml)                            50.000000   65.000000   \nPreOp Mechanical axis                                11.000000   13.000000   \n3mo PostOp Mechanical axis                            1.000000    1.000000   \nFinal FU Mechanical axis                              0.000000    1.000000   \nPreOp Posterior Tibial Slope                          8.000000   11.000000   \nPostOp Posterior Tibial Slope                         2.000000    3.000000   \nPreOp Proximal Medial Tibial Angle                   80.000000   82.000000   \nPostOp Proximal Medial Tibial Angle                  88.000000   89.000000   \nPreOp Lateral Distal Femoral Angle                   89.000000   90.000000   \n3 mo PostOp Lateral Distal Femoral Angle             89.000000   90.000000   \nFinal FU Lateral Distal Femoral Angle                89.000000   90.000000   \nPostOp Patellar Tilt                                  4.000000    6.000000   \n\n                                                          75%          max  \nAge at Surgery                                       73.00000    89.000000  \nLength of FU (Days)                                 714.00000  4068.000000  \nBMI (kg/m2)                                          40.33359    63.409927  \nNav PreOp Measurement (degree; Valgus is negative)   13.50000    22.000000  \nNav PostOp Measurement (degree; Valgus is negat...    2.00000     4.000000  \nPreOp Extension (degrees; hyperextension is neg...   10.50000    23.500000  \nPostOp Extension at Final FU (degrees; hyperext...    3.00000     5.000000  \nPreOp Flexion (degrees)                             139.50000   162.500000  \nPostOp Flexion (degrees)                            136.75000   160.500000  \nTourniquet time (min)                                12.00000    71.000000  \nOR time (min)                                        83.00000   116.000000  \nEstimated Blood Loss (ml)                           100.00000   300.000000  \nPreOp Mechanical axis                                15.00000    30.000000  \n3mo PostOp Mechanical axis                            2.00000    12.000000  \nFinal FU Mechanical axis                              2.25000    10.000000  \nPreOp Posterior Tibial Slope                         14.00000    22.000000  \nPostOp Posterior Tibial Slope                         4.00000     9.000000  \nPreOp Proximal Medial Tibial Angle                   84.00000    93.000000  \nPostOp Proximal Medial Tibial Angle                  90.00000    93.000000  \nPreOp Lateral Distal Femoral Angle                   92.00000    98.000000  \n3 mo PostOp Lateral Distal Femoral Angle             91.00000    95.000000  \nFinal FU Lateral Distal Femoral Angle                90.25000    96.000000  \nPostOp Patellar Tilt                                  9.00000    24.000000  ",
      "text/html": "<div>\n<style scoped>\n    .dataframe tbody tr th:only-of-type {\n        vertical-align: middle;\n    }\n\n    .dataframe tbody tr th {\n        vertical-align: top;\n    }\n\n    .dataframe thead th {\n        text-align: right;\n    }\n</style>\n<table border=\"1\" class=\"dataframe\">\n  <thead>\n    <tr style=\"text-align: right;\">\n      <th></th>\n      <th>count</th>\n      <th>mean</th>\n      <th>std</th>\n      <th>min</th>\n      <th>25%</th>\n      <th>50%</th>\n      <th>75%</th>\n      <th>max</th>\n    </tr>\n  </thead>\n  <tbody>\n    <tr>\n      <th>Age at Surgery</th>\n      <td>94.0</td>\n      <td>67.276596</td>\n      <td>8.880817</td>\n      <td>51.000000</td>\n      <td>61.000000</td>\n      <td>66.500000</td>\n      <td>73.00000</td>\n      <td>89.000000</td>\n    </tr>\n    <tr>\n      <th>Length of FU (Days)</th>\n      <td>79.0</td>\n      <td>553.012658</td>\n      <td>582.060167</td>\n      <td>43.000000</td>\n      <td>208.500000</td>\n      <td>372.000000</td>\n      <td>714.00000</td>\n      <td>4068.000000</td>\n    </tr>\n    <tr>\n      <th>BMI (kg/m2)</th>\n      <td>94.0</td>\n      <td>34.844536</td>\n      <td>9.214818</td>\n      <td>20.938965</td>\n      <td>27.366786</td>\n      <td>33.363734</td>\n      <td>40.33359</td>\n      <td>63.409927</td>\n    </tr>\n    <tr>\n      <th>Nav PreOp Measurement (degree; Valgus is negative)</th>\n      <td>94.0</td>\n      <td>12.085106</td>\n      <td>3.420085</td>\n      <td>-11.500000</td>\n      <td>10.500000</td>\n      <td>12.000000</td>\n      <td>13.50000</td>\n      <td>22.000000</td>\n    </tr>\n    <tr>\n      <th>Nav PostOp Measurement (degree; Valgus is negative)</th>\n      <td>94.0</td>\n      <td>1.415426</td>\n      <td>1.063470</td>\n      <td>-1.000000</td>\n      <td>0.500000</td>\n      <td>1.500000</td>\n      <td>2.00000</td>\n      <td>4.000000</td>\n    </tr>\n    <tr>\n      <th>PreOp Extension (degrees; hyperextension is negative)</th>\n      <td>93.0</td>\n      <td>6.777419</td>\n      <td>6.996414</td>\n      <td>-12.000000</td>\n      <td>2.500000</td>\n      <td>7.500000</td>\n      <td>10.50000</td>\n      <td>23.500000</td>\n    </tr>\n    <tr>\n      <th>PostOp Extension at Final FU (degrees; hyperextension is negative)</th>\n      <td>93.0</td>\n      <td>2.284946</td>\n      <td>1.315455</td>\n      <td>-2.000000</td>\n      <td>1.500000</td>\n      <td>2.500000</td>\n      <td>3.00000</td>\n      <td>5.000000</td>\n    </tr>\n    <tr>\n      <th>PreOp Flexion (degrees)</th>\n      <td>93.0</td>\n      <td>133.645161</td>\n      <td>9.296324</td>\n      <td>107.500000</td>\n      <td>129.000000</td>\n      <td>134.500000</td>\n      <td>139.50000</td>\n      <td>162.500000</td>\n    </tr>\n    <tr>\n      <th>PostOp Flexion (degrees)</th>\n      <td>92.0</td>\n      <td>132.451087</td>\n      <td>9.229986</td>\n      <td>113.000000</td>\n      <td>126.500000</td>\n      <td>131.750000</td>\n      <td>136.75000</td>\n      <td>160.500000</td>\n    </tr>\n    <tr>\n      <th>Tourniquet time (min)</th>\n      <td>69.0</td>\n      <td>11.768116</td>\n      <td>12.382560</td>\n      <td>4.000000</td>\n      <td>5.000000</td>\n      <td>7.000000</td>\n      <td>12.00000</td>\n      <td>71.000000</td>\n    </tr>\n    <tr>\n      <th>OR time (min)</th>\n      <td>69.0</td>\n      <td>72.130435</td>\n      <td>17.337407</td>\n      <td>31.000000</td>\n      <td>60.000000</td>\n      <td>67.000000</td>\n      <td>83.00000</td>\n      <td>116.000000</td>\n    </tr>\n    <tr>\n      <th>Estimated Blood Loss (ml)</th>\n      <td>57.0</td>\n      <td>83.070175</td>\n      <td>58.368858</td>\n      <td>10.000000</td>\n      <td>50.000000</td>\n      <td>65.000000</td>\n      <td>100.00000</td>\n      <td>300.000000</td>\n    </tr>\n    <tr>\n      <th>PreOp Mechanical axis</th>\n      <td>94.0</td>\n      <td>13.765957</td>\n      <td>3.380607</td>\n      <td>10.000000</td>\n      <td>11.000000</td>\n      <td>13.000000</td>\n      <td>15.00000</td>\n      <td>30.000000</td>\n    </tr>\n    <tr>\n      <th>3mo PostOp Mechanical axis</th>\n      <td>92.0</td>\n      <td>1.815217</td>\n      <td>2.213492</td>\n      <td>-1.000000</td>\n      <td>1.000000</td>\n      <td>1.000000</td>\n      <td>2.00000</td>\n      <td>12.000000</td>\n    </tr>\n    <tr>\n      <th>Final FU Mechanical axis</th>\n      <td>92.0</td>\n      <td>1.815217</td>\n      <td>2.043103</td>\n      <td>-1.000000</td>\n      <td>0.000000</td>\n      <td>1.000000</td>\n      <td>2.25000</td>\n      <td>10.000000</td>\n    </tr>\n    <tr>\n      <th>PreOp Posterior Tibial Slope</th>\n      <td>92.0</td>\n      <td>11.097826</td>\n      <td>4.232423</td>\n      <td>3.000000</td>\n      <td>8.000000</td>\n      <td>11.000000</td>\n      <td>14.00000</td>\n      <td>22.000000</td>\n    </tr>\n    <tr>\n      <th>PostOp Posterior Tibial Slope</th>\n      <td>94.0</td>\n      <td>3.095745</td>\n      <td>2.048179</td>\n      <td>0.000000</td>\n      <td>2.000000</td>\n      <td>3.000000</td>\n      <td>4.00000</td>\n      <td>9.000000</td>\n    </tr>\n    <tr>\n      <th>PreOp Proximal Medial Tibial Angle</th>\n      <td>94.0</td>\n      <td>82.042553</td>\n      <td>3.416956</td>\n      <td>74.000000</td>\n      <td>80.000000</td>\n      <td>82.000000</td>\n      <td>84.00000</td>\n      <td>93.000000</td>\n    </tr>\n    <tr>\n      <th>PostOp Proximal Medial Tibial Angle</th>\n      <td>91.0</td>\n      <td>88.967033</td>\n      <td>1.566671</td>\n      <td>83.000000</td>\n      <td>88.000000</td>\n      <td>89.000000</td>\n      <td>90.00000</td>\n      <td>93.000000</td>\n    </tr>\n    <tr>\n      <th>PreOp Lateral Distal Femoral Angle</th>\n      <td>94.0</td>\n      <td>90.223404</td>\n      <td>2.878001</td>\n      <td>83.000000</td>\n      <td>89.000000</td>\n      <td>90.000000</td>\n      <td>92.00000</td>\n      <td>98.000000</td>\n    </tr>\n    <tr>\n      <th>3 mo PostOp Lateral Distal Femoral Angle</th>\n      <td>92.0</td>\n      <td>89.858696</td>\n      <td>1.732568</td>\n      <td>82.000000</td>\n      <td>89.000000</td>\n      <td>90.000000</td>\n      <td>91.00000</td>\n      <td>95.000000</td>\n    </tr>\n    <tr>\n      <th>Final FU Lateral Distal Femoral Angle</th>\n      <td>92.0</td>\n      <td>89.750000</td>\n      <td>1.764267</td>\n      <td>85.000000</td>\n      <td>89.000000</td>\n      <td>90.000000</td>\n      <td>90.25000</td>\n      <td>96.000000</td>\n    </tr>\n    <tr>\n      <th>PostOp Patellar Tilt</th>\n      <td>93.0</td>\n      <td>7.193548</td>\n      <td>4.998387</td>\n      <td>0.000000</td>\n      <td>4.000000</td>\n      <td>6.000000</td>\n      <td>9.00000</td>\n      <td>24.000000</td>\n    </tr>\n  </tbody>\n</table>\n</div>"
     },
     "execution_count": 58,
     "metadata": {},
     "output_type": "execute_result"
    }
   ],
   "source": [
    "#Varus Continuous\n",
    "#Define a function to obtain descriptive statistics for a df\n",
    "def get_descr_stats(df, column_names):\n",
    "    return df[column_names].describe().transpose()\n",
    "\n",
    "\n",
    "#Lists of columns for continuous varus data\n",
    "basic_columns = [\"Age at Surgery\", \"Length of FU (Days)\", \"BMI (kg/m2)\"]\n",
    "nav_columns = varus_outliers.columns.values[19:21].tolist()\n",
    "misc_columns = varus_outliers.columns.values[24:31].tolist()\n",
    "xr_columns = varus_outliers.columns.values[41:52].tolist()\n",
    "column_continuous_lst = basic_columns + nav_columns + misc_columns + xr_columns\n",
    "\n",
    "\n",
    "#Compute descriptive statistics\n",
    "varus_outliers_descr_stats = get_descr_stats(varus_outliers, column_continuous_lst)\n",
    "varus_outliers_descr_stats\n",
    "#type(varus_outliers['PreOp Flexion (degrees)'][1])"
   ]
  },
  {
   "cell_type": "code",
   "execution_count": 62,
   "outputs": [
    {
     "data": {
      "text/plain": "Smoker (Current=1; Former=2; Never=3)      1          2          3\nLaterality (Right =1; Left = 2) count   4.00  36.000000  53.000000\n                                mean    1.75   1.666667   1.471698\n                                std     0.50   0.478091   0.503975\n                                min     1.00   1.000000   1.000000\n                                25%     1.75   1.000000   1.000000\n...                                      ...        ...        ...\nLEAS Score 1 yr                 min    13.00   9.000000   5.000000\n                                25%    13.00  12.750000   7.500000\n                                50%    13.00  14.000000  10.000000\n                                75%    13.00  14.000000  10.500000\n                                max    13.00  14.000000  11.000000\n\n[496 rows x 3 columns]",
      "text/html": "<div>\n<style scoped>\n    .dataframe tbody tr th:only-of-type {\n        vertical-align: middle;\n    }\n\n    .dataframe tbody tr th {\n        vertical-align: top;\n    }\n\n    .dataframe thead th {\n        text-align: right;\n    }\n</style>\n<table border=\"1\" class=\"dataframe\">\n  <thead>\n    <tr style=\"text-align: right;\">\n      <th></th>\n      <th>Smoker (Current=1; Former=2; Never=3)</th>\n      <th>1</th>\n      <th>2</th>\n      <th>3</th>\n    </tr>\n  </thead>\n  <tbody>\n    <tr>\n      <th rowspan=\"5\" valign=\"top\">Laterality (Right =1; Left = 2)</th>\n      <th>count</th>\n      <td>4.00</td>\n      <td>36.000000</td>\n      <td>53.000000</td>\n    </tr>\n    <tr>\n      <th>mean</th>\n      <td>1.75</td>\n      <td>1.666667</td>\n      <td>1.471698</td>\n    </tr>\n    <tr>\n      <th>std</th>\n      <td>0.50</td>\n      <td>0.478091</td>\n      <td>0.503975</td>\n    </tr>\n    <tr>\n      <th>min</th>\n      <td>1.00</td>\n      <td>1.000000</td>\n      <td>1.000000</td>\n    </tr>\n    <tr>\n      <th>25%</th>\n      <td>1.75</td>\n      <td>1.000000</td>\n      <td>1.000000</td>\n    </tr>\n    <tr>\n      <th>...</th>\n      <th>...</th>\n      <td>...</td>\n      <td>...</td>\n      <td>...</td>\n    </tr>\n    <tr>\n      <th rowspan=\"5\" valign=\"top\">LEAS Score 1 yr</th>\n      <th>min</th>\n      <td>13.00</td>\n      <td>9.000000</td>\n      <td>5.000000</td>\n    </tr>\n    <tr>\n      <th>25%</th>\n      <td>13.00</td>\n      <td>12.750000</td>\n      <td>7.500000</td>\n    </tr>\n    <tr>\n      <th>50%</th>\n      <td>13.00</td>\n      <td>14.000000</td>\n      <td>10.000000</td>\n    </tr>\n    <tr>\n      <th>75%</th>\n      <td>13.00</td>\n      <td>14.000000</td>\n      <td>10.500000</td>\n    </tr>\n    <tr>\n      <th>max</th>\n      <td>13.00</td>\n      <td>14.000000</td>\n      <td>11.000000</td>\n    </tr>\n  </tbody>\n</table>\n<p>496 rows × 3 columns</p>\n</div>"
     },
     "execution_count": 62,
     "metadata": {},
     "output_type": "execute_result"
    }
   ],
   "source": [
    "#Only Phillips Data in the outliers subset\n",
    "#Group Analysis Example\n",
    "smoker_groups = varus_outliers.groupby('Smoker (Current=1; Former=2; Never=3)').describe().transpose()\n",
    "smoker_groups"
   ],
   "metadata": {
    "collapsed": false,
    "pycharm": {
     "name": "#%%\n"
    }
   }
  },
  {
   "cell_type": "code",
   "execution_count": 69,
   "outputs": [
    {
     "name": "stdout",
     "output_type": "stream",
     "text": [
      "Index(['Laterality (Right =1; Left = 2)', 'Team Member Med Hist Review',\n",
      "       'Team Member XRay Review', 'Meets Inclusion: (Y=1; N=2)',\n",
      "       'Nav or Conventional (Nav=1; Con=2)', 'Nav #',\n",
      "       'MD (Phillips = 1; Rachala = 2)', 'Age at Surgery',\n",
      "       'Length of FU (Days)', 'Sex (M=1; F=2)', 'Ht (in)', 'Wt (lbs)',\n",
      "       'BMI (kg/m2)', 'Osteoporosis/Osteopenia (Y=1; N=2)',\n",
      "       'Smoker (Current=1; Former=2; Never=3)', 'Diabetes (Y=1; N=2)',\n",
      "       'Comorbitities (Less than or equal to two = 1; Three or more = 2) WRITE \"Less\" or \"More\"',\n",
      "       'Diagnosis (OA = 1; IA = 2; PTOA = 3; OA + IA = 4; OA + PTOA = 5)',\n",
      "       'Presence of PreOp Flexion Contracture (Y=1; N=2)',\n",
      "       'Nav PreOp Measurement (degree; Valgus is negative)',\n",
      "       'Nav PostOp Measurement (degree; Valgus is negative)',\n",
      "       'Nav PreOp Check', 'Nav PostOp Check', 'Group (Control=1; Outlier=2)',\n",
      "       'PreOp Extension (degrees; hyperextension is negative)',\n",
      "       'PostOp Extension at Final FU (degrees; hyperextension is negative)',\n",
      "       'PreOp Flexion (degrees)', 'PostOp Flexion (degrees)',\n",
      "       'Tourniquet time (min)', 'OR time (min)', 'Estimated Blood Loss (ml)',\n",
      "       'Tibial plateau fracture (Y=1; N=2)', 'Tibial component size',\n",
      "       'Femoral component size', 'Length of Stay (days)',\n",
      "       'Discharge destination (1=home; 2=rehab)',\n",
      "       'Readmission w/in 90 days (Y=1; N=2)', 'Reason for Readmission',\n",
      "       'Reoperation (Y=1; N=2)', 'Reason for reoperation',\n",
      "       'PostOp Infection  (Y=1; N=2)', 'PreOp Mechanical axis',\n",
      "       '3mo PostOp Mechanical axis', 'Final FU Mechanical axis',\n",
      "       'PreOp Posterior Tibial Slope', 'PostOp Posterior Tibial Slope',\n",
      "       'PreOp Proximal Medial Tibial Angle',\n",
      "       'PostOp Proximal Medial Tibial Angle',\n",
      "       'PreOp Lateral Distal Femoral Angle',\n",
      "       '3 mo PostOp Lateral Distal Femoral Angle',\n",
      "       'Final FU Lateral Distal Femoral Angle', 'PostOp Patellar Tilt',\n",
      "       'Evidence of Hardware Failure (Y=1; N=2)', 'Fracture   (Y=1; N=2)',\n",
      "       'Subsidence   (Y=1; N=2)', 'Loosening   (Y=1; N=2)',\n",
      "       'Polyethylene Wear (Y=1; N=2)',\n",
      "       '3mo PostOp Radiolucent lines (Y=1; N=2)',\n",
      "       'Final FU Radiolucent lines (Y=1; N=2)',\n",
      "       '3mo PostOp Stress shielding (Y=1; N=2)',\n",
      "       'Final FU Stress shielding (Y=1; N=2)',\n",
      "       'UBMD General Function VAS Score 2 wk',\n",
      "       'UBMD General Function VAS Score 6 wk',\n",
      "       'UBMD General Function VAS Score 3 mo',\n",
      "       'UBMD General Function VAS Score 1 yr',\n",
      "       'UBMD General Pain VAS Score 2 wk', 'UBMD General Pain VAS Score 6 wk',\n",
      "       'UBMD General Pain VAS Score 3 mo', 'UBMD General Pain VAS Score 1 yr',\n",
      "       'SF-12 Physical Health Score 6 wk', 'SF-12 Physical Health Score 3 mo',\n",
      "       'SF-12 Physical Health Score 1 yr', 'VR-12 Physical Score 6 wk',\n",
      "       'VR-12 Physical Score 3 mo', 'VR-12 Physical Score 1 yr',\n",
      "       'VR6D Score 6 wk', 'VR6D Score 3 mo', 'VR6D Score 1 yr',\n",
      "       'KSS-Functional Knee Score 2 wk', 'KSS-Functional Knee Score 6 wk',\n",
      "       'KSS-Functional Knee Score 3 mo', 'KSS-Functional Knee Score 1 yr',\n",
      "       'KSS-Objective Knee Score (Pain) Score 2 wk',\n",
      "       'KSS-Objective Knee Score (Pain) Score 6 wk',\n",
      "       'KSS-Objective Knee Score (Pain) Score 3 mo',\n",
      "       'KSS-Objective Knee Score (Pain) Score 1 yr', 'LEAS Score 2 wk',\n",
      "       'LEAS Score 6 wk', 'LEAS Score 3 mo', 'LEAS Score 1 yr'],\n",
      "      dtype='object')\n"
     ]
    }
   ],
   "source": [
    "#Varus Categorical\n",
    "column_categorical_lst = ['MD (Phillips = 1; Rachala = 2)', 'Sex (M=1; F=2)', 'Osteoporosis/Osteopenia (Y=1; N=2)', 'Smoker (Current=1; Former=2; Never=3)', 'Diabetes (Y=1; N=2)', 'Comorbitities (Less than or equal to two = 1; Three or more = 2) WRITE \"Less\" or \"More\"', 'Diagnosis (OA = 1; IA = 2; PTOA = 3; OA + IA = 4; OA + PTOA = 5)', 'Presence of PreOp Flexion Contracture (Y=1; N=2)', 'Tibial plateau fracture (Y=1; N=2)', 'Tibial component size', 'Femoral component size', 'Discharge destination (1=home; 2=rehab)', 'Readmission w/in 90 days (Y=1; N=2)', 'Reoperation (Y=1; N=2)', 'PostOp Infection  (Y=1; N=2)', 'Evidence of Hardware Failure (Y=1; N=2)', 'Fracture   (Y=1; N=2)', 'Subsidence   (Y=1; N=2)', 'Loosening   (Y=1; N=2)', 'Polyethylene Wear (Y=1; N=2)', '3mo PostOp Radiolucent lines (Y=1; N=2)', 'Final FU Radiolucent lines (Y=1; N=2)', '3mo PostOp Stress shielding (Y=1; N=2)', 'Final FU Stress shielding (Y=1; N=2)']\n",
    "\n"
   ],
   "metadata": {
    "collapsed": false,
    "pycharm": {
     "name": "#%%\n"
    }
   }
  },
  {
   "cell_type": "code",
   "execution_count": null,
   "outputs": [],
   "source": [],
   "metadata": {
    "collapsed": false,
    "pycharm": {
     "name": "#%%\n"
    }
   }
  }
 ],
 "metadata": {
  "kernelspec": {
   "display_name": "Python 3 (ipykernel)",
   "language": "python",
   "name": "python3"
  },
  "language_info": {
   "codemirror_mode": {
    "name": "ipython",
    "version": 3
   },
   "file_extension": ".py",
   "mimetype": "text/x-python",
   "name": "python",
   "nbconvert_exporter": "python",
   "pygments_lexer": "ipython3",
   "version": "3.10.4"
  }
 },
 "nbformat": 4,
 "nbformat_minor": 1
}