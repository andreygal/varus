{
 "cells": [
  {
   "cell_type": "code",
   "execution_count": 640,
   "metadata": {
    "pycharm": {
     "name": "#%%\n"
    }
   },
   "outputs": [],
   "source": [
    "#Packages\n",
    "import pandas as pd\n"
   ]
  },
  {
   "cell_type": "code",
   "execution_count": 641,
   "metadata": {
    "pycharm": {
     "name": "#%%\n"
    }
   },
   "outputs": [],
   "source": [
    "\n",
    "\n",
    "#Specify column data types for read_excel 'dtype' parameter using a dictionary\n",
    "#Can we convert some of these into boolean types and enums\n",
    "varus_valgus_dtypes = {\n",
    "    'Study ID':int,\n",
    "    'Laterality (Right =1; Left = 2)':pd.Int64Dtype(),\n",
    "    'Team Member Med Hist Review':str,\n",
    "    'Team Member XRay Review':str,\n",
    "    'Meets Inclusion: (Y=1; N=2)':str,\n",
    "    'Nav or Conventional (Nav=1; Con=2)':pd.Int64Dtype(),\n",
    "    'Nav #':pd.Int64Dtype(),\n",
    "    'MD (Phillips = 1; Rachala = 2)':str,\n",
    "    'Age at Surgery':pd.Int64Dtype(),\n",
    "    'Length of FU (Days)':pd.Int64Dtype(),\n",
    "    'Sex (M=1; F=2)':pd.Int64Dtype(),\n",
    "    'Ht (in)':float,\n",
    "    'Wt (lbs)':float,\n",
    "    'BMI (kg/m2)':float,\n",
    "    'Osteoporosis/Osteopenia (Y=1; N=2)':str,\n",
    "    'Smoker (Current=1; Former=2; Never=3)':str,\n",
    "    'Diabetes (Y=1; N=2)':str,\n",
    "    'Comorbitities (Less than or equal to two = 1; Three or more = 2) WRITE \"Less\" or \"More\"':pd.Int64Dtype(),\n",
    "    'Diagnosis (OA = 1; IA = 2; PTOA = 3; OA + IA = 4; OA + PTOA = 5)':str,\n",
    "    'Presence of PreOp Flexion Contracture (Y=1; N=2)':str,\n",
    "    'Nav PreOp Measurement (degree; Valgus is negative)':float,\n",
    "    'Nav PostOp Measurement (degree; Valgus is negative)':float,\n",
    "    'Nav PreOp Check':str,\n",
    "    'Nav PostOp Check':str,\n",
    "    'Group (Control=1; Outlier=2)':str,\n",
    "    'PreOp Extension (degrees; hyperextension is negative)':float,\n",
    "    'PostOp Extension at Final FU (degrees; hyperextension is negative)':float,\n",
    "    'PreOp Flexion (degrees)':float,\n",
    "    'PostOp Flexion (degrees)':float,\n",
    "    'Tourniquet time (min)':pd.Int64Dtype(),\n",
    "    'OR time (min)':pd.Int64Dtype(),\n",
    "    'Estimated Blood Loss (ml)':pd.Int64Dtype(),\n",
    "    'Tibial plateau fracture (Y=1; N=2)':str,\n",
    "    'Tibial component size':pd.Int64Dtype(),\n",
    "    'Femoral component size':pd.Int64Dtype(),\n",
    "    'Length of Stay (days)':pd.Int64Dtype(),\n",
    "    'Discharge destination (1=home; 2=rehab)':str,\n",
    "    'Readmission w/in 90 days (Y=1; N=2)':str,\n",
    "    'Reason for Readmission':str,\n",
    "    'Reoperation (Y=1; N=2)':str,\n",
    "    'Reason for reoperation':str,\n",
    "    'PostOp Infection  (Y=1; N=2)':str,\n",
    "    'PreOp Mechanical axis':pd.Int64Dtype(),\n",
    "    '3mo PostOp Mechanical axis':pd.Int64Dtype(),\n",
    "    'Final FU Mechanical axis':pd.Int64Dtype(),\n",
    "    'PreOp Posterior Tibial Slope':pd.Int64Dtype(),\n",
    "    'PostOp Posterior Tibial Slope':pd.Int64Dtype(),\n",
    "    'PreOp Proximal Medial Tibial Angle':pd.Int64Dtype(),\n",
    "    'PostOp Proximal Medial Tibial Angle':pd.Int64Dtype(),\n",
    "    'PreOp Lateral Distal Femoral Angle':pd.Int64Dtype(),\n",
    "    '3 mo PostOp Lateral Distal Femoral Angle':pd.Int64Dtype(),\n",
    "    'Final FU Lateral Distal Femoral Angle':pd.Int64Dtype(),\n",
    "    'PostOp Patellar Tilt':pd.Int64Dtype(),\n",
    "    'Evidence of Hardware Failure (Y=1; N=2)':str,\n",
    "    'Fracture   (Y=1; N=2)':str,\n",
    "    'Subsidence   (Y=1; N=2)':str,\n",
    "    'Loosening   (Y=1; N=2)':str,\n",
    "    'Polyethylene Wear (Y=1; N=2)':str,\n",
    "    '3mo PostOp Radiolucent lines (Y=1; N=2)':str,\n",
    "    'Final FU Radiolucent lines (Y=1; N=2)':str,\n",
    "    '3mo PostOp Stress shielding (Y=1; N=2)':str,\n",
    "    'Final FU Stress shielding (Y=1; N=2)':str,\n",
    "    'UBMD General Function VAS Score 2 wk':pd.Int64Dtype(),\n",
    "    'UBMD General Function VAS Score 6 wk':pd.Int64Dtype(),\n",
    "    'UBMD General Function VAS Score 3 mo':pd.Int64Dtype(),\n",
    "    'UBMD General Function VAS Score 1 yr':pd.Int64Dtype(),\n",
    "    'UBMD General Pain VAS Score 2 wk':pd.Int64Dtype(),\n",
    "    'UBMD General Pain VAS Score 6 wk':pd.Int64Dtype(),\n",
    "    'UBMD General Pain VAS Score 3 mo':pd.Int64Dtype(),\n",
    "    'UBMD General Pain VAS Score 1 yr':pd.Int64Dtype(),\n",
    "    'SF-12 Physical Health Score 6 wk':pd.Int64Dtype(),\n",
    "    'SF-12 Physical Health Score 3 mo':pd.Int64Dtype(),\n",
    "    'SF-12 Physical Health Score 1 yr':pd.Int64Dtype(),\n",
    "    'VR-12 Physical Score 6 wk':pd.Int64Dtype(),\n",
    "    'VR-12 Physical Score 3 mo':pd.Int64Dtype(),\n",
    "    'VR-12 Physical Score 1 yr':pd.Int64Dtype(),\n",
    "    'VR6D Score 6 wk':pd.Int64Dtype(),\n",
    "    'VR6D Score 3 mo':pd.Int64Dtype(),\n",
    "    'VR6D Score 1 yr':pd.Int64Dtype(),\n",
    "    'KSS-Functional Knee Score 2 wk':pd.Int64Dtype(),\n",
    "    'KSS-Functional Knee Score 6 wk':pd.Int64Dtype(),\n",
    "    'KSS-Functional Knee Score 3 mo':pd.Int64Dtype(),\n",
    "    'KSS-Functional Knee Score 1 yr':pd.Int64Dtype(),\n",
    "    'KSS-Objective Knee Score (Pain) Score 2 wk':pd.Int64Dtype(),\n",
    "    'KSS-Objective Knee Score (Pain) Score 6 wk':pd.Int64Dtype(),\n",
    "    'KSS-Objective Knee Score (Pain) Score 3 mo':pd.Int64Dtype(),\n",
    "    'KSS-Objective Knee Score (Pain) Score 1 yr':pd.Int64Dtype(),\n",
    "    'LEAS Score 2 wk':pd.Int64Dtype(),\n",
    "    'LEAS Score 6 wk':pd.Int64Dtype(),\n",
    "    'LEAS Score 3 mo':pd.Int64Dtype(),\n",
    "    'LEAS Score 1 yr':pd.Int64Dtype()\n",
    "}\n",
    "\n",
    "#Read-in the data file\n",
    "varus_valgus_original = pd.read_excel('varus_valgus.xlsx', dtype=varus_valgus_dtypes)\n",
    "\n",
    "\n",
    "#Questions for the group:\n",
    "# Will we treat varus and valgus separately?\n",
    "# Will we look at Rachala and Philips separately or as a group?"
   ]
  },
  {
   "cell_type": "code",
   "execution_count": 642,
   "metadata": {
    "pycharm": {
     "name": "#%%\n"
    }
   },
   "outputs": [],
   "source": [
    "#Consider a dual index for outliers (use zip command and hier_index)\n",
    "varus_valgus_original.set_index('Study ID', inplace=True)"
   ]
  },
  {
   "cell_type": "code",
   "execution_count": 643,
   "metadata": {
    "pycharm": {
     "name": "#%%\n"
    }
   },
   "outputs": [],
   "source": [
    "#Data cleaning step (missing data etc.)\n",
    "#df.dropna(axis=1) for columns df.fillna()"
   ]
  },
  {
   "cell_type": "code",
   "execution_count": 644,
   "metadata": {
    "pycharm": {
     "name": "#%%\n"
    }
   },
   "outputs": [
    {
     "data": {
      "text/plain": "          Laterality (Right =1; Left = 2) Team Member Med Hist Review  \\\nStudy ID                                                                \n7                                       2                     Hailley   \n15                                      2                     Hailley   \n17                                      1                     Hailley   \n22                                      2                     Hailley   \n29                                      1                     Hailley   \n...                                   ...                         ...   \n1                                       1                      Andrey   \n2                                       1                     Andrey    \n9                                       2                      Andrey   \n308                                     1                      Andrey   \n389                                     1                         NaN   \n\n         Team Member XRay Review Meets Inclusion: (Y=1; N=2)  \\\nStudy ID                                                       \n7                         Andrey                           1   \n15                        Andrey                           1   \n17                        Andrey                           1   \n22                        Andrey                           1   \n29                        Andrey                           1   \n...                          ...                         ...   \n1                            NaN                           1   \n2                            NaN                           1   \n9                            NaN                           1   \n308                          NaN                           1   \n389                          NaN                           1   \n\n          Nav or Conventional (Nav=1; Con=2)  Nav #  \\\nStudy ID                                              \n7                                          1   3056   \n15                                         1   3066   \n17                                         1   3068   \n22                                         1   3074   \n29                                         1   3082   \n...                                      ...    ...   \n1                                          1   3050   \n2                                          1   3051   \n9                                          1   3058   \n308                                        1   3433   \n389                                        1   3535   \n\n         MD (Phillips = 1; Rachala = 2)  Age at Surgery  Length of FU (Days)  \\\nStudy ID                                                                       \n7                                     1              69                  123   \n15                                    1              71                  106   \n17                                    1              58                  169   \n22                                    1              54                 <NA>   \n29                                    1              77                 <NA>   \n...                                 ...             ...                  ...   \n1                                     1              51                 <NA>   \n2                                     1              63                 <NA>   \n9                                     1              74                 <NA>   \n308                                   1              62                 <NA>   \n389                                   1              81                 <NA>   \n\n          Sex (M=1; F=2)  ...  KSS-Functional Knee Score 3 mo  \\\nStudy ID                  ...                                   \n7                      2  ...                            <NA>   \n15                     1  ...                            <NA>   \n17                     1  ...                            <NA>   \n22                     2  ...                            <NA>   \n29                     1  ...                            <NA>   \n...                  ...  ...                             ...   \n1                      2  ...                            <NA>   \n2                      1  ...                            <NA>   \n9                      2  ...                            <NA>   \n308                    1  ...                            <NA>   \n389                    1  ...                            <NA>   \n\n          KSS-Functional Knee Score 1 yr  \\\nStudy ID                                   \n7                                   <NA>   \n15                                  <NA>   \n17                                  <NA>   \n22                                  <NA>   \n29                                  <NA>   \n...                                  ...   \n1                                   <NA>   \n2                                   <NA>   \n9                                   <NA>   \n308                                 <NA>   \n389                                 <NA>   \n\n          KSS-Objective Knee Score (Pain) Score 2 wk  \\\nStudy ID                                               \n7                                               <NA>   \n15                                              <NA>   \n17                                              <NA>   \n22                                              <NA>   \n29                                              <NA>   \n...                                              ...   \n1                                               <NA>   \n2                                               <NA>   \n9                                               <NA>   \n308                                             <NA>   \n389                                             <NA>   \n\n         KSS-Objective Knee Score (Pain) Score 6 wk  \\\nStudy ID                                              \n7                                              <NA>   \n15                                             <NA>   \n17                                             <NA>   \n22                                             <NA>   \n29                                             <NA>   \n...                                             ...   \n1                                              <NA>   \n2                                              <NA>   \n9                                              <NA>   \n308                                            <NA>   \n389                                            <NA>   \n\n         KSS-Objective Knee Score (Pain) Score 3 mo  \\\nStudy ID                                              \n7                                              <NA>   \n15                                             <NA>   \n17                                             <NA>   \n22                                             <NA>   \n29                                             <NA>   \n...                                             ...   \n1                                              <NA>   \n2                                              <NA>   \n9                                              <NA>   \n308                                            <NA>   \n389                                            <NA>   \n\n         KSS-Objective Knee Score (Pain) Score 1 yr  LEAS Score 2 wk  \\\nStudy ID                                                               \n7                                              <NA>             <NA>   \n15                                             <NA>             <NA>   \n17                                             <NA>             <NA>   \n22                                             <NA>             <NA>   \n29                                             <NA>             <NA>   \n...                                             ...              ...   \n1                                              <NA>             <NA>   \n2                                              <NA>             <NA>   \n9                                              <NA>             <NA>   \n308                                            <NA>             <NA>   \n389                                            <NA>             <NA>   \n\n         LEAS Score 6 wk LEAS Score 3 mo  LEAS Score 1 yr  \nStudy ID                                                   \n7                   <NA>            <NA>             <NA>  \n15                  <NA>            <NA>             <NA>  \n17                  <NA>            <NA>             <NA>  \n22                  <NA>            <NA>             <NA>  \n29                  <NA>            <NA>             <NA>  \n...                  ...             ...              ...  \n1                   <NA>            <NA>             <NA>  \n2                   <NA>            <NA>             <NA>  \n9                   <NA>            <NA>             <NA>  \n308                 <NA>            <NA>             <NA>  \n389                 <NA>            <NA>             <NA>  \n\n[106 rows x 90 columns]",
      "text/html": "<div>\n<style scoped>\n    .dataframe tbody tr th:only-of-type {\n        vertical-align: middle;\n    }\n\n    .dataframe tbody tr th {\n        vertical-align: top;\n    }\n\n    .dataframe thead th {\n        text-align: right;\n    }\n</style>\n<table border=\"1\" class=\"dataframe\">\n  <thead>\n    <tr style=\"text-align: right;\">\n      <th></th>\n      <th>Laterality (Right =1; Left = 2)</th>\n      <th>Team Member Med Hist Review</th>\n      <th>Team Member XRay Review</th>\n      <th>Meets Inclusion: (Y=1; N=2)</th>\n      <th>Nav or Conventional (Nav=1; Con=2)</th>\n      <th>Nav #</th>\n      <th>MD (Phillips = 1; Rachala = 2)</th>\n      <th>Age at Surgery</th>\n      <th>Length of FU (Days)</th>\n      <th>Sex (M=1; F=2)</th>\n      <th>...</th>\n      <th>KSS-Functional Knee Score 3 mo</th>\n      <th>KSS-Functional Knee Score 1 yr</th>\n      <th>KSS-Objective Knee Score (Pain) Score 2 wk</th>\n      <th>KSS-Objective Knee Score (Pain) Score 6 wk</th>\n      <th>KSS-Objective Knee Score (Pain) Score 3 mo</th>\n      <th>KSS-Objective Knee Score (Pain) Score 1 yr</th>\n      <th>LEAS Score 2 wk</th>\n      <th>LEAS Score 6 wk</th>\n      <th>LEAS Score 3 mo</th>\n      <th>LEAS Score 1 yr</th>\n    </tr>\n    <tr>\n      <th>Study ID</th>\n      <th></th>\n      <th></th>\n      <th></th>\n      <th></th>\n      <th></th>\n      <th></th>\n      <th></th>\n      <th></th>\n      <th></th>\n      <th></th>\n      <th></th>\n      <th></th>\n      <th></th>\n      <th></th>\n      <th></th>\n      <th></th>\n      <th></th>\n      <th></th>\n      <th></th>\n      <th></th>\n      <th></th>\n    </tr>\n  </thead>\n  <tbody>\n    <tr>\n      <th>7</th>\n      <td>2</td>\n      <td>Hailley</td>\n      <td>Andrey</td>\n      <td>1</td>\n      <td>1</td>\n      <td>3056</td>\n      <td>1</td>\n      <td>69</td>\n      <td>123</td>\n      <td>2</td>\n      <td>...</td>\n      <td>&lt;NA&gt;</td>\n      <td>&lt;NA&gt;</td>\n      <td>&lt;NA&gt;</td>\n      <td>&lt;NA&gt;</td>\n      <td>&lt;NA&gt;</td>\n      <td>&lt;NA&gt;</td>\n      <td>&lt;NA&gt;</td>\n      <td>&lt;NA&gt;</td>\n      <td>&lt;NA&gt;</td>\n      <td>&lt;NA&gt;</td>\n    </tr>\n    <tr>\n      <th>15</th>\n      <td>2</td>\n      <td>Hailley</td>\n      <td>Andrey</td>\n      <td>1</td>\n      <td>1</td>\n      <td>3066</td>\n      <td>1</td>\n      <td>71</td>\n      <td>106</td>\n      <td>1</td>\n      <td>...</td>\n      <td>&lt;NA&gt;</td>\n      <td>&lt;NA&gt;</td>\n      <td>&lt;NA&gt;</td>\n      <td>&lt;NA&gt;</td>\n      <td>&lt;NA&gt;</td>\n      <td>&lt;NA&gt;</td>\n      <td>&lt;NA&gt;</td>\n      <td>&lt;NA&gt;</td>\n      <td>&lt;NA&gt;</td>\n      <td>&lt;NA&gt;</td>\n    </tr>\n    <tr>\n      <th>17</th>\n      <td>1</td>\n      <td>Hailley</td>\n      <td>Andrey</td>\n      <td>1</td>\n      <td>1</td>\n      <td>3068</td>\n      <td>1</td>\n      <td>58</td>\n      <td>169</td>\n      <td>1</td>\n      <td>...</td>\n      <td>&lt;NA&gt;</td>\n      <td>&lt;NA&gt;</td>\n      <td>&lt;NA&gt;</td>\n      <td>&lt;NA&gt;</td>\n      <td>&lt;NA&gt;</td>\n      <td>&lt;NA&gt;</td>\n      <td>&lt;NA&gt;</td>\n      <td>&lt;NA&gt;</td>\n      <td>&lt;NA&gt;</td>\n      <td>&lt;NA&gt;</td>\n    </tr>\n    <tr>\n      <th>22</th>\n      <td>2</td>\n      <td>Hailley</td>\n      <td>Andrey</td>\n      <td>1</td>\n      <td>1</td>\n      <td>3074</td>\n      <td>1</td>\n      <td>54</td>\n      <td>&lt;NA&gt;</td>\n      <td>2</td>\n      <td>...</td>\n      <td>&lt;NA&gt;</td>\n      <td>&lt;NA&gt;</td>\n      <td>&lt;NA&gt;</td>\n      <td>&lt;NA&gt;</td>\n      <td>&lt;NA&gt;</td>\n      <td>&lt;NA&gt;</td>\n      <td>&lt;NA&gt;</td>\n      <td>&lt;NA&gt;</td>\n      <td>&lt;NA&gt;</td>\n      <td>&lt;NA&gt;</td>\n    </tr>\n    <tr>\n      <th>29</th>\n      <td>1</td>\n      <td>Hailley</td>\n      <td>Andrey</td>\n      <td>1</td>\n      <td>1</td>\n      <td>3082</td>\n      <td>1</td>\n      <td>77</td>\n      <td>&lt;NA&gt;</td>\n      <td>1</td>\n      <td>...</td>\n      <td>&lt;NA&gt;</td>\n      <td>&lt;NA&gt;</td>\n      <td>&lt;NA&gt;</td>\n      <td>&lt;NA&gt;</td>\n      <td>&lt;NA&gt;</td>\n      <td>&lt;NA&gt;</td>\n      <td>&lt;NA&gt;</td>\n      <td>&lt;NA&gt;</td>\n      <td>&lt;NA&gt;</td>\n      <td>&lt;NA&gt;</td>\n    </tr>\n    <tr>\n      <th>...</th>\n      <td>...</td>\n      <td>...</td>\n      <td>...</td>\n      <td>...</td>\n      <td>...</td>\n      <td>...</td>\n      <td>...</td>\n      <td>...</td>\n      <td>...</td>\n      <td>...</td>\n      <td>...</td>\n      <td>...</td>\n      <td>...</td>\n      <td>...</td>\n      <td>...</td>\n      <td>...</td>\n      <td>...</td>\n      <td>...</td>\n      <td>...</td>\n      <td>...</td>\n      <td>...</td>\n    </tr>\n    <tr>\n      <th>1</th>\n      <td>1</td>\n      <td>Andrey</td>\n      <td>NaN</td>\n      <td>1</td>\n      <td>1</td>\n      <td>3050</td>\n      <td>1</td>\n      <td>51</td>\n      <td>&lt;NA&gt;</td>\n      <td>2</td>\n      <td>...</td>\n      <td>&lt;NA&gt;</td>\n      <td>&lt;NA&gt;</td>\n      <td>&lt;NA&gt;</td>\n      <td>&lt;NA&gt;</td>\n      <td>&lt;NA&gt;</td>\n      <td>&lt;NA&gt;</td>\n      <td>&lt;NA&gt;</td>\n      <td>&lt;NA&gt;</td>\n      <td>&lt;NA&gt;</td>\n      <td>&lt;NA&gt;</td>\n    </tr>\n    <tr>\n      <th>2</th>\n      <td>1</td>\n      <td>Andrey</td>\n      <td>NaN</td>\n      <td>1</td>\n      <td>1</td>\n      <td>3051</td>\n      <td>1</td>\n      <td>63</td>\n      <td>&lt;NA&gt;</td>\n      <td>1</td>\n      <td>...</td>\n      <td>&lt;NA&gt;</td>\n      <td>&lt;NA&gt;</td>\n      <td>&lt;NA&gt;</td>\n      <td>&lt;NA&gt;</td>\n      <td>&lt;NA&gt;</td>\n      <td>&lt;NA&gt;</td>\n      <td>&lt;NA&gt;</td>\n      <td>&lt;NA&gt;</td>\n      <td>&lt;NA&gt;</td>\n      <td>&lt;NA&gt;</td>\n    </tr>\n    <tr>\n      <th>9</th>\n      <td>2</td>\n      <td>Andrey</td>\n      <td>NaN</td>\n      <td>1</td>\n      <td>1</td>\n      <td>3058</td>\n      <td>1</td>\n      <td>74</td>\n      <td>&lt;NA&gt;</td>\n      <td>2</td>\n      <td>...</td>\n      <td>&lt;NA&gt;</td>\n      <td>&lt;NA&gt;</td>\n      <td>&lt;NA&gt;</td>\n      <td>&lt;NA&gt;</td>\n      <td>&lt;NA&gt;</td>\n      <td>&lt;NA&gt;</td>\n      <td>&lt;NA&gt;</td>\n      <td>&lt;NA&gt;</td>\n      <td>&lt;NA&gt;</td>\n      <td>&lt;NA&gt;</td>\n    </tr>\n    <tr>\n      <th>308</th>\n      <td>1</td>\n      <td>Andrey</td>\n      <td>NaN</td>\n      <td>1</td>\n      <td>1</td>\n      <td>3433</td>\n      <td>1</td>\n      <td>62</td>\n      <td>&lt;NA&gt;</td>\n      <td>1</td>\n      <td>...</td>\n      <td>&lt;NA&gt;</td>\n      <td>&lt;NA&gt;</td>\n      <td>&lt;NA&gt;</td>\n      <td>&lt;NA&gt;</td>\n      <td>&lt;NA&gt;</td>\n      <td>&lt;NA&gt;</td>\n      <td>&lt;NA&gt;</td>\n      <td>&lt;NA&gt;</td>\n      <td>&lt;NA&gt;</td>\n      <td>&lt;NA&gt;</td>\n    </tr>\n    <tr>\n      <th>389</th>\n      <td>1</td>\n      <td>NaN</td>\n      <td>NaN</td>\n      <td>1</td>\n      <td>1</td>\n      <td>3535</td>\n      <td>1</td>\n      <td>81</td>\n      <td>&lt;NA&gt;</td>\n      <td>1</td>\n      <td>...</td>\n      <td>&lt;NA&gt;</td>\n      <td>&lt;NA&gt;</td>\n      <td>&lt;NA&gt;</td>\n      <td>&lt;NA&gt;</td>\n      <td>&lt;NA&gt;</td>\n      <td>&lt;NA&gt;</td>\n      <td>&lt;NA&gt;</td>\n      <td>&lt;NA&gt;</td>\n      <td>&lt;NA&gt;</td>\n      <td>&lt;NA&gt;</td>\n    </tr>\n  </tbody>\n</table>\n<p>106 rows × 90 columns</p>\n</div>"
     },
     "execution_count": 644,
     "metadata": {},
     "output_type": "execute_result"
    }
   ],
   "source": [
    "#Filter the original data for outliers\n",
    "#Any deviation of mechanical axis of 10 or more from normal, according to either Nav or XR measurement\n",
    "varus_valgus_outliers = varus_valgus_original[(abs(varus_valgus_original['PreOp Mechanical axis']) >= 10) |\n",
    "                                              (abs(varus_valgus_original['Nav PreOp Measurement (degree; Valgus is negative)']) >= 10)]\n",
    "varus_valgus_outliers"
   ]
  },
  {
   "cell_type": "code",
   "execution_count": 645,
   "metadata": {
    "pycharm": {
     "name": "#%%\n"
    }
   },
   "outputs": [
    {
     "data": {
      "text/plain": "          PreOp Mechanical axis  \\\nStudy ID                          \n7                            13   \n17                           15   \n22                           12   \n29                           12   \n38                           12   \n...                         ...   \n497                          12   \n498                          13   \n1                            11   \n2                            10   \n389                          11   \n\n          Nav PreOp Measurement (degree; Valgus is negative)  \nStudy ID                                                      \n7                                                     10.00   \n17                                                    11.50   \n22                                                    10.00   \n29                                                    10.00   \n38                                                    10.50   \n...                                                     ...   \n497                                                   10.00   \n498                                                   10.00   \n1                                                      9.00   \n2                                                      8.00   \n389                                                    9.00   \n\n[89 rows x 2 columns]",
      "text/html": "<div>\n<style scoped>\n    .dataframe tbody tr th:only-of-type {\n        vertical-align: middle;\n    }\n\n    .dataframe tbody tr th {\n        vertical-align: top;\n    }\n\n    .dataframe thead th {\n        text-align: right;\n    }\n</style>\n<table border=\"1\" class=\"dataframe\">\n  <thead>\n    <tr style=\"text-align: right;\">\n      <th></th>\n      <th>PreOp Mechanical axis</th>\n      <th>Nav PreOp Measurement (degree; Valgus is negative)</th>\n    </tr>\n    <tr>\n      <th>Study ID</th>\n      <th></th>\n      <th></th>\n    </tr>\n  </thead>\n  <tbody>\n    <tr>\n      <th>7</th>\n      <td>13</td>\n      <td>10.00</td>\n    </tr>\n    <tr>\n      <th>17</th>\n      <td>15</td>\n      <td>11.50</td>\n    </tr>\n    <tr>\n      <th>22</th>\n      <td>12</td>\n      <td>10.00</td>\n    </tr>\n    <tr>\n      <th>29</th>\n      <td>12</td>\n      <td>10.00</td>\n    </tr>\n    <tr>\n      <th>38</th>\n      <td>12</td>\n      <td>10.50</td>\n    </tr>\n    <tr>\n      <th>...</th>\n      <td>...</td>\n      <td>...</td>\n    </tr>\n    <tr>\n      <th>497</th>\n      <td>12</td>\n      <td>10.00</td>\n    </tr>\n    <tr>\n      <th>498</th>\n      <td>13</td>\n      <td>10.00</td>\n    </tr>\n    <tr>\n      <th>1</th>\n      <td>11</td>\n      <td>9.00</td>\n    </tr>\n    <tr>\n      <th>2</th>\n      <td>10</td>\n      <td>8.00</td>\n    </tr>\n    <tr>\n      <th>389</th>\n      <td>11</td>\n      <td>9.00</td>\n    </tr>\n  </tbody>\n</table>\n<p>89 rows × 2 columns</p>\n</div>"
     },
     "execution_count": 645,
     "metadata": {},
     "output_type": "execute_result"
    }
   ],
   "source": [
    "#Verify varus valgus discrepancy b/w Nav and manual\n",
    "varus_outliers = varus_valgus_outliers = varus_valgus_outliers[(varus_valgus_outliers['PreOp Mechanical axis'] >= 10) |\n",
    "                                                              (varus_valgus_outliers['Nav PreOp Measurement (degree; Valgus is negative)'] >= 10)]\n",
    "\n",
    "#Display discrepancies where XR measurement of mechanical axis does not equal NAV data\n",
    "varus_outliers[varus_outliers['PreOp Mechanical axis'] != varus_outliers['Nav PreOp Measurement (degree; Valgus is negative)']][['PreOp Mechanical axis', 'Nav PreOp Measurement (degree; Valgus is negative)']]"
   ]
  },
  {
   "cell_type": "code",
   "execution_count": 646,
   "metadata": {
    "pycharm": {
     "name": "#%%\n"
    }
   },
   "outputs": [],
   "source": [
    "#Filter the original data for outliers\n",
    "#Any deviation of mechanical axis of 10 or more from normal, according to either Nav or XR measurement\n",
    "varus_valgus_outliers = varus_valgus_original[(abs(varus_valgus_original['PreOp Mechanical axis']) >= 10) |\n",
    "                                              (abs(varus_valgus_original['Nav PreOp Measurement (degree; Valgus is negative)']) >= 10)]"
   ]
  },
  {
   "cell_type": "code",
   "execution_count": 647,
   "metadata": {
    "pycharm": {
     "name": "#%%\n"
    }
   },
   "outputs": [
    {
     "data": {
      "text/plain": "          Laterality (Right =1; Left = 2) Team Member Med Hist Review  \\\nStudy ID                                                                \n7                                       2                     Hailley   \n15                                      2                     Hailley   \n17                                      1                     Hailley   \n22                                      2                     Hailley   \n29                                      1                     Hailley   \n...                                   ...                         ...   \n497                                     2                     Hailley   \n498                                     1                     Hailley   \n1                                       1                      Andrey   \n2                                       1                     Andrey    \n389                                     1                         NaN   \n\n         Team Member XRay Review Meets Inclusion: (Y=1; N=2)  \\\nStudy ID                                                       \n7                         Andrey                           1   \n15                        Andrey                           1   \n17                        Andrey                           1   \n22                        Andrey                           1   \n29                        Andrey                           1   \n...                          ...                         ...   \n497                          NaN                           1   \n498                          NaN                           1   \n1                            NaN                           1   \n2                            NaN                           1   \n389                          NaN                           1   \n\n          Nav or Conventional (Nav=1; Con=2)  Nav #  \\\nStudy ID                                              \n7                                          1   3056   \n15                                         1   3066   \n17                                         1   3068   \n22                                         1   3074   \n29                                         1   3082   \n...                                      ...    ...   \n497                                        1   3661   \n498                                        1   3663   \n1                                          1   3050   \n2                                          1   3051   \n389                                        1   3535   \n\n         MD (Phillips = 1; Rachala = 2)  Age at Surgery  Length of FU (Days)  \\\nStudy ID                                                                       \n7                                     1              69                  123   \n15                                    1              71                  106   \n17                                    1              58                  169   \n22                                    1              54                 <NA>   \n29                                    1              77                 <NA>   \n...                                 ...             ...                  ...   \n497                                   1              57                  362   \n498                                   1              74                  328   \n1                                     1              51                 <NA>   \n2                                     1              63                 <NA>   \n389                                   1              81                 <NA>   \n\n          Sex (M=1; F=2)  ...  KSS-Functional Knee Score 3 mo  \\\nStudy ID                  ...                                   \n7                      2  ...                            <NA>   \n15                     1  ...                            <NA>   \n17                     1  ...                            <NA>   \n22                     2  ...                            <NA>   \n29                     1  ...                            <NA>   \n...                  ...  ...                             ...   \n497                    2  ...                            <NA>   \n498                    1  ...                              20   \n1                      2  ...                            <NA>   \n2                      1  ...                            <NA>   \n389                    1  ...                            <NA>   \n\n          KSS-Functional Knee Score 1 yr  \\\nStudy ID                                   \n7                                   <NA>   \n15                                  <NA>   \n17                                  <NA>   \n22                                  <NA>   \n29                                  <NA>   \n...                                  ...   \n497                                 <NA>   \n498                                 <NA>   \n1                                   <NA>   \n2                                   <NA>   \n389                                 <NA>   \n\n          KSS-Objective Knee Score (Pain) Score 2 wk  \\\nStudy ID                                               \n7                                               <NA>   \n15                                              <NA>   \n17                                              <NA>   \n22                                              <NA>   \n29                                              <NA>   \n...                                              ...   \n497                                             <NA>   \n498                                             <NA>   \n1                                               <NA>   \n2                                               <NA>   \n389                                             <NA>   \n\n         KSS-Objective Knee Score (Pain) Score 6 wk  \\\nStudy ID                                              \n7                                              <NA>   \n15                                             <NA>   \n17                                             <NA>   \n22                                             <NA>   \n29                                             <NA>   \n...                                             ...   \n497                                            <NA>   \n498                                            <NA>   \n1                                              <NA>   \n2                                              <NA>   \n389                                            <NA>   \n\n         KSS-Objective Knee Score (Pain) Score 3 mo  \\\nStudy ID                                              \n7                                              <NA>   \n15                                             <NA>   \n17                                             <NA>   \n22                                             <NA>   \n29                                             <NA>   \n...                                             ...   \n497                                            <NA>   \n498                                              50   \n1                                              <NA>   \n2                                              <NA>   \n389                                            <NA>   \n\n         KSS-Objective Knee Score (Pain) Score 1 yr  LEAS Score 2 wk  \\\nStudy ID                                                               \n7                                              <NA>             <NA>   \n15                                             <NA>             <NA>   \n17                                             <NA>             <NA>   \n22                                             <NA>             <NA>   \n29                                             <NA>             <NA>   \n...                                             ...              ...   \n497                                            <NA>             <NA>   \n498                                            <NA>             <NA>   \n1                                              <NA>             <NA>   \n2                                              <NA>             <NA>   \n389                                            <NA>             <NA>   \n\n         LEAS Score 6 wk LEAS Score 3 mo  LEAS Score 1 yr  \nStudy ID                                                   \n7                   <NA>            <NA>             <NA>  \n15                  <NA>            <NA>             <NA>  \n17                  <NA>            <NA>             <NA>  \n22                  <NA>            <NA>             <NA>  \n29                  <NA>            <NA>             <NA>  \n...                  ...             ...              ...  \n497                 <NA>            <NA>             <NA>  \n498                 <NA>               6             <NA>  \n1                   <NA>            <NA>             <NA>  \n2                   <NA>            <NA>             <NA>  \n389                 <NA>            <NA>             <NA>  \n\n[94 rows x 90 columns]",
      "text/html": "<div>\n<style scoped>\n    .dataframe tbody tr th:only-of-type {\n        vertical-align: middle;\n    }\n\n    .dataframe tbody tr th {\n        vertical-align: top;\n    }\n\n    .dataframe thead th {\n        text-align: right;\n    }\n</style>\n<table border=\"1\" class=\"dataframe\">\n  <thead>\n    <tr style=\"text-align: right;\">\n      <th></th>\n      <th>Laterality (Right =1; Left = 2)</th>\n      <th>Team Member Med Hist Review</th>\n      <th>Team Member XRay Review</th>\n      <th>Meets Inclusion: (Y=1; N=2)</th>\n      <th>Nav or Conventional (Nav=1; Con=2)</th>\n      <th>Nav #</th>\n      <th>MD (Phillips = 1; Rachala = 2)</th>\n      <th>Age at Surgery</th>\n      <th>Length of FU (Days)</th>\n      <th>Sex (M=1; F=2)</th>\n      <th>...</th>\n      <th>KSS-Functional Knee Score 3 mo</th>\n      <th>KSS-Functional Knee Score 1 yr</th>\n      <th>KSS-Objective Knee Score (Pain) Score 2 wk</th>\n      <th>KSS-Objective Knee Score (Pain) Score 6 wk</th>\n      <th>KSS-Objective Knee Score (Pain) Score 3 mo</th>\n      <th>KSS-Objective Knee Score (Pain) Score 1 yr</th>\n      <th>LEAS Score 2 wk</th>\n      <th>LEAS Score 6 wk</th>\n      <th>LEAS Score 3 mo</th>\n      <th>LEAS Score 1 yr</th>\n    </tr>\n    <tr>\n      <th>Study ID</th>\n      <th></th>\n      <th></th>\n      <th></th>\n      <th></th>\n      <th></th>\n      <th></th>\n      <th></th>\n      <th></th>\n      <th></th>\n      <th></th>\n      <th></th>\n      <th></th>\n      <th></th>\n      <th></th>\n      <th></th>\n      <th></th>\n      <th></th>\n      <th></th>\n      <th></th>\n      <th></th>\n      <th></th>\n    </tr>\n  </thead>\n  <tbody>\n    <tr>\n      <th>7</th>\n      <td>2</td>\n      <td>Hailley</td>\n      <td>Andrey</td>\n      <td>1</td>\n      <td>1</td>\n      <td>3056</td>\n      <td>1</td>\n      <td>69</td>\n      <td>123</td>\n      <td>2</td>\n      <td>...</td>\n      <td>&lt;NA&gt;</td>\n      <td>&lt;NA&gt;</td>\n      <td>&lt;NA&gt;</td>\n      <td>&lt;NA&gt;</td>\n      <td>&lt;NA&gt;</td>\n      <td>&lt;NA&gt;</td>\n      <td>&lt;NA&gt;</td>\n      <td>&lt;NA&gt;</td>\n      <td>&lt;NA&gt;</td>\n      <td>&lt;NA&gt;</td>\n    </tr>\n    <tr>\n      <th>15</th>\n      <td>2</td>\n      <td>Hailley</td>\n      <td>Andrey</td>\n      <td>1</td>\n      <td>1</td>\n      <td>3066</td>\n      <td>1</td>\n      <td>71</td>\n      <td>106</td>\n      <td>1</td>\n      <td>...</td>\n      <td>&lt;NA&gt;</td>\n      <td>&lt;NA&gt;</td>\n      <td>&lt;NA&gt;</td>\n      <td>&lt;NA&gt;</td>\n      <td>&lt;NA&gt;</td>\n      <td>&lt;NA&gt;</td>\n      <td>&lt;NA&gt;</td>\n      <td>&lt;NA&gt;</td>\n      <td>&lt;NA&gt;</td>\n      <td>&lt;NA&gt;</td>\n    </tr>\n    <tr>\n      <th>17</th>\n      <td>1</td>\n      <td>Hailley</td>\n      <td>Andrey</td>\n      <td>1</td>\n      <td>1</td>\n      <td>3068</td>\n      <td>1</td>\n      <td>58</td>\n      <td>169</td>\n      <td>1</td>\n      <td>...</td>\n      <td>&lt;NA&gt;</td>\n      <td>&lt;NA&gt;</td>\n      <td>&lt;NA&gt;</td>\n      <td>&lt;NA&gt;</td>\n      <td>&lt;NA&gt;</td>\n      <td>&lt;NA&gt;</td>\n      <td>&lt;NA&gt;</td>\n      <td>&lt;NA&gt;</td>\n      <td>&lt;NA&gt;</td>\n      <td>&lt;NA&gt;</td>\n    </tr>\n    <tr>\n      <th>22</th>\n      <td>2</td>\n      <td>Hailley</td>\n      <td>Andrey</td>\n      <td>1</td>\n      <td>1</td>\n      <td>3074</td>\n      <td>1</td>\n      <td>54</td>\n      <td>&lt;NA&gt;</td>\n      <td>2</td>\n      <td>...</td>\n      <td>&lt;NA&gt;</td>\n      <td>&lt;NA&gt;</td>\n      <td>&lt;NA&gt;</td>\n      <td>&lt;NA&gt;</td>\n      <td>&lt;NA&gt;</td>\n      <td>&lt;NA&gt;</td>\n      <td>&lt;NA&gt;</td>\n      <td>&lt;NA&gt;</td>\n      <td>&lt;NA&gt;</td>\n      <td>&lt;NA&gt;</td>\n    </tr>\n    <tr>\n      <th>29</th>\n      <td>1</td>\n      <td>Hailley</td>\n      <td>Andrey</td>\n      <td>1</td>\n      <td>1</td>\n      <td>3082</td>\n      <td>1</td>\n      <td>77</td>\n      <td>&lt;NA&gt;</td>\n      <td>1</td>\n      <td>...</td>\n      <td>&lt;NA&gt;</td>\n      <td>&lt;NA&gt;</td>\n      <td>&lt;NA&gt;</td>\n      <td>&lt;NA&gt;</td>\n      <td>&lt;NA&gt;</td>\n      <td>&lt;NA&gt;</td>\n      <td>&lt;NA&gt;</td>\n      <td>&lt;NA&gt;</td>\n      <td>&lt;NA&gt;</td>\n      <td>&lt;NA&gt;</td>\n    </tr>\n    <tr>\n      <th>...</th>\n      <td>...</td>\n      <td>...</td>\n      <td>...</td>\n      <td>...</td>\n      <td>...</td>\n      <td>...</td>\n      <td>...</td>\n      <td>...</td>\n      <td>...</td>\n      <td>...</td>\n      <td>...</td>\n      <td>...</td>\n      <td>...</td>\n      <td>...</td>\n      <td>...</td>\n      <td>...</td>\n      <td>...</td>\n      <td>...</td>\n      <td>...</td>\n      <td>...</td>\n      <td>...</td>\n    </tr>\n    <tr>\n      <th>497</th>\n      <td>2</td>\n      <td>Hailley</td>\n      <td>NaN</td>\n      <td>1</td>\n      <td>1</td>\n      <td>3661</td>\n      <td>1</td>\n      <td>57</td>\n      <td>362</td>\n      <td>2</td>\n      <td>...</td>\n      <td>&lt;NA&gt;</td>\n      <td>&lt;NA&gt;</td>\n      <td>&lt;NA&gt;</td>\n      <td>&lt;NA&gt;</td>\n      <td>&lt;NA&gt;</td>\n      <td>&lt;NA&gt;</td>\n      <td>&lt;NA&gt;</td>\n      <td>&lt;NA&gt;</td>\n      <td>&lt;NA&gt;</td>\n      <td>&lt;NA&gt;</td>\n    </tr>\n    <tr>\n      <th>498</th>\n      <td>1</td>\n      <td>Hailley</td>\n      <td>NaN</td>\n      <td>1</td>\n      <td>1</td>\n      <td>3663</td>\n      <td>1</td>\n      <td>74</td>\n      <td>328</td>\n      <td>1</td>\n      <td>...</td>\n      <td>20</td>\n      <td>&lt;NA&gt;</td>\n      <td>&lt;NA&gt;</td>\n      <td>&lt;NA&gt;</td>\n      <td>50</td>\n      <td>&lt;NA&gt;</td>\n      <td>&lt;NA&gt;</td>\n      <td>&lt;NA&gt;</td>\n      <td>6</td>\n      <td>&lt;NA&gt;</td>\n    </tr>\n    <tr>\n      <th>1</th>\n      <td>1</td>\n      <td>Andrey</td>\n      <td>NaN</td>\n      <td>1</td>\n      <td>1</td>\n      <td>3050</td>\n      <td>1</td>\n      <td>51</td>\n      <td>&lt;NA&gt;</td>\n      <td>2</td>\n      <td>...</td>\n      <td>&lt;NA&gt;</td>\n      <td>&lt;NA&gt;</td>\n      <td>&lt;NA&gt;</td>\n      <td>&lt;NA&gt;</td>\n      <td>&lt;NA&gt;</td>\n      <td>&lt;NA&gt;</td>\n      <td>&lt;NA&gt;</td>\n      <td>&lt;NA&gt;</td>\n      <td>&lt;NA&gt;</td>\n      <td>&lt;NA&gt;</td>\n    </tr>\n    <tr>\n      <th>2</th>\n      <td>1</td>\n      <td>Andrey</td>\n      <td>NaN</td>\n      <td>1</td>\n      <td>1</td>\n      <td>3051</td>\n      <td>1</td>\n      <td>63</td>\n      <td>&lt;NA&gt;</td>\n      <td>1</td>\n      <td>...</td>\n      <td>&lt;NA&gt;</td>\n      <td>&lt;NA&gt;</td>\n      <td>&lt;NA&gt;</td>\n      <td>&lt;NA&gt;</td>\n      <td>&lt;NA&gt;</td>\n      <td>&lt;NA&gt;</td>\n      <td>&lt;NA&gt;</td>\n      <td>&lt;NA&gt;</td>\n      <td>&lt;NA&gt;</td>\n      <td>&lt;NA&gt;</td>\n    </tr>\n    <tr>\n      <th>389</th>\n      <td>1</td>\n      <td>NaN</td>\n      <td>NaN</td>\n      <td>1</td>\n      <td>1</td>\n      <td>3535</td>\n      <td>1</td>\n      <td>81</td>\n      <td>&lt;NA&gt;</td>\n      <td>1</td>\n      <td>...</td>\n      <td>&lt;NA&gt;</td>\n      <td>&lt;NA&gt;</td>\n      <td>&lt;NA&gt;</td>\n      <td>&lt;NA&gt;</td>\n      <td>&lt;NA&gt;</td>\n      <td>&lt;NA&gt;</td>\n      <td>&lt;NA&gt;</td>\n      <td>&lt;NA&gt;</td>\n      <td>&lt;NA&gt;</td>\n      <td>&lt;NA&gt;</td>\n    </tr>\n  </tbody>\n</table>\n<p>94 rows × 90 columns</p>\n</div>"
     },
     "execution_count": 647,
     "metadata": {},
     "output_type": "execute_result"
    }
   ],
   "source": [
    "#Favor XR measurements over Nav\n",
    "varus_outliers = varus_valgus_outliers[(varus_valgus_outliers['PreOp Mechanical axis'] >= 10)]\n",
    "varus_outliers"
   ]
  },
  {
   "cell_type": "code",
   "execution_count": 651,
   "metadata": {
    "pycharm": {
     "name": "#%%\n"
    }
   },
   "outputs": [
    {
     "data": {
      "text/plain": "                                                    count   mean    std  \\\nAge at Surgery                                      94.00  67.28   8.88   \nLength of FU (Days)                                 79.00 553.01 582.06   \nBMI (kg/m2)                                         94.00  34.84   9.21   \nNav PreOp Measurement (degree; Valgus is negative)  94.00  12.09   3.42   \nNav PostOp Measurement (degree; Valgus is negat...  94.00   1.42   1.06   \nPreOp Extension (degrees; hyperextension is neg...  93.00   6.78   7.00   \nPostOp Extension at Final FU (degrees; hyperext...  93.00   2.28   1.32   \nPreOp Flexion (degrees)                             93.00 133.65   9.30   \nPostOp Flexion (degrees)                            92.00 132.45   9.23   \nTourniquet time (min)                               69.00  11.77  12.38   \nOR time (min)                                       69.00  72.13  17.34   \nEstimated Blood Loss (ml)                           57.00  83.07  58.37   \nPreOp Mechanical axis                               94.00  13.77   3.38   \n3mo PostOp Mechanical axis                          92.00   1.82   2.21   \nFinal FU Mechanical axis                            92.00   1.82   2.04   \nPreOp Posterior Tibial Slope                        92.00  11.10   4.23   \nPostOp Posterior Tibial Slope                       94.00   3.10   2.05   \nPreOp Proximal Medial Tibial Angle                  94.00  82.04   3.42   \nPostOp Proximal Medial Tibial Angle                 91.00  88.97   1.57   \nPreOp Lateral Distal Femoral Angle                  94.00  90.22   2.88   \n3 mo PostOp Lateral Distal Femoral Angle            92.00  89.86   1.73   \nFinal FU Lateral Distal Femoral Angle               92.00  89.75   1.76   \nPostOp Patellar Tilt                                93.00   7.19   5.00   \n\n                                                      min    25%    50%  \\\nAge at Surgery                                      51.00  61.00  66.50   \nLength of FU (Days)                                 43.00 208.50 372.00   \nBMI (kg/m2)                                         20.94  27.37  33.36   \nNav PreOp Measurement (degree; Valgus is negative) -11.50  10.50  12.00   \nNav PostOp Measurement (degree; Valgus is negat...  -1.00   0.50   1.50   \nPreOp Extension (degrees; hyperextension is neg... -12.00   2.50   7.50   \nPostOp Extension at Final FU (degrees; hyperext...  -2.00   1.50   2.50   \nPreOp Flexion (degrees)                            107.50 129.00 134.50   \nPostOp Flexion (degrees)                           113.00 126.50 131.75   \nTourniquet time (min)                                4.00   5.00   7.00   \nOR time (min)                                       31.00  60.00  67.00   \nEstimated Blood Loss (ml)                           10.00  50.00  65.00   \nPreOp Mechanical axis                               10.00  11.00  13.00   \n3mo PostOp Mechanical axis                          -1.00   1.00   1.00   \nFinal FU Mechanical axis                            -1.00   0.00   1.00   \nPreOp Posterior Tibial Slope                         3.00   8.00  11.00   \nPostOp Posterior Tibial Slope                        0.00   2.00   3.00   \nPreOp Proximal Medial Tibial Angle                  74.00  80.00  82.00   \nPostOp Proximal Medial Tibial Angle                 83.00  88.00  89.00   \nPreOp Lateral Distal Femoral Angle                  83.00  89.00  90.00   \n3 mo PostOp Lateral Distal Femoral Angle            82.00  89.00  90.00   \nFinal FU Lateral Distal Femoral Angle               85.00  89.00  90.00   \nPostOp Patellar Tilt                                 0.00   4.00   6.00   \n\n                                                      75%      max  \nAge at Surgery                                      73.00    89.00  \nLength of FU (Days)                                714.00 4,068.00  \nBMI (kg/m2)                                         40.33    63.41  \nNav PreOp Measurement (degree; Valgus is negative)  13.50    22.00  \nNav PostOp Measurement (degree; Valgus is negat...   2.00     4.00  \nPreOp Extension (degrees; hyperextension is neg...  10.50    23.50  \nPostOp Extension at Final FU (degrees; hyperext...   3.00     5.00  \nPreOp Flexion (degrees)                            139.50   162.50  \nPostOp Flexion (degrees)                           136.75   160.50  \nTourniquet time (min)                               12.00    71.00  \nOR time (min)                                       83.00   116.00  \nEstimated Blood Loss (ml)                          100.00   300.00  \nPreOp Mechanical axis                               15.00    30.00  \n3mo PostOp Mechanical axis                           2.00    12.00  \nFinal FU Mechanical axis                             2.25    10.00  \nPreOp Posterior Tibial Slope                        14.00    22.00  \nPostOp Posterior Tibial Slope                        4.00     9.00  \nPreOp Proximal Medial Tibial Angle                  84.00    93.00  \nPostOp Proximal Medial Tibial Angle                 90.00    93.00  \nPreOp Lateral Distal Femoral Angle                  92.00    98.00  \n3 mo PostOp Lateral Distal Femoral Angle            91.00    95.00  \nFinal FU Lateral Distal Femoral Angle               90.25    96.00  \nPostOp Patellar Tilt                                 9.00    24.00  ",
      "text/html": "<div>\n<style scoped>\n    .dataframe tbody tr th:only-of-type {\n        vertical-align: middle;\n    }\n\n    .dataframe tbody tr th {\n        vertical-align: top;\n    }\n\n    .dataframe thead th {\n        text-align: right;\n    }\n</style>\n<table border=\"1\" class=\"dataframe\">\n  <thead>\n    <tr style=\"text-align: right;\">\n      <th></th>\n      <th>count</th>\n      <th>mean</th>\n      <th>std</th>\n      <th>min</th>\n      <th>25%</th>\n      <th>50%</th>\n      <th>75%</th>\n      <th>max</th>\n    </tr>\n  </thead>\n  <tbody>\n    <tr>\n      <th>Age at Surgery</th>\n      <td>94.00</td>\n      <td>67.28</td>\n      <td>8.88</td>\n      <td>51.00</td>\n      <td>61.00</td>\n      <td>66.50</td>\n      <td>73.00</td>\n      <td>89.00</td>\n    </tr>\n    <tr>\n      <th>Length of FU (Days)</th>\n      <td>79.00</td>\n      <td>553.01</td>\n      <td>582.06</td>\n      <td>43.00</td>\n      <td>208.50</td>\n      <td>372.00</td>\n      <td>714.00</td>\n      <td>4,068.00</td>\n    </tr>\n    <tr>\n      <th>BMI (kg/m2)</th>\n      <td>94.00</td>\n      <td>34.84</td>\n      <td>9.21</td>\n      <td>20.94</td>\n      <td>27.37</td>\n      <td>33.36</td>\n      <td>40.33</td>\n      <td>63.41</td>\n    </tr>\n    <tr>\n      <th>Nav PreOp Measurement (degree; Valgus is negative)</th>\n      <td>94.00</td>\n      <td>12.09</td>\n      <td>3.42</td>\n      <td>-11.50</td>\n      <td>10.50</td>\n      <td>12.00</td>\n      <td>13.50</td>\n      <td>22.00</td>\n    </tr>\n    <tr>\n      <th>Nav PostOp Measurement (degree; Valgus is negative)</th>\n      <td>94.00</td>\n      <td>1.42</td>\n      <td>1.06</td>\n      <td>-1.00</td>\n      <td>0.50</td>\n      <td>1.50</td>\n      <td>2.00</td>\n      <td>4.00</td>\n    </tr>\n    <tr>\n      <th>PreOp Extension (degrees; hyperextension is negative)</th>\n      <td>93.00</td>\n      <td>6.78</td>\n      <td>7.00</td>\n      <td>-12.00</td>\n      <td>2.50</td>\n      <td>7.50</td>\n      <td>10.50</td>\n      <td>23.50</td>\n    </tr>\n    <tr>\n      <th>PostOp Extension at Final FU (degrees; hyperextension is negative)</th>\n      <td>93.00</td>\n      <td>2.28</td>\n      <td>1.32</td>\n      <td>-2.00</td>\n      <td>1.50</td>\n      <td>2.50</td>\n      <td>3.00</td>\n      <td>5.00</td>\n    </tr>\n    <tr>\n      <th>PreOp Flexion (degrees)</th>\n      <td>93.00</td>\n      <td>133.65</td>\n      <td>9.30</td>\n      <td>107.50</td>\n      <td>129.00</td>\n      <td>134.50</td>\n      <td>139.50</td>\n      <td>162.50</td>\n    </tr>\n    <tr>\n      <th>PostOp Flexion (degrees)</th>\n      <td>92.00</td>\n      <td>132.45</td>\n      <td>9.23</td>\n      <td>113.00</td>\n      <td>126.50</td>\n      <td>131.75</td>\n      <td>136.75</td>\n      <td>160.50</td>\n    </tr>\n    <tr>\n      <th>Tourniquet time (min)</th>\n      <td>69.00</td>\n      <td>11.77</td>\n      <td>12.38</td>\n      <td>4.00</td>\n      <td>5.00</td>\n      <td>7.00</td>\n      <td>12.00</td>\n      <td>71.00</td>\n    </tr>\n    <tr>\n      <th>OR time (min)</th>\n      <td>69.00</td>\n      <td>72.13</td>\n      <td>17.34</td>\n      <td>31.00</td>\n      <td>60.00</td>\n      <td>67.00</td>\n      <td>83.00</td>\n      <td>116.00</td>\n    </tr>\n    <tr>\n      <th>Estimated Blood Loss (ml)</th>\n      <td>57.00</td>\n      <td>83.07</td>\n      <td>58.37</td>\n      <td>10.00</td>\n      <td>50.00</td>\n      <td>65.00</td>\n      <td>100.00</td>\n      <td>300.00</td>\n    </tr>\n    <tr>\n      <th>PreOp Mechanical axis</th>\n      <td>94.00</td>\n      <td>13.77</td>\n      <td>3.38</td>\n      <td>10.00</td>\n      <td>11.00</td>\n      <td>13.00</td>\n      <td>15.00</td>\n      <td>30.00</td>\n    </tr>\n    <tr>\n      <th>3mo PostOp Mechanical axis</th>\n      <td>92.00</td>\n      <td>1.82</td>\n      <td>2.21</td>\n      <td>-1.00</td>\n      <td>1.00</td>\n      <td>1.00</td>\n      <td>2.00</td>\n      <td>12.00</td>\n    </tr>\n    <tr>\n      <th>Final FU Mechanical axis</th>\n      <td>92.00</td>\n      <td>1.82</td>\n      <td>2.04</td>\n      <td>-1.00</td>\n      <td>0.00</td>\n      <td>1.00</td>\n      <td>2.25</td>\n      <td>10.00</td>\n    </tr>\n    <tr>\n      <th>PreOp Posterior Tibial Slope</th>\n      <td>92.00</td>\n      <td>11.10</td>\n      <td>4.23</td>\n      <td>3.00</td>\n      <td>8.00</td>\n      <td>11.00</td>\n      <td>14.00</td>\n      <td>22.00</td>\n    </tr>\n    <tr>\n      <th>PostOp Posterior Tibial Slope</th>\n      <td>94.00</td>\n      <td>3.10</td>\n      <td>2.05</td>\n      <td>0.00</td>\n      <td>2.00</td>\n      <td>3.00</td>\n      <td>4.00</td>\n      <td>9.00</td>\n    </tr>\n    <tr>\n      <th>PreOp Proximal Medial Tibial Angle</th>\n      <td>94.00</td>\n      <td>82.04</td>\n      <td>3.42</td>\n      <td>74.00</td>\n      <td>80.00</td>\n      <td>82.00</td>\n      <td>84.00</td>\n      <td>93.00</td>\n    </tr>\n    <tr>\n      <th>PostOp Proximal Medial Tibial Angle</th>\n      <td>91.00</td>\n      <td>88.97</td>\n      <td>1.57</td>\n      <td>83.00</td>\n      <td>88.00</td>\n      <td>89.00</td>\n      <td>90.00</td>\n      <td>93.00</td>\n    </tr>\n    <tr>\n      <th>PreOp Lateral Distal Femoral Angle</th>\n      <td>94.00</td>\n      <td>90.22</td>\n      <td>2.88</td>\n      <td>83.00</td>\n      <td>89.00</td>\n      <td>90.00</td>\n      <td>92.00</td>\n      <td>98.00</td>\n    </tr>\n    <tr>\n      <th>3 mo PostOp Lateral Distal Femoral Angle</th>\n      <td>92.00</td>\n      <td>89.86</td>\n      <td>1.73</td>\n      <td>82.00</td>\n      <td>89.00</td>\n      <td>90.00</td>\n      <td>91.00</td>\n      <td>95.00</td>\n    </tr>\n    <tr>\n      <th>Final FU Lateral Distal Femoral Angle</th>\n      <td>92.00</td>\n      <td>89.75</td>\n      <td>1.76</td>\n      <td>85.00</td>\n      <td>89.00</td>\n      <td>90.00</td>\n      <td>90.25</td>\n      <td>96.00</td>\n    </tr>\n    <tr>\n      <th>PostOp Patellar Tilt</th>\n      <td>93.00</td>\n      <td>7.19</td>\n      <td>5.00</td>\n      <td>0.00</td>\n      <td>4.00</td>\n      <td>6.00</td>\n      <td>9.00</td>\n      <td>24.00</td>\n    </tr>\n  </tbody>\n</table>\n</div>"
     },
     "execution_count": 651,
     "metadata": {},
     "output_type": "execute_result"
    }
   ],
   "source": [
    "#Define a function to obtain descriptive statistics for a df\n",
    "def get_descr_stats(df, column_names):\n",
    "    return df[column_names].describe().transpose()\n",
    "\n",
    "\n",
    "#Lists of columns for continuous varus data\n",
    "basic_columns = [\"Age at Surgery\", \"Length of FU (Days)\", \"BMI (kg/m2)\"]\n",
    "nav_columns = varus_outliers.columns.values[19:21].tolist()\n",
    "misc_columns = varus_outliers.columns.values[24:31].tolist()\n",
    "xr_columns = varus_outliers.columns.values[41:52].tolist()\n",
    "column_lst = basic_columns + nav_columns + misc_columns + xr_columns\n",
    "\n",
    "\n",
    "#Compute descriptive statistics\n",
    "get_descr_stats(varus_outliers, column_lst)\n",
    "\n"
   ]
  },
  {
   "cell_type": "code",
   "execution_count": 648,
   "outputs": [],
   "source": [],
   "metadata": {
    "collapsed": false,
    "pycharm": {
     "name": "#%%\n"
    }
   }
  }
 ],
 "metadata": {
  "kernelspec": {
   "display_name": "Python 3 (ipykernel)",
   "language": "python",
   "name": "python3"
  },
  "language_info": {
   "codemirror_mode": {
    "name": "ipython",
    "version": 3
   },
   "file_extension": ".py",
   "mimetype": "text/x-python",
   "name": "python",
   "nbconvert_exporter": "python",
   "pygments_lexer": "ipython3",
   "version": "3.10.4"
  }
 },
 "nbformat": 4,
 "nbformat_minor": 1
}