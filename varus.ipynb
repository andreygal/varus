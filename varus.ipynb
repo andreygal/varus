{
 "cells": [
  {
   "cell_type": "code",
   "execution_count": 136,
   "metadata": {
    "pycharm": {
     "name": "#%%\n"
    }
   },
   "outputs": [],
   "source": [
    "#Packages\n",
    "import pandas as pd\n",
    "import numpy as np"
   ]
  },
  {
   "cell_type": "code",
   "execution_count": 137,
   "metadata": {
    "pycharm": {
     "name": "#%%\n"
    }
   },
   "outputs": [],
   "source": [
    "#Ctrl + Q -> get function doc\n",
    "#Specify column data types for read_excel 'dtype' parameter using a dictionary\n",
    "#Can we convert some of these into boolean types and enums\n",
    "varus_valgus_dtypes = {\n",
    "    'Study ID':int,\n",
    "    'Laterality (Right =1; Left = 2)':np.float64,\n",
    "    'Team Member Med Hist Review':str,\n",
    "    'Team Member XRay Review':str,\n",
    "    'Meets Inclusion: (Y=1; N=2)':str,\n",
    "    'Nav or Conventional (Nav=1; Con=2)':np.float64,\n",
    "    'Nav #':np.float64,\n",
    "    'MD (Phillips = 1; Rachala = 2)':str,\n",
    "    'Age at Surgery':np.float64,\n",
    "    'Length of FU (Days)':np.float64,\n",
    "    'Sex (M=1; F=2)':np.float64,\n",
    "    'Ht (in)':np.float64,\n",
    "    'Wt (lbs)':np.float64,\n",
    "    'BMI (kg/m2)':np.float64,\n",
    "    'Osteoporosis/Osteopenia (Y=1; N=2)':str,\n",
    "    'Smoker (Current=1; Former=2; Never=3)':str,\n",
    "    'Diabetes (Y=1; N=2)':str,\n",
    "    'Comorbitities (Less than or equal to two = 1; Three or more = 2) WRITE \"Less\" or \"More\"':np.float64,\n",
    "    'Diagnosis (OA = 1; IA = 2; PTOA = 3; OA + IA = 4; OA + PTOA = 5)':str,\n",
    "    'Presence of PreOp Flexion Contracture (Y=1; N=2)':str,\n",
    "    'Nav PreOp Measurement (degree; Valgus is negative)':np.float64,\n",
    "    'Nav PostOp Measurement (degree; Valgus is negative)':np.float64,\n",
    "    'Nav PreOp Check':str,\n",
    "    'Nav PostOp Check':str,\n",
    "    'Group (Control=1; Outlier=2)':str,\n",
    "    'PreOp Extension (degrees; hyperextension is negative)':np.float64,\n",
    "    'PostOp Extension at Final FU (degrees; hyperextension is negative)':np.float64,\n",
    "    'PreOp Flexion (degrees)':np.float64,\n",
    "    'PostOp Flexion (degrees)':np.float64,\n",
    "    'Tourniquet time (min)':np.float64,\n",
    "    'OR time (min)':np.float64,\n",
    "    'Estimated Blood Loss (ml)':np.float64,\n",
    "    'Tibial plateau fracture (Y=1; N=2)':str,\n",
    "    'Tibial component size':np.float64,\n",
    "    'Femoral component size':np.float64,\n",
    "    'Length of Stay (days)':np.float64,\n",
    "    'Discharge destination (1=home; 2=rehab)':str,\n",
    "    'Readmission w/in 90 days (Y=1; N=2)':str,\n",
    "    'Reason for Readmission':str,\n",
    "    'Reoperation (Y=1; N=2)':str,\n",
    "    'Reason for reoperation':str,\n",
    "    'PostOp Infection  (Y=1; N=2)':str,\n",
    "    'PreOp Mechanical axis':np.float64,\n",
    "    '3mo PostOp Mechanical axis':np.float64,\n",
    "    'Final FU Mechanical axis':np.float64,\n",
    "    'PreOp Posterior Tibial Slope':np.float64,\n",
    "    'PostOp Posterior Tibial Slope':np.float64,\n",
    "    'PreOp Proximal Medial Tibial Angle':np.float64,\n",
    "    'PostOp Proximal Medial Tibial Angle':np.float64,\n",
    "    'PreOp Lateral Distal Femoral Angle':np.float64,\n",
    "    '3 mo PostOp Lateral Distal Femoral Angle':np.float64,\n",
    "    'Final FU Lateral Distal Femoral Angle':np.float64,\n",
    "    'PostOp Patellar Tilt':np.float64,\n",
    "    'Evidence of Hardware Failure (Y=1; N=2)':str,\n",
    "    'Fracture   (Y=1; N=2)':str,\n",
    "    'Subsidence   (Y=1; N=2)':str,\n",
    "    'Loosening   (Y=1; N=2)':str,\n",
    "    'Polyethylene Wear (Y=1; N=2)':str,\n",
    "    '3mo PostOp Radiolucent lines (Y=1; N=2)':str,\n",
    "    'Final FU Radiolucent lines (Y=1; N=2)':str,\n",
    "    '3mo PostOp Stress shielding (Y=1; N=2)':str,\n",
    "    'Final FU Stress shielding (Y=1; N=2)':str,\n",
    "    'UBMD General Function VAS Score 2 wk':np.float64,\n",
    "    'UBMD General Function VAS Score 6 wk':np.float64,\n",
    "    'UBMD General Function VAS Score 3 mo':np.float64,\n",
    "    'UBMD General Function VAS Score 1 yr':np.float64,\n",
    "    'UBMD General Pain VAS Score 2 wk':np.float64,\n",
    "    'UBMD General Pain VAS Score 6 wk':np.float64,\n",
    "    'UBMD General Pain VAS Score 3 mo':np.float64,\n",
    "    'UBMD General Pain VAS Score 1 yr':np.float64,\n",
    "    'SF-12 Physical Health Score 6 wk':np.float64,\n",
    "    'SF-12 Physical Health Score 3 mo':np.float64,\n",
    "    'SF-12 Physical Health Score 1 yr':np.float64,\n",
    "    'VR-12 Physical Score 6 wk':np.float64,\n",
    "    'VR-12 Physical Score 3 mo':np.float64,\n",
    "    'VR-12 Physical Score 1 yr':np.float64,\n",
    "    'VR6D Score 6 wk':np.float64,\n",
    "    'VR6D Score 3 mo':np.float64,\n",
    "    'VR6D Score 1 yr':np.float64,\n",
    "    'KSS-Functional Knee Score 2 wk':np.float64,\n",
    "    'KSS-Functional Knee Score 6 wk':np.float64,\n",
    "    'KSS-Functional Knee Score 3 mo':np.float64,\n",
    "    'KSS-Functional Knee Score 1 yr':np.float64,\n",
    "    'KSS-Objective Knee Score (Pain) Score 2 wk':np.float64,\n",
    "    'KSS-Objective Knee Score (Pain) Score 6 wk':np.float64,\n",
    "    'KSS-Objective Knee Score (Pain) Score 3 mo':np.float64,\n",
    "    'KSS-Objective Knee Score (Pain) Score 1 yr':np.float64,\n",
    "    'LEAS Score 2 wk':np.float64,\n",
    "    'LEAS Score 6 wk':np.float64,\n",
    "    'LEAS Score 3 mo':np.float64,\n",
    "    'LEAS Score 1 yr':np.float64\n",
    "}\n",
    "\n",
    "#Read-in the data file\n",
    "varus_valgus_original = pd.read_excel('varus_valgus.xlsx', dtype=varus_valgus_dtypes)\n",
    "\n",
    "\n",
    "#Questions for the group:\n",
    "# Will we treat varus and valgus separately?\n",
    "# Will we look at Rachala and Philips separately or as a group?"
   ]
  },
  {
   "cell_type": "code",
   "execution_count": 138,
   "metadata": {
    "pycharm": {
     "name": "#%%\n"
    }
   },
   "outputs": [],
   "source": [
    "#Consider a dual index for outliers (use zip command and hier_index)\n",
    "varus_valgus_original.set_index('Study ID', inplace=True)"
   ]
  },
  {
   "cell_type": "code",
   "execution_count": 139,
   "metadata": {
    "pycharm": {
     "name": "#%%\n"
    }
   },
   "outputs": [],
   "source": [
    "#Data cleaning step (missing data etc.)\n",
    "#df.dropna(axis=1) for columns df.fillna()"
   ]
  },
  {
   "cell_type": "code",
   "execution_count": 140,
   "metadata": {
    "pycharm": {
     "name": "#%%\n"
    }
   },
   "outputs": [
    {
     "data": {
      "text/plain": "          Laterality (Right =1; Left = 2) Team Member Med Hist Review  \\\nStudy ID                                                                \n7                                     2.0                     Hailley   \n15                                    2.0                     Hailley   \n17                                    1.0                     Hailley   \n22                                    2.0                     Hailley   \n29                                    1.0                     Hailley   \n...                                   ...                         ...   \n1                                     1.0                      Andrey   \n2                                     1.0                     Andrey    \n9                                     2.0                      Andrey   \n308                                   1.0                      Andrey   \n389                                   1.0                         NaN   \n\n         Team Member XRay Review Meets Inclusion: (Y=1; N=2)  \\\nStudy ID                                                       \n7                         Andrey                           1   \n15                        Andrey                           1   \n17                        Andrey                           1   \n22                        Andrey                           1   \n29                        Andrey                           1   \n...                          ...                         ...   \n1                            NaN                           1   \n2                            NaN                           1   \n9                            NaN                           1   \n308                          NaN                           1   \n389                          NaN                           1   \n\n          Nav or Conventional (Nav=1; Con=2)   Nav #  \\\nStudy ID                                               \n7                                        1.0  3056.0   \n15                                       1.0  3066.0   \n17                                       1.0  3068.0   \n22                                       1.0  3074.0   \n29                                       1.0  3082.0   \n...                                      ...     ...   \n1                                        1.0  3050.0   \n2                                        1.0  3051.0   \n9                                        1.0  3058.0   \n308                                      1.0  3433.0   \n389                                      1.0  3535.0   \n\n         MD (Phillips = 1; Rachala = 2)  Age at Surgery  Length of FU (Days)  \\\nStudy ID                                                                       \n7                                     1            69.0                123.0   \n15                                    1            71.0                106.0   \n17                                    1            58.0                169.0   \n22                                    1            54.0                  NaN   \n29                                    1            77.0                  NaN   \n...                                 ...             ...                  ...   \n1                                     1            51.0                  NaN   \n2                                     1            63.0                  NaN   \n9                                     1            74.0                  NaN   \n308                                   1            62.0                  NaN   \n389                                   1            81.0                  NaN   \n\n          Sex (M=1; F=2)  ...  KSS-Functional Knee Score 3 mo  \\\nStudy ID                  ...                                   \n7                    2.0  ...                             NaN   \n15                   1.0  ...                             NaN   \n17                   1.0  ...                             NaN   \n22                   2.0  ...                             NaN   \n29                   1.0  ...                             NaN   \n...                  ...  ...                             ...   \n1                    2.0  ...                             NaN   \n2                    1.0  ...                             NaN   \n9                    2.0  ...                             NaN   \n308                  1.0  ...                             NaN   \n389                  1.0  ...                             NaN   \n\n          KSS-Functional Knee Score 1 yr  \\\nStudy ID                                   \n7                                    NaN   \n15                                   NaN   \n17                                   NaN   \n22                                   NaN   \n29                                   NaN   \n...                                  ...   \n1                                    NaN   \n2                                    NaN   \n9                                    NaN   \n308                                  NaN   \n389                                  NaN   \n\n          KSS-Objective Knee Score (Pain) Score 2 wk  \\\nStudy ID                                               \n7                                                NaN   \n15                                               NaN   \n17                                               NaN   \n22                                               NaN   \n29                                               NaN   \n...                                              ...   \n1                                                NaN   \n2                                                NaN   \n9                                                NaN   \n308                                              NaN   \n389                                              NaN   \n\n         KSS-Objective Knee Score (Pain) Score 6 wk  \\\nStudy ID                                              \n7                                               NaN   \n15                                              NaN   \n17                                              NaN   \n22                                              NaN   \n29                                              NaN   \n...                                             ...   \n1                                               NaN   \n2                                               NaN   \n9                                               NaN   \n308                                             NaN   \n389                                             NaN   \n\n         KSS-Objective Knee Score (Pain) Score 3 mo  \\\nStudy ID                                              \n7                                               NaN   \n15                                              NaN   \n17                                              NaN   \n22                                              NaN   \n29                                              NaN   \n...                                             ...   \n1                                               NaN   \n2                                               NaN   \n9                                               NaN   \n308                                             NaN   \n389                                             NaN   \n\n         KSS-Objective Knee Score (Pain) Score 1 yr  LEAS Score 2 wk  \\\nStudy ID                                                               \n7                                               NaN              NaN   \n15                                              NaN              NaN   \n17                                              NaN              NaN   \n22                                              NaN              NaN   \n29                                              NaN              NaN   \n...                                             ...              ...   \n1                                               NaN              NaN   \n2                                               NaN              NaN   \n9                                               NaN              NaN   \n308                                             NaN              NaN   \n389                                             NaN              NaN   \n\n         LEAS Score 6 wk LEAS Score 3 mo  LEAS Score 1 yr  \nStudy ID                                                   \n7                    NaN             NaN              NaN  \n15                   NaN             NaN              NaN  \n17                   NaN             NaN              NaN  \n22                   NaN             NaN              NaN  \n29                   NaN             NaN              NaN  \n...                  ...             ...              ...  \n1                    NaN             NaN              NaN  \n2                    NaN             NaN              NaN  \n9                    NaN             NaN              NaN  \n308                  NaN             NaN              NaN  \n389                  NaN             NaN              NaN  \n\n[106 rows x 90 columns]",
      "text/html": "<div>\n<style scoped>\n    .dataframe tbody tr th:only-of-type {\n        vertical-align: middle;\n    }\n\n    .dataframe tbody tr th {\n        vertical-align: top;\n    }\n\n    .dataframe thead th {\n        text-align: right;\n    }\n</style>\n<table border=\"1\" class=\"dataframe\">\n  <thead>\n    <tr style=\"text-align: right;\">\n      <th></th>\n      <th>Laterality (Right =1; Left = 2)</th>\n      <th>Team Member Med Hist Review</th>\n      <th>Team Member XRay Review</th>\n      <th>Meets Inclusion: (Y=1; N=2)</th>\n      <th>Nav or Conventional (Nav=1; Con=2)</th>\n      <th>Nav #</th>\n      <th>MD (Phillips = 1; Rachala = 2)</th>\n      <th>Age at Surgery</th>\n      <th>Length of FU (Days)</th>\n      <th>Sex (M=1; F=2)</th>\n      <th>...</th>\n      <th>KSS-Functional Knee Score 3 mo</th>\n      <th>KSS-Functional Knee Score 1 yr</th>\n      <th>KSS-Objective Knee Score (Pain) Score 2 wk</th>\n      <th>KSS-Objective Knee Score (Pain) Score 6 wk</th>\n      <th>KSS-Objective Knee Score (Pain) Score 3 mo</th>\n      <th>KSS-Objective Knee Score (Pain) Score 1 yr</th>\n      <th>LEAS Score 2 wk</th>\n      <th>LEAS Score 6 wk</th>\n      <th>LEAS Score 3 mo</th>\n      <th>LEAS Score 1 yr</th>\n    </tr>\n    <tr>\n      <th>Study ID</th>\n      <th></th>\n      <th></th>\n      <th></th>\n      <th></th>\n      <th></th>\n      <th></th>\n      <th></th>\n      <th></th>\n      <th></th>\n      <th></th>\n      <th></th>\n      <th></th>\n      <th></th>\n      <th></th>\n      <th></th>\n      <th></th>\n      <th></th>\n      <th></th>\n      <th></th>\n      <th></th>\n      <th></th>\n    </tr>\n  </thead>\n  <tbody>\n    <tr>\n      <th>7</th>\n      <td>2.0</td>\n      <td>Hailley</td>\n      <td>Andrey</td>\n      <td>1</td>\n      <td>1.0</td>\n      <td>3056.0</td>\n      <td>1</td>\n      <td>69.0</td>\n      <td>123.0</td>\n      <td>2.0</td>\n      <td>...</td>\n      <td>NaN</td>\n      <td>NaN</td>\n      <td>NaN</td>\n      <td>NaN</td>\n      <td>NaN</td>\n      <td>NaN</td>\n      <td>NaN</td>\n      <td>NaN</td>\n      <td>NaN</td>\n      <td>NaN</td>\n    </tr>\n    <tr>\n      <th>15</th>\n      <td>2.0</td>\n      <td>Hailley</td>\n      <td>Andrey</td>\n      <td>1</td>\n      <td>1.0</td>\n      <td>3066.0</td>\n      <td>1</td>\n      <td>71.0</td>\n      <td>106.0</td>\n      <td>1.0</td>\n      <td>...</td>\n      <td>NaN</td>\n      <td>NaN</td>\n      <td>NaN</td>\n      <td>NaN</td>\n      <td>NaN</td>\n      <td>NaN</td>\n      <td>NaN</td>\n      <td>NaN</td>\n      <td>NaN</td>\n      <td>NaN</td>\n    </tr>\n    <tr>\n      <th>17</th>\n      <td>1.0</td>\n      <td>Hailley</td>\n      <td>Andrey</td>\n      <td>1</td>\n      <td>1.0</td>\n      <td>3068.0</td>\n      <td>1</td>\n      <td>58.0</td>\n      <td>169.0</td>\n      <td>1.0</td>\n      <td>...</td>\n      <td>NaN</td>\n      <td>NaN</td>\n      <td>NaN</td>\n      <td>NaN</td>\n      <td>NaN</td>\n      <td>NaN</td>\n      <td>NaN</td>\n      <td>NaN</td>\n      <td>NaN</td>\n      <td>NaN</td>\n    </tr>\n    <tr>\n      <th>22</th>\n      <td>2.0</td>\n      <td>Hailley</td>\n      <td>Andrey</td>\n      <td>1</td>\n      <td>1.0</td>\n      <td>3074.0</td>\n      <td>1</td>\n      <td>54.0</td>\n      <td>NaN</td>\n      <td>2.0</td>\n      <td>...</td>\n      <td>NaN</td>\n      <td>NaN</td>\n      <td>NaN</td>\n      <td>NaN</td>\n      <td>NaN</td>\n      <td>NaN</td>\n      <td>NaN</td>\n      <td>NaN</td>\n      <td>NaN</td>\n      <td>NaN</td>\n    </tr>\n    <tr>\n      <th>29</th>\n      <td>1.0</td>\n      <td>Hailley</td>\n      <td>Andrey</td>\n      <td>1</td>\n      <td>1.0</td>\n      <td>3082.0</td>\n      <td>1</td>\n      <td>77.0</td>\n      <td>NaN</td>\n      <td>1.0</td>\n      <td>...</td>\n      <td>NaN</td>\n      <td>NaN</td>\n      <td>NaN</td>\n      <td>NaN</td>\n      <td>NaN</td>\n      <td>NaN</td>\n      <td>NaN</td>\n      <td>NaN</td>\n      <td>NaN</td>\n      <td>NaN</td>\n    </tr>\n    <tr>\n      <th>...</th>\n      <td>...</td>\n      <td>...</td>\n      <td>...</td>\n      <td>...</td>\n      <td>...</td>\n      <td>...</td>\n      <td>...</td>\n      <td>...</td>\n      <td>...</td>\n      <td>...</td>\n      <td>...</td>\n      <td>...</td>\n      <td>...</td>\n      <td>...</td>\n      <td>...</td>\n      <td>...</td>\n      <td>...</td>\n      <td>...</td>\n      <td>...</td>\n      <td>...</td>\n      <td>...</td>\n    </tr>\n    <tr>\n      <th>1</th>\n      <td>1.0</td>\n      <td>Andrey</td>\n      <td>NaN</td>\n      <td>1</td>\n      <td>1.0</td>\n      <td>3050.0</td>\n      <td>1</td>\n      <td>51.0</td>\n      <td>NaN</td>\n      <td>2.0</td>\n      <td>...</td>\n      <td>NaN</td>\n      <td>NaN</td>\n      <td>NaN</td>\n      <td>NaN</td>\n      <td>NaN</td>\n      <td>NaN</td>\n      <td>NaN</td>\n      <td>NaN</td>\n      <td>NaN</td>\n      <td>NaN</td>\n    </tr>\n    <tr>\n      <th>2</th>\n      <td>1.0</td>\n      <td>Andrey</td>\n      <td>NaN</td>\n      <td>1</td>\n      <td>1.0</td>\n      <td>3051.0</td>\n      <td>1</td>\n      <td>63.0</td>\n      <td>NaN</td>\n      <td>1.0</td>\n      <td>...</td>\n      <td>NaN</td>\n      <td>NaN</td>\n      <td>NaN</td>\n      <td>NaN</td>\n      <td>NaN</td>\n      <td>NaN</td>\n      <td>NaN</td>\n      <td>NaN</td>\n      <td>NaN</td>\n      <td>NaN</td>\n    </tr>\n    <tr>\n      <th>9</th>\n      <td>2.0</td>\n      <td>Andrey</td>\n      <td>NaN</td>\n      <td>1</td>\n      <td>1.0</td>\n      <td>3058.0</td>\n      <td>1</td>\n      <td>74.0</td>\n      <td>NaN</td>\n      <td>2.0</td>\n      <td>...</td>\n      <td>NaN</td>\n      <td>NaN</td>\n      <td>NaN</td>\n      <td>NaN</td>\n      <td>NaN</td>\n      <td>NaN</td>\n      <td>NaN</td>\n      <td>NaN</td>\n      <td>NaN</td>\n      <td>NaN</td>\n    </tr>\n    <tr>\n      <th>308</th>\n      <td>1.0</td>\n      <td>Andrey</td>\n      <td>NaN</td>\n      <td>1</td>\n      <td>1.0</td>\n      <td>3433.0</td>\n      <td>1</td>\n      <td>62.0</td>\n      <td>NaN</td>\n      <td>1.0</td>\n      <td>...</td>\n      <td>NaN</td>\n      <td>NaN</td>\n      <td>NaN</td>\n      <td>NaN</td>\n      <td>NaN</td>\n      <td>NaN</td>\n      <td>NaN</td>\n      <td>NaN</td>\n      <td>NaN</td>\n      <td>NaN</td>\n    </tr>\n    <tr>\n      <th>389</th>\n      <td>1.0</td>\n      <td>NaN</td>\n      <td>NaN</td>\n      <td>1</td>\n      <td>1.0</td>\n      <td>3535.0</td>\n      <td>1</td>\n      <td>81.0</td>\n      <td>NaN</td>\n      <td>1.0</td>\n      <td>...</td>\n      <td>NaN</td>\n      <td>NaN</td>\n      <td>NaN</td>\n      <td>NaN</td>\n      <td>NaN</td>\n      <td>NaN</td>\n      <td>NaN</td>\n      <td>NaN</td>\n      <td>NaN</td>\n      <td>NaN</td>\n    </tr>\n  </tbody>\n</table>\n<p>106 rows × 90 columns</p>\n</div>"
     },
     "execution_count": 140,
     "metadata": {},
     "output_type": "execute_result"
    }
   ],
   "source": [
    "#Filter the original data for outliers\n",
    "#Any deviation of mechanical axis of 10 or more from normal, according to either Nav or XR measurement\n",
    "varus_valgus_outliers = varus_valgus_original[(abs(varus_valgus_original['PreOp Mechanical axis']) >= 10) |\n",
    "                                              (abs(varus_valgus_original['Nav PreOp Measurement (degree; Valgus is negative)']) >= 10)]\n",
    "varus_valgus_outliers"
   ]
  },
  {
   "cell_type": "code",
   "execution_count": 141,
   "metadata": {
    "pycharm": {
     "name": "#%%\n"
    }
   },
   "outputs": [
    {
     "data": {
      "text/plain": "          PreOp Mechanical axis  \\\nStudy ID                          \n7                          13.0   \n17                         15.0   \n22                         12.0   \n29                         12.0   \n38                         12.0   \n...                         ...   \n497                        12.0   \n498                        13.0   \n1                          11.0   \n2                          10.0   \n389                        11.0   \n\n          Nav PreOp Measurement (degree; Valgus is negative)  \nStudy ID                                                      \n7                                                      10.0   \n17                                                     11.5   \n22                                                     10.0   \n29                                                     10.0   \n38                                                     10.5   \n...                                                     ...   \n497                                                    10.0   \n498                                                    10.0   \n1                                                       9.0   \n2                                                       8.0   \n389                                                     9.0   \n\n[89 rows x 2 columns]",
      "text/html": "<div>\n<style scoped>\n    .dataframe tbody tr th:only-of-type {\n        vertical-align: middle;\n    }\n\n    .dataframe tbody tr th {\n        vertical-align: top;\n    }\n\n    .dataframe thead th {\n        text-align: right;\n    }\n</style>\n<table border=\"1\" class=\"dataframe\">\n  <thead>\n    <tr style=\"text-align: right;\">\n      <th></th>\n      <th>PreOp Mechanical axis</th>\n      <th>Nav PreOp Measurement (degree; Valgus is negative)</th>\n    </tr>\n    <tr>\n      <th>Study ID</th>\n      <th></th>\n      <th></th>\n    </tr>\n  </thead>\n  <tbody>\n    <tr>\n      <th>7</th>\n      <td>13.0</td>\n      <td>10.0</td>\n    </tr>\n    <tr>\n      <th>17</th>\n      <td>15.0</td>\n      <td>11.5</td>\n    </tr>\n    <tr>\n      <th>22</th>\n      <td>12.0</td>\n      <td>10.0</td>\n    </tr>\n    <tr>\n      <th>29</th>\n      <td>12.0</td>\n      <td>10.0</td>\n    </tr>\n    <tr>\n      <th>38</th>\n      <td>12.0</td>\n      <td>10.5</td>\n    </tr>\n    <tr>\n      <th>...</th>\n      <td>...</td>\n      <td>...</td>\n    </tr>\n    <tr>\n      <th>497</th>\n      <td>12.0</td>\n      <td>10.0</td>\n    </tr>\n    <tr>\n      <th>498</th>\n      <td>13.0</td>\n      <td>10.0</td>\n    </tr>\n    <tr>\n      <th>1</th>\n      <td>11.0</td>\n      <td>9.0</td>\n    </tr>\n    <tr>\n      <th>2</th>\n      <td>10.0</td>\n      <td>8.0</td>\n    </tr>\n    <tr>\n      <th>389</th>\n      <td>11.0</td>\n      <td>9.0</td>\n    </tr>\n  </tbody>\n</table>\n<p>89 rows × 2 columns</p>\n</div>"
     },
     "execution_count": 141,
     "metadata": {},
     "output_type": "execute_result"
    }
   ],
   "source": [
    "#Verify varus valgus discrepancy b/w Nav and manual\n",
    "varus_outliers = varus_valgus_outliers = varus_valgus_outliers[(varus_valgus_outliers['PreOp Mechanical axis'] >= 10) |\n",
    "                                                              (varus_valgus_outliers['Nav PreOp Measurement (degree; Valgus is negative)'] >= 10)]\n",
    "\n",
    "#Display discrepancies where XR measurement of mechanical axis does not equal NAV data\n",
    "varus_outliers[varus_outliers['PreOp Mechanical axis'] != varus_outliers['Nav PreOp Measurement (degree; Valgus is negative)']][['PreOp Mechanical axis', 'Nav PreOp Measurement (degree; Valgus is negative)']]"
   ]
  },
  {
   "cell_type": "code",
   "execution_count": 142,
   "metadata": {
    "pycharm": {
     "name": "#%%\n"
    }
   },
   "outputs": [
    {
     "data": {
      "text/plain": "          Laterality (Right =1; Left = 2) Team Member Med Hist Review  \\\nStudy ID                                                                \n7                                     2.0                     Hailley   \n15                                    2.0                     Hailley   \n17                                    1.0                     Hailley   \n22                                    2.0                     Hailley   \n29                                    1.0                     Hailley   \n...                                   ...                         ...   \n497                                   2.0                     Hailley   \n498                                   1.0                     Hailley   \n1                                     1.0                      Andrey   \n2                                     1.0                     Andrey    \n389                                   1.0                         NaN   \n\n         Team Member XRay Review Meets Inclusion: (Y=1; N=2)  \\\nStudy ID                                                       \n7                         Andrey                           1   \n15                        Andrey                           1   \n17                        Andrey                           1   \n22                        Andrey                           1   \n29                        Andrey                           1   \n...                          ...                         ...   \n497                          NaN                           1   \n498                          NaN                           1   \n1                            NaN                           1   \n2                            NaN                           1   \n389                          NaN                           1   \n\n          Nav or Conventional (Nav=1; Con=2)   Nav #  \\\nStudy ID                                               \n7                                        1.0  3056.0   \n15                                       1.0  3066.0   \n17                                       1.0  3068.0   \n22                                       1.0  3074.0   \n29                                       1.0  3082.0   \n...                                      ...     ...   \n497                                      1.0  3661.0   \n498                                      1.0  3663.0   \n1                                        1.0  3050.0   \n2                                        1.0  3051.0   \n389                                      1.0  3535.0   \n\n         MD (Phillips = 1; Rachala = 2)  Age at Surgery  Length of FU (Days)  \\\nStudy ID                                                                       \n7                                     1            69.0                123.0   \n15                                    1            71.0                106.0   \n17                                    1            58.0                169.0   \n22                                    1            54.0                  NaN   \n29                                    1            77.0                  NaN   \n...                                 ...             ...                  ...   \n497                                   1            57.0                362.0   \n498                                   1            74.0                328.0   \n1                                     1            51.0                  NaN   \n2                                     1            63.0                  NaN   \n389                                   1            81.0                  NaN   \n\n          Sex (M=1; F=2)  ...  KSS-Functional Knee Score 3 mo  \\\nStudy ID                  ...                                   \n7                    2.0  ...                             NaN   \n15                   1.0  ...                             NaN   \n17                   1.0  ...                             NaN   \n22                   2.0  ...                             NaN   \n29                   1.0  ...                             NaN   \n...                  ...  ...                             ...   \n497                  2.0  ...                             NaN   \n498                  1.0  ...                            20.0   \n1                    2.0  ...                             NaN   \n2                    1.0  ...                             NaN   \n389                  1.0  ...                             NaN   \n\n          KSS-Functional Knee Score 1 yr  \\\nStudy ID                                   \n7                                    NaN   \n15                                   NaN   \n17                                   NaN   \n22                                   NaN   \n29                                   NaN   \n...                                  ...   \n497                                  NaN   \n498                                  NaN   \n1                                    NaN   \n2                                    NaN   \n389                                  NaN   \n\n          KSS-Objective Knee Score (Pain) Score 2 wk  \\\nStudy ID                                               \n7                                                NaN   \n15                                               NaN   \n17                                               NaN   \n22                                               NaN   \n29                                               NaN   \n...                                              ...   \n497                                              NaN   \n498                                              NaN   \n1                                                NaN   \n2                                                NaN   \n389                                              NaN   \n\n         KSS-Objective Knee Score (Pain) Score 6 wk  \\\nStudy ID                                              \n7                                               NaN   \n15                                              NaN   \n17                                              NaN   \n22                                              NaN   \n29                                              NaN   \n...                                             ...   \n497                                             NaN   \n498                                             NaN   \n1                                               NaN   \n2                                               NaN   \n389                                             NaN   \n\n         KSS-Objective Knee Score (Pain) Score 3 mo  \\\nStudy ID                                              \n7                                               NaN   \n15                                              NaN   \n17                                              NaN   \n22                                              NaN   \n29                                              NaN   \n...                                             ...   \n497                                             NaN   \n498                                            50.0   \n1                                               NaN   \n2                                               NaN   \n389                                             NaN   \n\n         KSS-Objective Knee Score (Pain) Score 1 yr  LEAS Score 2 wk  \\\nStudy ID                                                               \n7                                               NaN              NaN   \n15                                              NaN              NaN   \n17                                              NaN              NaN   \n22                                              NaN              NaN   \n29                                              NaN              NaN   \n...                                             ...              ...   \n497                                             NaN              NaN   \n498                                             NaN              NaN   \n1                                               NaN              NaN   \n2                                               NaN              NaN   \n389                                             NaN              NaN   \n\n         LEAS Score 6 wk LEAS Score 3 mo  LEAS Score 1 yr  \nStudy ID                                                   \n7                    NaN             NaN              NaN  \n15                   NaN             NaN              NaN  \n17                   NaN             NaN              NaN  \n22                   NaN             NaN              NaN  \n29                   NaN             NaN              NaN  \n...                  ...             ...              ...  \n497                  NaN             NaN              NaN  \n498                  NaN             6.0              NaN  \n1                    NaN             NaN              NaN  \n2                    NaN             NaN              NaN  \n389                  NaN             NaN              NaN  \n\n[94 rows x 90 columns]",
      "text/html": "<div>\n<style scoped>\n    .dataframe tbody tr th:only-of-type {\n        vertical-align: middle;\n    }\n\n    .dataframe tbody tr th {\n        vertical-align: top;\n    }\n\n    .dataframe thead th {\n        text-align: right;\n    }\n</style>\n<table border=\"1\" class=\"dataframe\">\n  <thead>\n    <tr style=\"text-align: right;\">\n      <th></th>\n      <th>Laterality (Right =1; Left = 2)</th>\n      <th>Team Member Med Hist Review</th>\n      <th>Team Member XRay Review</th>\n      <th>Meets Inclusion: (Y=1; N=2)</th>\n      <th>Nav or Conventional (Nav=1; Con=2)</th>\n      <th>Nav #</th>\n      <th>MD (Phillips = 1; Rachala = 2)</th>\n      <th>Age at Surgery</th>\n      <th>Length of FU (Days)</th>\n      <th>Sex (M=1; F=2)</th>\n      <th>...</th>\n      <th>KSS-Functional Knee Score 3 mo</th>\n      <th>KSS-Functional Knee Score 1 yr</th>\n      <th>KSS-Objective Knee Score (Pain) Score 2 wk</th>\n      <th>KSS-Objective Knee Score (Pain) Score 6 wk</th>\n      <th>KSS-Objective Knee Score (Pain) Score 3 mo</th>\n      <th>KSS-Objective Knee Score (Pain) Score 1 yr</th>\n      <th>LEAS Score 2 wk</th>\n      <th>LEAS Score 6 wk</th>\n      <th>LEAS Score 3 mo</th>\n      <th>LEAS Score 1 yr</th>\n    </tr>\n    <tr>\n      <th>Study ID</th>\n      <th></th>\n      <th></th>\n      <th></th>\n      <th></th>\n      <th></th>\n      <th></th>\n      <th></th>\n      <th></th>\n      <th></th>\n      <th></th>\n      <th></th>\n      <th></th>\n      <th></th>\n      <th></th>\n      <th></th>\n      <th></th>\n      <th></th>\n      <th></th>\n      <th></th>\n      <th></th>\n      <th></th>\n    </tr>\n  </thead>\n  <tbody>\n    <tr>\n      <th>7</th>\n      <td>2.0</td>\n      <td>Hailley</td>\n      <td>Andrey</td>\n      <td>1</td>\n      <td>1.0</td>\n      <td>3056.0</td>\n      <td>1</td>\n      <td>69.0</td>\n      <td>123.0</td>\n      <td>2.0</td>\n      <td>...</td>\n      <td>NaN</td>\n      <td>NaN</td>\n      <td>NaN</td>\n      <td>NaN</td>\n      <td>NaN</td>\n      <td>NaN</td>\n      <td>NaN</td>\n      <td>NaN</td>\n      <td>NaN</td>\n      <td>NaN</td>\n    </tr>\n    <tr>\n      <th>15</th>\n      <td>2.0</td>\n      <td>Hailley</td>\n      <td>Andrey</td>\n      <td>1</td>\n      <td>1.0</td>\n      <td>3066.0</td>\n      <td>1</td>\n      <td>71.0</td>\n      <td>106.0</td>\n      <td>1.0</td>\n      <td>...</td>\n      <td>NaN</td>\n      <td>NaN</td>\n      <td>NaN</td>\n      <td>NaN</td>\n      <td>NaN</td>\n      <td>NaN</td>\n      <td>NaN</td>\n      <td>NaN</td>\n      <td>NaN</td>\n      <td>NaN</td>\n    </tr>\n    <tr>\n      <th>17</th>\n      <td>1.0</td>\n      <td>Hailley</td>\n      <td>Andrey</td>\n      <td>1</td>\n      <td>1.0</td>\n      <td>3068.0</td>\n      <td>1</td>\n      <td>58.0</td>\n      <td>169.0</td>\n      <td>1.0</td>\n      <td>...</td>\n      <td>NaN</td>\n      <td>NaN</td>\n      <td>NaN</td>\n      <td>NaN</td>\n      <td>NaN</td>\n      <td>NaN</td>\n      <td>NaN</td>\n      <td>NaN</td>\n      <td>NaN</td>\n      <td>NaN</td>\n    </tr>\n    <tr>\n      <th>22</th>\n      <td>2.0</td>\n      <td>Hailley</td>\n      <td>Andrey</td>\n      <td>1</td>\n      <td>1.0</td>\n      <td>3074.0</td>\n      <td>1</td>\n      <td>54.0</td>\n      <td>NaN</td>\n      <td>2.0</td>\n      <td>...</td>\n      <td>NaN</td>\n      <td>NaN</td>\n      <td>NaN</td>\n      <td>NaN</td>\n      <td>NaN</td>\n      <td>NaN</td>\n      <td>NaN</td>\n      <td>NaN</td>\n      <td>NaN</td>\n      <td>NaN</td>\n    </tr>\n    <tr>\n      <th>29</th>\n      <td>1.0</td>\n      <td>Hailley</td>\n      <td>Andrey</td>\n      <td>1</td>\n      <td>1.0</td>\n      <td>3082.0</td>\n      <td>1</td>\n      <td>77.0</td>\n      <td>NaN</td>\n      <td>1.0</td>\n      <td>...</td>\n      <td>NaN</td>\n      <td>NaN</td>\n      <td>NaN</td>\n      <td>NaN</td>\n      <td>NaN</td>\n      <td>NaN</td>\n      <td>NaN</td>\n      <td>NaN</td>\n      <td>NaN</td>\n      <td>NaN</td>\n    </tr>\n    <tr>\n      <th>...</th>\n      <td>...</td>\n      <td>...</td>\n      <td>...</td>\n      <td>...</td>\n      <td>...</td>\n      <td>...</td>\n      <td>...</td>\n      <td>...</td>\n      <td>...</td>\n      <td>...</td>\n      <td>...</td>\n      <td>...</td>\n      <td>...</td>\n      <td>...</td>\n      <td>...</td>\n      <td>...</td>\n      <td>...</td>\n      <td>...</td>\n      <td>...</td>\n      <td>...</td>\n      <td>...</td>\n    </tr>\n    <tr>\n      <th>497</th>\n      <td>2.0</td>\n      <td>Hailley</td>\n      <td>NaN</td>\n      <td>1</td>\n      <td>1.0</td>\n      <td>3661.0</td>\n      <td>1</td>\n      <td>57.0</td>\n      <td>362.0</td>\n      <td>2.0</td>\n      <td>...</td>\n      <td>NaN</td>\n      <td>NaN</td>\n      <td>NaN</td>\n      <td>NaN</td>\n      <td>NaN</td>\n      <td>NaN</td>\n      <td>NaN</td>\n      <td>NaN</td>\n      <td>NaN</td>\n      <td>NaN</td>\n    </tr>\n    <tr>\n      <th>498</th>\n      <td>1.0</td>\n      <td>Hailley</td>\n      <td>NaN</td>\n      <td>1</td>\n      <td>1.0</td>\n      <td>3663.0</td>\n      <td>1</td>\n      <td>74.0</td>\n      <td>328.0</td>\n      <td>1.0</td>\n      <td>...</td>\n      <td>20.0</td>\n      <td>NaN</td>\n      <td>NaN</td>\n      <td>NaN</td>\n      <td>50.0</td>\n      <td>NaN</td>\n      <td>NaN</td>\n      <td>NaN</td>\n      <td>6.0</td>\n      <td>NaN</td>\n    </tr>\n    <tr>\n      <th>1</th>\n      <td>1.0</td>\n      <td>Andrey</td>\n      <td>NaN</td>\n      <td>1</td>\n      <td>1.0</td>\n      <td>3050.0</td>\n      <td>1</td>\n      <td>51.0</td>\n      <td>NaN</td>\n      <td>2.0</td>\n      <td>...</td>\n      <td>NaN</td>\n      <td>NaN</td>\n      <td>NaN</td>\n      <td>NaN</td>\n      <td>NaN</td>\n      <td>NaN</td>\n      <td>NaN</td>\n      <td>NaN</td>\n      <td>NaN</td>\n      <td>NaN</td>\n    </tr>\n    <tr>\n      <th>2</th>\n      <td>1.0</td>\n      <td>Andrey</td>\n      <td>NaN</td>\n      <td>1</td>\n      <td>1.0</td>\n      <td>3051.0</td>\n      <td>1</td>\n      <td>63.0</td>\n      <td>NaN</td>\n      <td>1.0</td>\n      <td>...</td>\n      <td>NaN</td>\n      <td>NaN</td>\n      <td>NaN</td>\n      <td>NaN</td>\n      <td>NaN</td>\n      <td>NaN</td>\n      <td>NaN</td>\n      <td>NaN</td>\n      <td>NaN</td>\n      <td>NaN</td>\n    </tr>\n    <tr>\n      <th>389</th>\n      <td>1.0</td>\n      <td>NaN</td>\n      <td>NaN</td>\n      <td>1</td>\n      <td>1.0</td>\n      <td>3535.0</td>\n      <td>1</td>\n      <td>81.0</td>\n      <td>NaN</td>\n      <td>1.0</td>\n      <td>...</td>\n      <td>NaN</td>\n      <td>NaN</td>\n      <td>NaN</td>\n      <td>NaN</td>\n      <td>NaN</td>\n      <td>NaN</td>\n      <td>NaN</td>\n      <td>NaN</td>\n      <td>NaN</td>\n      <td>NaN</td>\n    </tr>\n  </tbody>\n</table>\n<p>94 rows × 90 columns</p>\n</div>"
     },
     "execution_count": 142,
     "metadata": {},
     "output_type": "execute_result"
    }
   ],
   "source": [
    "#Favor XR measurements over Nav\n",
    "varus_outliers = varus_valgus_outliers[(varus_valgus_outliers['PreOp Mechanical axis'] >= 10)]\n",
    "varus_outliers"
   ]
  },
  {
   "cell_type": "code",
   "execution_count": 148,
   "metadata": {
    "pycharm": {
     "name": "#%%\n"
    }
   },
   "outputs": [
    {
     "data": {
      "text/plain": "<pandas.io.formats.style.Styler at 0x1f84317c5b0>",
      "text/html": "<style type=\"text/css\">\n</style>\n<table id=\"T_6d601\">\n  <thead>\n    <tr>\n      <th class=\"blank level0\" >&nbsp;</th>\n      <th id=\"T_6d601_level0_col0\" class=\"col_heading level0 col0\" >count</th>\n      <th id=\"T_6d601_level0_col1\" class=\"col_heading level0 col1\" >mean</th>\n      <th id=\"T_6d601_level0_col2\" class=\"col_heading level0 col2\" >std</th>\n      <th id=\"T_6d601_level0_col3\" class=\"col_heading level0 col3\" >min</th>\n      <th id=\"T_6d601_level0_col4\" class=\"col_heading level0 col4\" >25%</th>\n      <th id=\"T_6d601_level0_col5\" class=\"col_heading level0 col5\" >50%</th>\n      <th id=\"T_6d601_level0_col6\" class=\"col_heading level0 col6\" >75%</th>\n      <th id=\"T_6d601_level0_col7\" class=\"col_heading level0 col7\" >max</th>\n    </tr>\n  </thead>\n  <tbody>\n    <tr>\n      <th id=\"T_6d601_level0_row0\" class=\"row_heading level0 row0\" >Age at Surgery</th>\n      <td id=\"T_6d601_row0_col0\" class=\"data row0 col0\" >94</td>\n      <td id=\"T_6d601_row0_col1\" class=\"data row0 col1\" >67.28</td>\n      <td id=\"T_6d601_row0_col2\" class=\"data row0 col2\" >8.88</td>\n      <td id=\"T_6d601_row0_col3\" class=\"data row0 col3\" >51.00</td>\n      <td id=\"T_6d601_row0_col4\" class=\"data row0 col4\" >61.00</td>\n      <td id=\"T_6d601_row0_col5\" class=\"data row0 col5\" >66.50</td>\n      <td id=\"T_6d601_row0_col6\" class=\"data row0 col6\" >73.00</td>\n      <td id=\"T_6d601_row0_col7\" class=\"data row0 col7\" >89.00</td>\n    </tr>\n    <tr>\n      <th id=\"T_6d601_level0_row1\" class=\"row_heading level0 row1\" >Length of FU (Days)</th>\n      <td id=\"T_6d601_row1_col0\" class=\"data row1 col0\" >79</td>\n      <td id=\"T_6d601_row1_col1\" class=\"data row1 col1\" >553.01</td>\n      <td id=\"T_6d601_row1_col2\" class=\"data row1 col2\" >582.06</td>\n      <td id=\"T_6d601_row1_col3\" class=\"data row1 col3\" >43.00</td>\n      <td id=\"T_6d601_row1_col4\" class=\"data row1 col4\" >208.50</td>\n      <td id=\"T_6d601_row1_col5\" class=\"data row1 col5\" >372.00</td>\n      <td id=\"T_6d601_row1_col6\" class=\"data row1 col6\" >714.00</td>\n      <td id=\"T_6d601_row1_col7\" class=\"data row1 col7\" >4068.00</td>\n    </tr>\n    <tr>\n      <th id=\"T_6d601_level0_row2\" class=\"row_heading level0 row2\" >BMI (kg/m2)</th>\n      <td id=\"T_6d601_row2_col0\" class=\"data row2 col0\" >94</td>\n      <td id=\"T_6d601_row2_col1\" class=\"data row2 col1\" >34.84</td>\n      <td id=\"T_6d601_row2_col2\" class=\"data row2 col2\" >9.21</td>\n      <td id=\"T_6d601_row2_col3\" class=\"data row2 col3\" >20.94</td>\n      <td id=\"T_6d601_row2_col4\" class=\"data row2 col4\" >27.37</td>\n      <td id=\"T_6d601_row2_col5\" class=\"data row2 col5\" >33.36</td>\n      <td id=\"T_6d601_row2_col6\" class=\"data row2 col6\" >40.33</td>\n      <td id=\"T_6d601_row2_col7\" class=\"data row2 col7\" >63.41</td>\n    </tr>\n    <tr>\n      <th id=\"T_6d601_level0_row3\" class=\"row_heading level0 row3\" >Nav PreOp Measurement (degree; Valgus is negative)</th>\n      <td id=\"T_6d601_row3_col0\" class=\"data row3 col0\" >94</td>\n      <td id=\"T_6d601_row3_col1\" class=\"data row3 col1\" >12.09</td>\n      <td id=\"T_6d601_row3_col2\" class=\"data row3 col2\" >3.42</td>\n      <td id=\"T_6d601_row3_col3\" class=\"data row3 col3\" >-11.50</td>\n      <td id=\"T_6d601_row3_col4\" class=\"data row3 col4\" >10.50</td>\n      <td id=\"T_6d601_row3_col5\" class=\"data row3 col5\" >12.00</td>\n      <td id=\"T_6d601_row3_col6\" class=\"data row3 col6\" >13.50</td>\n      <td id=\"T_6d601_row3_col7\" class=\"data row3 col7\" >22.00</td>\n    </tr>\n    <tr>\n      <th id=\"T_6d601_level0_row4\" class=\"row_heading level0 row4\" >Nav PostOp Measurement (degree; Valgus is negative)</th>\n      <td id=\"T_6d601_row4_col0\" class=\"data row4 col0\" >94</td>\n      <td id=\"T_6d601_row4_col1\" class=\"data row4 col1\" >1.42</td>\n      <td id=\"T_6d601_row4_col2\" class=\"data row4 col2\" >1.06</td>\n      <td id=\"T_6d601_row4_col3\" class=\"data row4 col3\" >-1.00</td>\n      <td id=\"T_6d601_row4_col4\" class=\"data row4 col4\" >0.50</td>\n      <td id=\"T_6d601_row4_col5\" class=\"data row4 col5\" >1.50</td>\n      <td id=\"T_6d601_row4_col6\" class=\"data row4 col6\" >2.00</td>\n      <td id=\"T_6d601_row4_col7\" class=\"data row4 col7\" >4.00</td>\n    </tr>\n    <tr>\n      <th id=\"T_6d601_level0_row5\" class=\"row_heading level0 row5\" >PreOp Extension (degrees; hyperextension is negative)</th>\n      <td id=\"T_6d601_row5_col0\" class=\"data row5 col0\" >93</td>\n      <td id=\"T_6d601_row5_col1\" class=\"data row5 col1\" >6.78</td>\n      <td id=\"T_6d601_row5_col2\" class=\"data row5 col2\" >7.00</td>\n      <td id=\"T_6d601_row5_col3\" class=\"data row5 col3\" >-12.00</td>\n      <td id=\"T_6d601_row5_col4\" class=\"data row5 col4\" >2.50</td>\n      <td id=\"T_6d601_row5_col5\" class=\"data row5 col5\" >7.50</td>\n      <td id=\"T_6d601_row5_col6\" class=\"data row5 col6\" >10.50</td>\n      <td id=\"T_6d601_row5_col7\" class=\"data row5 col7\" >23.50</td>\n    </tr>\n    <tr>\n      <th id=\"T_6d601_level0_row6\" class=\"row_heading level0 row6\" >PostOp Extension at Final FU (degrees; hyperextension is negative)</th>\n      <td id=\"T_6d601_row6_col0\" class=\"data row6 col0\" >93</td>\n      <td id=\"T_6d601_row6_col1\" class=\"data row6 col1\" >2.28</td>\n      <td id=\"T_6d601_row6_col2\" class=\"data row6 col2\" >1.32</td>\n      <td id=\"T_6d601_row6_col3\" class=\"data row6 col3\" >-2.00</td>\n      <td id=\"T_6d601_row6_col4\" class=\"data row6 col4\" >1.50</td>\n      <td id=\"T_6d601_row6_col5\" class=\"data row6 col5\" >2.50</td>\n      <td id=\"T_6d601_row6_col6\" class=\"data row6 col6\" >3.00</td>\n      <td id=\"T_6d601_row6_col7\" class=\"data row6 col7\" >5.00</td>\n    </tr>\n    <tr>\n      <th id=\"T_6d601_level0_row7\" class=\"row_heading level0 row7\" >PreOp Flexion (degrees)</th>\n      <td id=\"T_6d601_row7_col0\" class=\"data row7 col0\" >93</td>\n      <td id=\"T_6d601_row7_col1\" class=\"data row7 col1\" >133.65</td>\n      <td id=\"T_6d601_row7_col2\" class=\"data row7 col2\" >9.30</td>\n      <td id=\"T_6d601_row7_col3\" class=\"data row7 col3\" >107.50</td>\n      <td id=\"T_6d601_row7_col4\" class=\"data row7 col4\" >129.00</td>\n      <td id=\"T_6d601_row7_col5\" class=\"data row7 col5\" >134.50</td>\n      <td id=\"T_6d601_row7_col6\" class=\"data row7 col6\" >139.50</td>\n      <td id=\"T_6d601_row7_col7\" class=\"data row7 col7\" >162.50</td>\n    </tr>\n    <tr>\n      <th id=\"T_6d601_level0_row8\" class=\"row_heading level0 row8\" >PostOp Flexion (degrees)</th>\n      <td id=\"T_6d601_row8_col0\" class=\"data row8 col0\" >92</td>\n      <td id=\"T_6d601_row8_col1\" class=\"data row8 col1\" >132.45</td>\n      <td id=\"T_6d601_row8_col2\" class=\"data row8 col2\" >9.23</td>\n      <td id=\"T_6d601_row8_col3\" class=\"data row8 col3\" >113.00</td>\n      <td id=\"T_6d601_row8_col4\" class=\"data row8 col4\" >126.50</td>\n      <td id=\"T_6d601_row8_col5\" class=\"data row8 col5\" >131.75</td>\n      <td id=\"T_6d601_row8_col6\" class=\"data row8 col6\" >136.75</td>\n      <td id=\"T_6d601_row8_col7\" class=\"data row8 col7\" >160.50</td>\n    </tr>\n    <tr>\n      <th id=\"T_6d601_level0_row9\" class=\"row_heading level0 row9\" >Tourniquet time (min)</th>\n      <td id=\"T_6d601_row9_col0\" class=\"data row9 col0\" >69</td>\n      <td id=\"T_6d601_row9_col1\" class=\"data row9 col1\" >11.77</td>\n      <td id=\"T_6d601_row9_col2\" class=\"data row9 col2\" >12.38</td>\n      <td id=\"T_6d601_row9_col3\" class=\"data row9 col3\" >4.00</td>\n      <td id=\"T_6d601_row9_col4\" class=\"data row9 col4\" >5.00</td>\n      <td id=\"T_6d601_row9_col5\" class=\"data row9 col5\" >7.00</td>\n      <td id=\"T_6d601_row9_col6\" class=\"data row9 col6\" >12.00</td>\n      <td id=\"T_6d601_row9_col7\" class=\"data row9 col7\" >71.00</td>\n    </tr>\n    <tr>\n      <th id=\"T_6d601_level0_row10\" class=\"row_heading level0 row10\" >OR time (min)</th>\n      <td id=\"T_6d601_row10_col0\" class=\"data row10 col0\" >69</td>\n      <td id=\"T_6d601_row10_col1\" class=\"data row10 col1\" >72.13</td>\n      <td id=\"T_6d601_row10_col2\" class=\"data row10 col2\" >17.34</td>\n      <td id=\"T_6d601_row10_col3\" class=\"data row10 col3\" >31.00</td>\n      <td id=\"T_6d601_row10_col4\" class=\"data row10 col4\" >60.00</td>\n      <td id=\"T_6d601_row10_col5\" class=\"data row10 col5\" >67.00</td>\n      <td id=\"T_6d601_row10_col6\" class=\"data row10 col6\" >83.00</td>\n      <td id=\"T_6d601_row10_col7\" class=\"data row10 col7\" >116.00</td>\n    </tr>\n    <tr>\n      <th id=\"T_6d601_level0_row11\" class=\"row_heading level0 row11\" >Estimated Blood Loss (ml)</th>\n      <td id=\"T_6d601_row11_col0\" class=\"data row11 col0\" >57</td>\n      <td id=\"T_6d601_row11_col1\" class=\"data row11 col1\" >83.07</td>\n      <td id=\"T_6d601_row11_col2\" class=\"data row11 col2\" >58.37</td>\n      <td id=\"T_6d601_row11_col3\" class=\"data row11 col3\" >10.00</td>\n      <td id=\"T_6d601_row11_col4\" class=\"data row11 col4\" >50.00</td>\n      <td id=\"T_6d601_row11_col5\" class=\"data row11 col5\" >65.00</td>\n      <td id=\"T_6d601_row11_col6\" class=\"data row11 col6\" >100.00</td>\n      <td id=\"T_6d601_row11_col7\" class=\"data row11 col7\" >300.00</td>\n    </tr>\n    <tr>\n      <th id=\"T_6d601_level0_row12\" class=\"row_heading level0 row12\" >PreOp Mechanical axis</th>\n      <td id=\"T_6d601_row12_col0\" class=\"data row12 col0\" >94</td>\n      <td id=\"T_6d601_row12_col1\" class=\"data row12 col1\" >13.77</td>\n      <td id=\"T_6d601_row12_col2\" class=\"data row12 col2\" >3.38</td>\n      <td id=\"T_6d601_row12_col3\" class=\"data row12 col3\" >10.00</td>\n      <td id=\"T_6d601_row12_col4\" class=\"data row12 col4\" >11.00</td>\n      <td id=\"T_6d601_row12_col5\" class=\"data row12 col5\" >13.00</td>\n      <td id=\"T_6d601_row12_col6\" class=\"data row12 col6\" >15.00</td>\n      <td id=\"T_6d601_row12_col7\" class=\"data row12 col7\" >30.00</td>\n    </tr>\n    <tr>\n      <th id=\"T_6d601_level0_row13\" class=\"row_heading level0 row13\" >3mo PostOp Mechanical axis</th>\n      <td id=\"T_6d601_row13_col0\" class=\"data row13 col0\" >92</td>\n      <td id=\"T_6d601_row13_col1\" class=\"data row13 col1\" >1.82</td>\n      <td id=\"T_6d601_row13_col2\" class=\"data row13 col2\" >2.21</td>\n      <td id=\"T_6d601_row13_col3\" class=\"data row13 col3\" >-1.00</td>\n      <td id=\"T_6d601_row13_col4\" class=\"data row13 col4\" >1.00</td>\n      <td id=\"T_6d601_row13_col5\" class=\"data row13 col5\" >1.00</td>\n      <td id=\"T_6d601_row13_col6\" class=\"data row13 col6\" >2.00</td>\n      <td id=\"T_6d601_row13_col7\" class=\"data row13 col7\" >12.00</td>\n    </tr>\n    <tr>\n      <th id=\"T_6d601_level0_row14\" class=\"row_heading level0 row14\" >Final FU Mechanical axis</th>\n      <td id=\"T_6d601_row14_col0\" class=\"data row14 col0\" >92</td>\n      <td id=\"T_6d601_row14_col1\" class=\"data row14 col1\" >1.82</td>\n      <td id=\"T_6d601_row14_col2\" class=\"data row14 col2\" >2.04</td>\n      <td id=\"T_6d601_row14_col3\" class=\"data row14 col3\" >-1.00</td>\n      <td id=\"T_6d601_row14_col4\" class=\"data row14 col4\" >0.00</td>\n      <td id=\"T_6d601_row14_col5\" class=\"data row14 col5\" >1.00</td>\n      <td id=\"T_6d601_row14_col6\" class=\"data row14 col6\" >2.25</td>\n      <td id=\"T_6d601_row14_col7\" class=\"data row14 col7\" >10.00</td>\n    </tr>\n    <tr>\n      <th id=\"T_6d601_level0_row15\" class=\"row_heading level0 row15\" >PreOp Posterior Tibial Slope</th>\n      <td id=\"T_6d601_row15_col0\" class=\"data row15 col0\" >92</td>\n      <td id=\"T_6d601_row15_col1\" class=\"data row15 col1\" >11.10</td>\n      <td id=\"T_6d601_row15_col2\" class=\"data row15 col2\" >4.23</td>\n      <td id=\"T_6d601_row15_col3\" class=\"data row15 col3\" >3.00</td>\n      <td id=\"T_6d601_row15_col4\" class=\"data row15 col4\" >8.00</td>\n      <td id=\"T_6d601_row15_col5\" class=\"data row15 col5\" >11.00</td>\n      <td id=\"T_6d601_row15_col6\" class=\"data row15 col6\" >14.00</td>\n      <td id=\"T_6d601_row15_col7\" class=\"data row15 col7\" >22.00</td>\n    </tr>\n    <tr>\n      <th id=\"T_6d601_level0_row16\" class=\"row_heading level0 row16\" >PostOp Posterior Tibial Slope</th>\n      <td id=\"T_6d601_row16_col0\" class=\"data row16 col0\" >94</td>\n      <td id=\"T_6d601_row16_col1\" class=\"data row16 col1\" >3.10</td>\n      <td id=\"T_6d601_row16_col2\" class=\"data row16 col2\" >2.05</td>\n      <td id=\"T_6d601_row16_col3\" class=\"data row16 col3\" >0.00</td>\n      <td id=\"T_6d601_row16_col4\" class=\"data row16 col4\" >2.00</td>\n      <td id=\"T_6d601_row16_col5\" class=\"data row16 col5\" >3.00</td>\n      <td id=\"T_6d601_row16_col6\" class=\"data row16 col6\" >4.00</td>\n      <td id=\"T_6d601_row16_col7\" class=\"data row16 col7\" >9.00</td>\n    </tr>\n    <tr>\n      <th id=\"T_6d601_level0_row17\" class=\"row_heading level0 row17\" >PreOp Proximal Medial Tibial Angle</th>\n      <td id=\"T_6d601_row17_col0\" class=\"data row17 col0\" >94</td>\n      <td id=\"T_6d601_row17_col1\" class=\"data row17 col1\" >82.04</td>\n      <td id=\"T_6d601_row17_col2\" class=\"data row17 col2\" >3.42</td>\n      <td id=\"T_6d601_row17_col3\" class=\"data row17 col3\" >74.00</td>\n      <td id=\"T_6d601_row17_col4\" class=\"data row17 col4\" >80.00</td>\n      <td id=\"T_6d601_row17_col5\" class=\"data row17 col5\" >82.00</td>\n      <td id=\"T_6d601_row17_col6\" class=\"data row17 col6\" >84.00</td>\n      <td id=\"T_6d601_row17_col7\" class=\"data row17 col7\" >93.00</td>\n    </tr>\n    <tr>\n      <th id=\"T_6d601_level0_row18\" class=\"row_heading level0 row18\" >PostOp Proximal Medial Tibial Angle</th>\n      <td id=\"T_6d601_row18_col0\" class=\"data row18 col0\" >91</td>\n      <td id=\"T_6d601_row18_col1\" class=\"data row18 col1\" >88.97</td>\n      <td id=\"T_6d601_row18_col2\" class=\"data row18 col2\" >1.57</td>\n      <td id=\"T_6d601_row18_col3\" class=\"data row18 col3\" >83.00</td>\n      <td id=\"T_6d601_row18_col4\" class=\"data row18 col4\" >88.00</td>\n      <td id=\"T_6d601_row18_col5\" class=\"data row18 col5\" >89.00</td>\n      <td id=\"T_6d601_row18_col6\" class=\"data row18 col6\" >90.00</td>\n      <td id=\"T_6d601_row18_col7\" class=\"data row18 col7\" >93.00</td>\n    </tr>\n    <tr>\n      <th id=\"T_6d601_level0_row19\" class=\"row_heading level0 row19\" >PreOp Lateral Distal Femoral Angle</th>\n      <td id=\"T_6d601_row19_col0\" class=\"data row19 col0\" >94</td>\n      <td id=\"T_6d601_row19_col1\" class=\"data row19 col1\" >90.22</td>\n      <td id=\"T_6d601_row19_col2\" class=\"data row19 col2\" >2.88</td>\n      <td id=\"T_6d601_row19_col3\" class=\"data row19 col3\" >83.00</td>\n      <td id=\"T_6d601_row19_col4\" class=\"data row19 col4\" >89.00</td>\n      <td id=\"T_6d601_row19_col5\" class=\"data row19 col5\" >90.00</td>\n      <td id=\"T_6d601_row19_col6\" class=\"data row19 col6\" >92.00</td>\n      <td id=\"T_6d601_row19_col7\" class=\"data row19 col7\" >98.00</td>\n    </tr>\n    <tr>\n      <th id=\"T_6d601_level0_row20\" class=\"row_heading level0 row20\" >3 mo PostOp Lateral Distal Femoral Angle</th>\n      <td id=\"T_6d601_row20_col0\" class=\"data row20 col0\" >92</td>\n      <td id=\"T_6d601_row20_col1\" class=\"data row20 col1\" >89.86</td>\n      <td id=\"T_6d601_row20_col2\" class=\"data row20 col2\" >1.73</td>\n      <td id=\"T_6d601_row20_col3\" class=\"data row20 col3\" >82.00</td>\n      <td id=\"T_6d601_row20_col4\" class=\"data row20 col4\" >89.00</td>\n      <td id=\"T_6d601_row20_col5\" class=\"data row20 col5\" >90.00</td>\n      <td id=\"T_6d601_row20_col6\" class=\"data row20 col6\" >91.00</td>\n      <td id=\"T_6d601_row20_col7\" class=\"data row20 col7\" >95.00</td>\n    </tr>\n    <tr>\n      <th id=\"T_6d601_level0_row21\" class=\"row_heading level0 row21\" >Final FU Lateral Distal Femoral Angle</th>\n      <td id=\"T_6d601_row21_col0\" class=\"data row21 col0\" >92</td>\n      <td id=\"T_6d601_row21_col1\" class=\"data row21 col1\" >89.75</td>\n      <td id=\"T_6d601_row21_col2\" class=\"data row21 col2\" >1.76</td>\n      <td id=\"T_6d601_row21_col3\" class=\"data row21 col3\" >85.00</td>\n      <td id=\"T_6d601_row21_col4\" class=\"data row21 col4\" >89.00</td>\n      <td id=\"T_6d601_row21_col5\" class=\"data row21 col5\" >90.00</td>\n      <td id=\"T_6d601_row21_col6\" class=\"data row21 col6\" >90.25</td>\n      <td id=\"T_6d601_row21_col7\" class=\"data row21 col7\" >96.00</td>\n    </tr>\n    <tr>\n      <th id=\"T_6d601_level0_row22\" class=\"row_heading level0 row22\" >PostOp Patellar Tilt</th>\n      <td id=\"T_6d601_row22_col0\" class=\"data row22 col0\" >93</td>\n      <td id=\"T_6d601_row22_col1\" class=\"data row22 col1\" >7.19</td>\n      <td id=\"T_6d601_row22_col2\" class=\"data row22 col2\" >5.00</td>\n      <td id=\"T_6d601_row22_col3\" class=\"data row22 col3\" >0.00</td>\n      <td id=\"T_6d601_row22_col4\" class=\"data row22 col4\" >4.00</td>\n      <td id=\"T_6d601_row22_col5\" class=\"data row22 col5\" >6.00</td>\n      <td id=\"T_6d601_row22_col6\" class=\"data row22 col6\" >9.00</td>\n      <td id=\"T_6d601_row22_col7\" class=\"data row22 col7\" >24.00</td>\n    </tr>\n  </tbody>\n</table>\n"
     },
     "execution_count": 148,
     "metadata": {},
     "output_type": "execute_result"
    }
   ],
   "source": [
    "#Varus Continuous\n",
    "#Define a function to obtain descriptive statistics for a df\n",
    "def get_descr_stats(df, column_names):\n",
    "    return df[column_names].describe().transpose()\n",
    "\n",
    "\n",
    "#Lists of columns for continuous varus data\n",
    "basic_columns = [\"Age at Surgery\", \"Length of FU (Days)\", \"BMI (kg/m2)\"]\n",
    "nav_columns = varus_outliers.columns.values[19:21].tolist()\n",
    "misc_columns = varus_outliers.columns.values[24:31].tolist()\n",
    "xr_columns = varus_outliers.columns.values[41:52].tolist()\n",
    "column_continuous_lst = basic_columns + nav_columns + misc_columns + xr_columns\n",
    "\n",
    "\n",
    "#Compute descriptive statistics using applied formatting\n",
    "varus_outliers_descr_stats = get_descr_stats(varus_outliers, column_continuous_lst)\n",
    "varus_outliers_descr_stats.style.format({'count':'{:.0f}'}).format(precision=2, subset=varus_outliers_descr_stats.columns[1:])\n"
   ]
  },
  {
   "cell_type": "code",
   "execution_count": null,
   "outputs": [],
   "source": [
    "#Only Phillips Data in the outliers subset\n",
    "#Group Analysis Example\n",
    "smoker_groups = varus_outliers[column_continuous_lst + ['Smoker (Current=1; Former=2; Never=3)']].groupby('Smoker (Current=1; Former=2; Never=3)').describe().transpose()\n",
    "smoker_groups"
   ],
   "metadata": {
    "collapsed": false,
    "pycharm": {
     "name": "#%%\n"
    }
   }
  },
  {
   "cell_type": "code",
   "execution_count": null,
   "outputs": [],
   "source": [
    "#Varus Categorical\n",
    "column_categorical_lst = ['MD (Phillips = 1; Rachala = 2)', 'Sex (M=1; F=2)', 'Osteoporosis/Osteopenia (Y=1; N=2)', 'Smoker (Current=1; Former=2; Never=3)', 'Diabetes (Y=1; N=2)', 'Comorbitities (Less than or equal to two = 1; Three or more = 2) WRITE \"Less\" or \"More\"', 'Diagnosis (OA = 1; IA = 2; PTOA = 3; OA + IA = 4; OA + PTOA = 5)', 'Presence of PreOp Flexion Contracture (Y=1; N=2)', 'Tibial plateau fracture (Y=1; N=2)', 'Tibial component size', 'Femoral component size', 'Discharge destination (1=home; 2=rehab)', 'Readmission w/in 90 days (Y=1; N=2)', 'Reoperation (Y=1; N=2)', 'PostOp Infection  (Y=1; N=2)', 'Evidence of Hardware Failure (Y=1; N=2)', 'Fracture   (Y=1; N=2)', 'Subsidence   (Y=1; N=2)', 'Loosening   (Y=1; N=2)', 'Polyethylene Wear (Y=1; N=2)', '3mo PostOp Radiolucent lines (Y=1; N=2)', 'Final FU Radiolucent lines (Y=1; N=2)', '3mo PostOp Stress shielding (Y=1; N=2)', 'Final FU Stress shielding (Y=1; N=2)']\n",
    "\n",
    "varus_outliers[column_categorical_lst].astype(dtype='category').describe().transpose()\n",
    "\n"
   ],
   "metadata": {
    "collapsed": false,
    "pycharm": {
     "name": "#%%\n"
    }
   }
  },
  {
   "cell_type": "code",
   "execution_count": null,
   "outputs": [],
   "source": [],
   "metadata": {
    "collapsed": false,
    "pycharm": {
     "name": "#%%\n"
    }
   }
  }
 ],
 "metadata": {
  "kernelspec": {
   "display_name": "Python 3 (ipykernel)",
   "language": "python",
   "name": "python3"
  },
  "language_info": {
   "codemirror_mode": {
    "name": "ipython",
    "version": 3
   },
   "file_extension": ".py",
   "mimetype": "text/x-python",
   "name": "python",
   "nbconvert_exporter": "python",
   "pygments_lexer": "ipython3",
   "version": "3.10.4"
  }
 },
 "nbformat": 4,
 "nbformat_minor": 1
}