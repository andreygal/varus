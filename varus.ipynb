{
 "cells": [
  {
   "cell_type": "code",
   "execution_count": 123,
   "metadata": {
    "pycharm": {
     "name": "#%%\n"
    }
   },
   "outputs": [
    {
     "ename": "ModuleNotFoundError",
     "evalue": "No module named 'matplotlib'",
     "output_type": "error",
     "traceback": [
      "\u001B[1;31m---------------------------------------------------------------------------\u001B[0m",
      "\u001B[1;31mModuleNotFoundError\u001B[0m                       Traceback (most recent call last)",
      "Input \u001B[1;32mIn [123]\u001B[0m, in \u001B[0;36m<cell line: 4>\u001B[1;34m()\u001B[0m\n\u001B[0;32m      2\u001B[0m \u001B[38;5;28;01mimport\u001B[39;00m \u001B[38;5;21;01mpandas\u001B[39;00m \u001B[38;5;28;01mas\u001B[39;00m \u001B[38;5;21;01mpd\u001B[39;00m\n\u001B[0;32m      3\u001B[0m \u001B[38;5;28;01mimport\u001B[39;00m \u001B[38;5;21;01mnumpy\u001B[39;00m \u001B[38;5;28;01mas\u001B[39;00m \u001B[38;5;21;01mnp\u001B[39;00m\n\u001B[1;32m----> 4\u001B[0m \u001B[38;5;28;01mimport\u001B[39;00m \u001B[38;5;21;01mmatplotlib\u001B[39;00m\u001B[38;5;21;01m.\u001B[39;00m\u001B[38;5;21;01mpyplot\u001B[39;00m \u001B[38;5;28;01mas\u001B[39;00m \u001B[38;5;21;01mplt\u001B[39;00m\n\u001B[0;32m      5\u001B[0m \u001B[38;5;28;01mimport\u001B[39;00m \u001B[38;5;21;01mseaborn\u001B[39;00m \u001B[38;5;28;01mas\u001B[39;00m \u001B[38;5;21;01msns\u001B[39;00m\n",
      "\u001B[1;31mModuleNotFoundError\u001B[0m: No module named 'matplotlib'"
     ]
    }
   ],
   "source": [
    "#Packages\n",
    "import pandas as pd\n",
    "import numpy as np\n",
    "import matplotlib.pyplot as plt\n",
    "import seaborn as sns"
   ]
  },
  {
   "cell_type": "code",
   "execution_count": null,
   "metadata": {
    "pycharm": {
     "name": "#%%\n"
    }
   },
   "outputs": [],
   "source": [
    "#Ctrl + Q -> get function doc\n",
    "#Specify column data types for read_excel 'dtype' parameter using a dictionary\n",
    "#Can we convert some of these into boolean types and enums\n",
    "varus_valgus_dtypes = {\n",
    "    'Study ID':int,\n",
    "    'Laterality (Right =1; Left = 2)':np.float64,\n",
    "    'Team Member Med Hist Review':str,\n",
    "    'Team Member XRay Review':str,\n",
    "    'Meets Inclusion: (Y=1; N=2)':str,\n",
    "    'Nav or Conventional (Nav=1; Con=2)':np.float64,\n",
    "    'Nav #':np.float64,\n",
    "    'MD (Phillips = 1; Rachala = 2)':str,\n",
    "    'Age at Surgery':np.float64,\n",
    "    'Length of FU (Days)':np.float64,\n",
    "    'Sex (M=1; F=2)':np.float64,\n",
    "    'Ht (in)':np.float64,\n",
    "    'Wt (lbs)':np.float64,\n",
    "    'BMI (kg/m2)':np.float64,\n",
    "    'Osteoporosis/Osteopenia (Y=1; N=2)':str,\n",
    "    'Smoker (Current=1; Former=2; Never=3)':str,\n",
    "    'Diabetes (Y=1; N=2)':str,\n",
    "    'Comorbitities (Less than or equal to two = 1; Three or more = 2) WRITE \"Less\" or \"More\"':np.float64,\n",
    "    'Diagnosis (OA = 1; IA = 2; PTOA = 3; OA + IA = 4; OA + PTOA = 5)':str,\n",
    "    'Presence of PreOp Flexion Contracture (Y=1; N=2)':str,\n",
    "    'Nav PreOp Measurement (degree; Valgus is negative)':np.float64,\n",
    "    'Nav PostOp Measurement (degree; Valgus is negative)':np.float64,\n",
    "    'Nav PreOp Check':str,\n",
    "    'Nav PostOp Check':str,\n",
    "    'Group (Control=1; Outlier=2)':str,\n",
    "    'PreOp Extension (degrees; hyperextension is negative)':np.float64,\n",
    "    'PostOp Extension at Final FU (degrees; hyperextension is negative)':np.float64,\n",
    "    'PreOp Flexion (degrees)':np.float64,\n",
    "    'PostOp Flexion (degrees)':np.float64,\n",
    "    'Tourniquet time (min)':np.float64,\n",
    "    'OR time (min)':np.float64,\n",
    "    'Estimated Blood Loss (ml)':np.float64,\n",
    "    'Tibial plateau fracture (Y=1; N=2)':str,\n",
    "    'Tibial component size':np.float64,\n",
    "    'Femoral component size':np.float64,\n",
    "    'Length of Stay (days)':np.float64,\n",
    "    'Discharge destination (1=home; 2=rehab)':str,\n",
    "    'Readmission w/in 90 days (Y=1; N=2)':str,\n",
    "    'Reason for Readmission':str,\n",
    "    'Reoperation (Y=1; N=2)':str,\n",
    "    'Reason for reoperation':str,\n",
    "    'PostOp Infection  (Y=1; N=2)':str,\n",
    "    'PreOp Mechanical axis':np.float64,\n",
    "    '3mo PostOp Mechanical axis':np.float64,\n",
    "    'Final FU Mechanical axis':np.float64,\n",
    "    'PreOp Posterior Tibial Slope':np.float64,\n",
    "    'PostOp Posterior Tibial Slope':np.float64,\n",
    "    'PreOp Proximal Medial Tibial Angle':np.float64,\n",
    "    'PostOp Proximal Medial Tibial Angle':np.float64,\n",
    "    'PreOp Lateral Distal Femoral Angle':np.float64,\n",
    "    '3 mo PostOp Lateral Distal Femoral Angle':np.float64,\n",
    "    'Final FU Lateral Distal Femoral Angle':np.float64,\n",
    "    'PostOp Patellar Tilt':np.float64,\n",
    "    'Evidence of Hardware Failure (Y=1; N=2)':str,\n",
    "    'Fracture   (Y=1; N=2)':str,\n",
    "    'Subsidence   (Y=1; N=2)':str,\n",
    "    'Loosening   (Y=1; N=2)':str,\n",
    "    'Polyethylene Wear (Y=1; N=2)':str,\n",
    "    '3mo PostOp Radiolucent lines (Y=1; N=2)':str,\n",
    "    'Final FU Radiolucent lines (Y=1; N=2)':str,\n",
    "    '3mo PostOp Stress shielding (Y=1; N=2)':str,\n",
    "    'Final FU Stress shielding (Y=1; N=2)':str,\n",
    "    'UBMD General Function VAS Score 2 wk':np.float64,\n",
    "    'UBMD General Function VAS Score 6 wk':np.float64,\n",
    "    'UBMD General Function VAS Score 3 mo':np.float64,\n",
    "    'UBMD General Function VAS Score 1 yr':np.float64,\n",
    "    'UBMD General Pain VAS Score 2 wk':np.float64,\n",
    "    'UBMD General Pain VAS Score 6 wk':np.float64,\n",
    "    'UBMD General Pain VAS Score 3 mo':np.float64,\n",
    "    'UBMD General Pain VAS Score 1 yr':np.float64,\n",
    "    'SF-12 Physical Health Score 6 wk':np.float64,\n",
    "    'SF-12 Physical Health Score 3 mo':np.float64,\n",
    "    'SF-12 Physical Health Score 1 yr':np.float64,\n",
    "    'VR-12 Physical Score 6 wk':np.float64,\n",
    "    'VR-12 Physical Score 3 mo':np.float64,\n",
    "    'VR-12 Physical Score 1 yr':np.float64,\n",
    "    'VR6D Score 6 wk':np.float64,\n",
    "    'VR6D Score 3 mo':np.float64,\n",
    "    'VR6D Score 1 yr':np.float64,\n",
    "    'KSS-Functional Knee Score 2 wk':np.float64,\n",
    "    'KSS-Functional Knee Score 6 wk':np.float64,\n",
    "    'KSS-Functional Knee Score 3 mo':np.float64,\n",
    "    'KSS-Functional Knee Score 1 yr':np.float64,\n",
    "    'KSS-Objective Knee Score (Pain) Score 2 wk':np.float64,\n",
    "    'KSS-Objective Knee Score (Pain) Score 6 wk':np.float64,\n",
    "    'KSS-Objective Knee Score (Pain) Score 3 mo':np.float64,\n",
    "    'KSS-Objective Knee Score (Pain) Score 1 yr':np.float64,\n",
    "    'LEAS Score 2 wk':np.float64,\n",
    "    'LEAS Score 6 wk':np.float64,\n",
    "    'LEAS Score 3 mo':np.float64,\n",
    "    'LEAS Score 1 yr':np.float64\n",
    "}\n",
    "\n",
    "#Read-in the data file\n",
    "varus_valgus_original = pd.read_excel('varus_valgus.xlsx', dtype=varus_valgus_dtypes)\n",
    "\n",
    "\n",
    "#Questions for the group:\n",
    "# Will we treat varus and valgus separately?\n",
    "# Will we look at Rachala and Philips separately or as a group?"
   ]
  },
  {
   "cell_type": "code",
   "execution_count": null,
   "metadata": {
    "pycharm": {
     "name": "#%%\n"
    }
   },
   "outputs": [],
   "source": [
    "#Consider a dual index for outliers (use zip command and hier_index)\n",
    "varus_valgus_original.set_index('Study ID', inplace=True)"
   ]
  },
  {
   "cell_type": "code",
   "execution_count": null,
   "metadata": {
    "pycharm": {
     "name": "#%%\n"
    }
   },
   "outputs": [],
   "source": [
    "#Data cleaning step (missing data etc.)\n",
    "#df.dropna(axis=1) for columns df.fillna()"
   ]
  },
  {
   "cell_type": "code",
   "execution_count": null,
   "metadata": {
    "pycharm": {
     "name": "#%%\n"
    }
   },
   "outputs": [],
   "source": [
    "#Filter the original data for outliers\n",
    "#Any deviation of mechanical axis of 10 or more from normal, according to either Nav or XR measurement\n",
    "varus_valgus_outliers = varus_valgus_original[(abs(varus_valgus_original['PreOp Mechanical axis']) >= 10) |\n",
    "                                              (abs(varus_valgus_original['Nav PreOp Measurement (degree; Valgus is negative)']) >= 10)]\n",
    "varus_valgus_outliers"
   ]
  },
  {
   "cell_type": "code",
   "execution_count": null,
   "metadata": {
    "pycharm": {
     "name": "#%%\n"
    }
   },
   "outputs": [],
   "source": [
    "#Verify varus valgus discrepancy b/w Nav and manual\n",
    "varus_outliers = varus_valgus_outliers = varus_valgus_outliers[(varus_valgus_outliers['PreOp Mechanical axis'] >= 10) |\n",
    "                                                              (varus_valgus_outliers['Nav PreOp Measurement (degree; Valgus is negative)'] >= 10)]\n",
    "\n",
    "#Display discrepancies where XR measurement of mechanical axis does not equal NAV data\n",
    "varus_outliers[varus_outliers['PreOp Mechanical axis'] != varus_outliers['Nav PreOp Measurement (degree; Valgus is negative)']][['PreOp Mechanical axis', 'Nav PreOp Measurement (degree; Valgus is negative)']]"
   ]
  },
  {
   "cell_type": "code",
   "execution_count": null,
   "metadata": {
    "pycharm": {
     "name": "#%%\n"
    }
   },
   "outputs": [],
   "source": [
    "#Favor XR measurements over Nav\n",
    "varus_outliers = varus_valgus_outliers[(varus_valgus_outliers['PreOp Mechanical axis'] >= 10)]\n",
    "varus_outliers"
   ]
  },
  {
   "cell_type": "code",
   "execution_count": null,
   "metadata": {
    "pycharm": {
     "name": "#%%\n"
    }
   },
   "outputs": [],
   "source": [
    "#Varus Continuous\n",
    "#Define a function to obtain descriptive statistics for a df\n",
    "def get_descr_stats(df, column_names):\n",
    "    return df[column_names].describe().transpose()\n",
    "\n",
    "\n",
    "#Lists of columns for continuous varus data\n",
    "basic_columns = [\"Age at Surgery\", \"Length of FU (Days)\", \"BMI (kg/m2)\"]\n",
    "nav_columns = varus_outliers.columns.values[19:21].tolist()\n",
    "misc_columns = varus_outliers.columns.values[24:31].tolist()\n",
    "xr_columns = varus_outliers.columns.values[41:52].tolist()\n",
    "column_continuous_lst = basic_columns + nav_columns + misc_columns + xr_columns\n",
    "\n",
    "\n",
    "#Compute descriptive statistics using applied formatting\n",
    "varus_outliers_descr_stats = get_descr_stats(varus_outliers, column_continuous_lst)\n",
    "varus_outliers_descr_stats.style.format({'count':'{:.0f}'}).format(precision=2, subset=varus_outliers_descr_stats.columns[1:])\n"
   ]
  },
  {
   "cell_type": "code",
   "execution_count": null,
   "outputs": [],
   "source": [
    "#Only Phillips Data in the outliers subset\n",
    "#Group Analysis Example\n",
    "smoker_groups = varus_outliers[column_continuous_lst + ['Smoker (Current=1; Former=2; Never=3)']].groupby('Smoker (Current=1; Former=2; Never=3)').describe().transpose()\n",
    "smoker_groups.style.format('{:.1f}')"
   ],
   "metadata": {
    "collapsed": false,
    "pycharm": {
     "name": "#%%\n"
    }
   }
  },
  {
   "cell_type": "code",
   "execution_count": 145,
   "outputs": [
    {
     "data": {
      "text/plain": "[1    94\n Name: MD (Phillips = 1; Rachala = 2), dtype: category\n Categories (1, int64): [94],\n 1.0    49\n 2.0    45\n Name: Sex (M=1; F=2), dtype: category\n Categories (2, int64): [45, 49],\n 2    88\n 1     5\n Name: Osteoporosis/Osteopenia (Y=1; N=2), dtype: category\n Categories (2, int64): [5, 88],\n 3    53\n 2    36\n 1     4\n Name: Smoker (Current=1; Former=2; Never=3), dtype: category\n Categories (3, int64): [4, 36, 53],\n 2    72\n 1    21\n Name: Diabetes (Y=1; N=2), dtype: category\n Categories (2, int64): [21, 72],\n 2.0    79\n 1.0    12\n Name: Comorbitities (Less than or equal to two = 1; Three or more = 2) WRITE \"Less\" or \"More\", dtype: category\n Categories (2, int64): [12, 79],\n 1    91\n 3     1\n 4     1\n Name: Diagnosis (OA = 1; IA = 2; PTOA = 3; OA + IA = 4; OA + PTOA = 5), dtype: category\n Categories (2, int64): [1, 91],\n 1    76\n 2    17\n Name: Presence of PreOp Flexion Contracture (Y=1; N=2), dtype: category\n Categories (2, int64): [17, 76],\n 2    89\n Name: Tibial plateau fracture (Y=1; N=2), dtype: category\n Categories (1, int64): [89],\n 6.0    24\n 5.0    23\n 4.0    20\n 3.0    14\n 7.0     5\n 2.0     4\n 8.0     1\n Name: Tibial component size, dtype: category\n Categories (7, int64): [1, 4, 5, 14, 20, 23, 24],\n 5.0    23\n 4.0    21\n 6.0    18\n 3.0    16\n 7.0     8\n 2.0     4\n 8.0     1\n Name: Femoral component size, dtype: category\n Categories (7, int64): [1, 4, 8, 16, 18, 21, 23],\n 1    55\n 2    36\n Name: Discharge destination (1=home; 2=rehab), dtype: category\n Categories (2, int64): [36, 55],\n 2    84\n 1     6\n Name: Readmission w/in 90 days (Y=1; N=2), dtype: category\n Categories (2, int64): [6, 84],\n 2    86\n 1     4\n Name: Reoperation (Y=1; N=2), dtype: category\n Categories (2, int64): [4, 86],\n 2    89\n 1     1\n Name: PostOp Infection  (Y=1; N=2), dtype: category\n Categories (2, int64): [1, 89],\n 2    90\n Name: Evidence of Hardware Failure (Y=1; N=2), dtype: category\n Categories (1, int64): [90],\n 2    89\n Name: Fracture   (Y=1; N=2), dtype: category\n Categories (1, int64): [89],\n 2    90\n Name: Subsidence   (Y=1; N=2), dtype: category\n Categories (1, int64): [90],\n 2    89\n Name: Loosening   (Y=1; N=2), dtype: category\n Categories (1, int64): [89],\n 2    90\n Name: Polyethylene Wear (Y=1; N=2), dtype: category\n Categories (1, int64): [90],\n 2    89\n Name: 3mo PostOp Radiolucent lines (Y=1; N=2), dtype: category\n Categories (1, int64): [89],\n 2    85\n 1     1\n Name: Final FU Radiolucent lines (Y=1; N=2), dtype: category\n Categories (2, int64): [1, 85],\n 2    90\n Name: 3mo PostOp Stress shielding (Y=1; N=2), dtype: category\n Categories (1, int64): [90],\n 2    90\n Name: Final FU Stress shielding (Y=1; N=2), dtype: category\n Categories (1, int64): [90]]"
     },
     "execution_count": 145,
     "metadata": {},
     "output_type": "execute_result"
    }
   ],
   "source": [
    "#Varus Categorical\n",
    "column_categorical_lst = ['MD (Phillips = 1; Rachala = 2)', 'Sex (M=1; F=2)', 'Osteoporosis/Osteopenia (Y=1; N=2)', 'Smoker (Current=1; Former=2; Never=3)', 'Diabetes (Y=1; N=2)', 'Comorbitities (Less than or equal to two = 1; Three or more = 2) WRITE \"Less\" or \"More\"', 'Diagnosis (OA = 1; IA = 2; PTOA = 3; OA + IA = 4; OA + PTOA = 5)', 'Presence of PreOp Flexion Contracture (Y=1; N=2)', 'Tibial plateau fracture (Y=1; N=2)', 'Tibial component size', 'Femoral component size', 'Discharge destination (1=home; 2=rehab)', 'Readmission w/in 90 days (Y=1; N=2)', 'Reoperation (Y=1; N=2)', 'PostOp Infection  (Y=1; N=2)', 'Evidence of Hardware Failure (Y=1; N=2)', 'Fracture   (Y=1; N=2)', 'Subsidence   (Y=1; N=2)', 'Loosening   (Y=1; N=2)', 'Polyethylene Wear (Y=1; N=2)', '3mo PostOp Radiolucent lines (Y=1; N=2)', 'Final FU Radiolucent lines (Y=1; N=2)', '3mo PostOp Stress shielding (Y=1; N=2)', 'Final FU Stress shielding (Y=1; N=2)']\n",
    "\n",
    "categorical_out = varus_outliers[column_categorical_lst].astype(dtype='category').describe().transpose()\n",
    "\n",
    "#Format output as integers ('freq' was throwing errors when aggregate formatting was used)\n",
    "categorical_out['count'] = categorical_out['count'].map('{:,.0f}'.format)\n",
    "categorical_out['unique'] = categorical_out['unique'].map('{:,.0f}'.format)\n",
    "categorical_out['top'] = categorical_out['top'].astype(int).map('{:,.0f}'.format)\n",
    "categorical_out['freq'] = categorical_out['freq'].map('{:,.0f}'.format)\n",
    "\n",
    "categorical_out\n",
    "\n",
    "\n",
    "\n",
    "varus_out_cat[column_categorical_lst] = varus_outliers[column_categorical_lst].astype(dtype='category')\n",
    "#varus_out_cat.apply(lambda x:x.describe())\n",
    "cat_var_bins = []\n",
    "\n",
    "for col in column_categorical_lst:\n",
    "    cat_var_bins.append(varus_out_cat[col].value_counts().astype(dtype='category'))\n",
    "\n",
    "cat_var_bins"
   ],
   "metadata": {
    "collapsed": false,
    "pycharm": {
     "name": "#%%\n"
    }
   }
  },
  {
   "cell_type": "code",
   "execution_count": null,
   "outputs": [],
   "source": [],
   "metadata": {
    "collapsed": false,
    "pycharm": {
     "name": "#%%\n"
    }
   }
  }
 ],
 "metadata": {
  "kernelspec": {
   "display_name": "Python 3 (ipykernel)",
   "language": "python",
   "name": "python3"
  },
  "language_info": {
   "codemirror_mode": {
    "name": "ipython",
    "version": 3
   },
   "file_extension": ".py",
   "mimetype": "text/x-python",
   "name": "python",
   "nbconvert_exporter": "python",
   "pygments_lexer": "ipython3",
   "version": "3.10.4"
  }
 },
 "nbformat": 4,
 "nbformat_minor": 1
}