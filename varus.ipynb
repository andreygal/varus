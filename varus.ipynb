{
 "cells": [
  {
   "cell_type": "code",
   "execution_count": 8,
   "outputs": [],
   "source": [
    "import numpy as np\n",
    "import pandas as pd"
   ],
   "metadata": {
    "collapsed": false,
    "pycharm": {
     "name": "#%%\n"
    }
   }
  },
  {
   "cell_type": "code",
   "execution_count": 9,
   "outputs": [],
   "source": [
    "varus_original = pd.read_excel('varus.xlsx')"
   ],
   "metadata": {
    "collapsed": false,
    "pycharm": {
     "name": "#%%\n"
    }
   }
  },
  {
   "cell_type": "code",
   "execution_count": 10,
   "outputs": [
    {
     "data": {
      "text/plain": "      Study ID  Laterality (Right =1; Left = 2) Team Member Med Hist Review  \\\n0            7                              2.0                     Hailley   \n1           15                              2.0                     Hailley   \n2           17                              1.0                     Hailley   \n3           22                              2.0                     Hailley   \n4           29                              1.0                     Hailley   \n...        ...                              ...                         ...   \n1059      1120                              NaN                         NaN   \n1060      1121                              NaN                         NaN   \n1061      1122                              NaN                         NaN   \n1062      1123                              NaN                         NaN   \n1063      1124                              NaN                         NaN   \n\n     Team Member XRay Review  Meets Inclusion: (Y=1; N=2)  \\\n0                     Andrey                            1   \n1                     Andrey                            1   \n2                     Andrey                            1   \n3                     Andrey                            1   \n4                     Andrey                            1   \n...                      ...                          ...   \n1059                     NaN                            2   \n1060                     NaN                            2   \n1061                     NaN                            2   \n1062                     NaN                            2   \n1063                     NaN                            2   \n\n      Nav or Conventional (Nav=1; Con=2)   Nav #  \\\n0                                      1  3056.0   \n1                                      1  3066.0   \n2                                      1  3068.0   \n3                                      1  3074.0   \n4                                      1  3082.0   \n...                                  ...     ...   \n1059                                   2     NaN   \n1060                                   2     NaN   \n1061                                   2     NaN   \n1062                                   2     NaN   \n1063                                   2     NaN   \n\n      MD (Phillips = 1; Rachala = 2)  Age at Surgery  Length of FU (Days)  \\\n0                                  1              69                123.0   \n1                                  1              71                106.0   \n2                                  1              58                169.0   \n3                                  1              54                  NaN   \n4                                  1              77                  NaN   \n...                              ...             ...                  ...   \n1059                               2              70                  NaN   \n1060                               2              60                  NaN   \n1061                               2              64                  NaN   \n1062                               2              64                  NaN   \n1063                               2              68                  NaN   \n\n      ...  KSS-Functional Knee Score 3 mo  KSS-Functional Knee Score 1 yr  \\\n0     ...                             NaN                             NaN   \n1     ...                             NaN                             NaN   \n2     ...                             NaN                             NaN   \n3     ...                             NaN                             NaN   \n4     ...                             NaN                             NaN   \n...   ...                             ...                             ...   \n1059  ...                             NaN                             NaN   \n1060  ...                             NaN                             NaN   \n1061  ...                             NaN                             NaN   \n1062  ...                             NaN                             NaN   \n1063  ...                             NaN                             NaN   \n\n      KSS-Objective Knee Score (Pain) Score 2 wk  \\\n0                                            NaN   \n1                                            NaN   \n2                                            NaN   \n3                                            NaN   \n4                                            NaN   \n...                                          ...   \n1059                                         NaN   \n1060                                         NaN   \n1061                                         NaN   \n1062                                         NaN   \n1063                                         NaN   \n\n      KSS-Objective Knee Score (Pain) Score 6 wk  \\\n0                                            NaN   \n1                                            NaN   \n2                                            NaN   \n3                                            NaN   \n4                                            NaN   \n...                                          ...   \n1059                                         NaN   \n1060                                         NaN   \n1061                                         NaN   \n1062                                         NaN   \n1063                                         NaN   \n\n      KSS-Objective Knee Score (Pain) Score 3 mo  \\\n0                                            NaN   \n1                                            NaN   \n2                                            NaN   \n3                                            NaN   \n4                                            NaN   \n...                                          ...   \n1059                                         NaN   \n1060                                         NaN   \n1061                                         NaN   \n1062                                         NaN   \n1063                                         NaN   \n\n      KSS-Objective Knee Score (Pain) Score 1 yr  LEAS Score 2 wk  \\\n0                                            NaN              NaN   \n1                                            NaN              NaN   \n2                                            NaN              NaN   \n3                                            NaN              NaN   \n4                                            NaN              NaN   \n...                                          ...              ...   \n1059                                         NaN              NaN   \n1060                                         NaN              NaN   \n1061                                         NaN              NaN   \n1062                                         NaN              NaN   \n1063                                         NaN              NaN   \n\n      LEAS Score 6 wk  LEAS Score 3 mo  LEAS Score 1 yr  \n0                 NaN              NaN              NaN  \n1                 NaN              NaN              NaN  \n2                 NaN              NaN              NaN  \n3                 NaN              NaN              NaN  \n4                 NaN              NaN              NaN  \n...               ...              ...              ...  \n1059              NaN              NaN              NaN  \n1060              NaN              NaN              NaN  \n1061              NaN              NaN              NaN  \n1062              NaN              NaN              NaN  \n1063              NaN              NaN              NaN  \n\n[1064 rows x 91 columns]",
      "text/html": "<div>\n<style scoped>\n    .dataframe tbody tr th:only-of-type {\n        vertical-align: middle;\n    }\n\n    .dataframe tbody tr th {\n        vertical-align: top;\n    }\n\n    .dataframe thead th {\n        text-align: right;\n    }\n</style>\n<table border=\"1\" class=\"dataframe\">\n  <thead>\n    <tr style=\"text-align: right;\">\n      <th></th>\n      <th>Study ID</th>\n      <th>Laterality (Right =1; Left = 2)</th>\n      <th>Team Member Med Hist Review</th>\n      <th>Team Member XRay Review</th>\n      <th>Meets Inclusion: (Y=1; N=2)</th>\n      <th>Nav or Conventional (Nav=1; Con=2)</th>\n      <th>Nav #</th>\n      <th>MD (Phillips = 1; Rachala = 2)</th>\n      <th>Age at Surgery</th>\n      <th>Length of FU (Days)</th>\n      <th>...</th>\n      <th>KSS-Functional Knee Score 3 mo</th>\n      <th>KSS-Functional Knee Score 1 yr</th>\n      <th>KSS-Objective Knee Score (Pain) Score 2 wk</th>\n      <th>KSS-Objective Knee Score (Pain) Score 6 wk</th>\n      <th>KSS-Objective Knee Score (Pain) Score 3 mo</th>\n      <th>KSS-Objective Knee Score (Pain) Score 1 yr</th>\n      <th>LEAS Score 2 wk</th>\n      <th>LEAS Score 6 wk</th>\n      <th>LEAS Score 3 mo</th>\n      <th>LEAS Score 1 yr</th>\n    </tr>\n  </thead>\n  <tbody>\n    <tr>\n      <th>0</th>\n      <td>7</td>\n      <td>2.0</td>\n      <td>Hailley</td>\n      <td>Andrey</td>\n      <td>1</td>\n      <td>1</td>\n      <td>3056.0</td>\n      <td>1</td>\n      <td>69</td>\n      <td>123.0</td>\n      <td>...</td>\n      <td>NaN</td>\n      <td>NaN</td>\n      <td>NaN</td>\n      <td>NaN</td>\n      <td>NaN</td>\n      <td>NaN</td>\n      <td>NaN</td>\n      <td>NaN</td>\n      <td>NaN</td>\n      <td>NaN</td>\n    </tr>\n    <tr>\n      <th>1</th>\n      <td>15</td>\n      <td>2.0</td>\n      <td>Hailley</td>\n      <td>Andrey</td>\n      <td>1</td>\n      <td>1</td>\n      <td>3066.0</td>\n      <td>1</td>\n      <td>71</td>\n      <td>106.0</td>\n      <td>...</td>\n      <td>NaN</td>\n      <td>NaN</td>\n      <td>NaN</td>\n      <td>NaN</td>\n      <td>NaN</td>\n      <td>NaN</td>\n      <td>NaN</td>\n      <td>NaN</td>\n      <td>NaN</td>\n      <td>NaN</td>\n    </tr>\n    <tr>\n      <th>2</th>\n      <td>17</td>\n      <td>1.0</td>\n      <td>Hailley</td>\n      <td>Andrey</td>\n      <td>1</td>\n      <td>1</td>\n      <td>3068.0</td>\n      <td>1</td>\n      <td>58</td>\n      <td>169.0</td>\n      <td>...</td>\n      <td>NaN</td>\n      <td>NaN</td>\n      <td>NaN</td>\n      <td>NaN</td>\n      <td>NaN</td>\n      <td>NaN</td>\n      <td>NaN</td>\n      <td>NaN</td>\n      <td>NaN</td>\n      <td>NaN</td>\n    </tr>\n    <tr>\n      <th>3</th>\n      <td>22</td>\n      <td>2.0</td>\n      <td>Hailley</td>\n      <td>Andrey</td>\n      <td>1</td>\n      <td>1</td>\n      <td>3074.0</td>\n      <td>1</td>\n      <td>54</td>\n      <td>NaN</td>\n      <td>...</td>\n      <td>NaN</td>\n      <td>NaN</td>\n      <td>NaN</td>\n      <td>NaN</td>\n      <td>NaN</td>\n      <td>NaN</td>\n      <td>NaN</td>\n      <td>NaN</td>\n      <td>NaN</td>\n      <td>NaN</td>\n    </tr>\n    <tr>\n      <th>4</th>\n      <td>29</td>\n      <td>1.0</td>\n      <td>Hailley</td>\n      <td>Andrey</td>\n      <td>1</td>\n      <td>1</td>\n      <td>3082.0</td>\n      <td>1</td>\n      <td>77</td>\n      <td>NaN</td>\n      <td>...</td>\n      <td>NaN</td>\n      <td>NaN</td>\n      <td>NaN</td>\n      <td>NaN</td>\n      <td>NaN</td>\n      <td>NaN</td>\n      <td>NaN</td>\n      <td>NaN</td>\n      <td>NaN</td>\n      <td>NaN</td>\n    </tr>\n    <tr>\n      <th>...</th>\n      <td>...</td>\n      <td>...</td>\n      <td>...</td>\n      <td>...</td>\n      <td>...</td>\n      <td>...</td>\n      <td>...</td>\n      <td>...</td>\n      <td>...</td>\n      <td>...</td>\n      <td>...</td>\n      <td>...</td>\n      <td>...</td>\n      <td>...</td>\n      <td>...</td>\n      <td>...</td>\n      <td>...</td>\n      <td>...</td>\n      <td>...</td>\n      <td>...</td>\n      <td>...</td>\n    </tr>\n    <tr>\n      <th>1059</th>\n      <td>1120</td>\n      <td>NaN</td>\n      <td>NaN</td>\n      <td>NaN</td>\n      <td>2</td>\n      <td>2</td>\n      <td>NaN</td>\n      <td>2</td>\n      <td>70</td>\n      <td>NaN</td>\n      <td>...</td>\n      <td>NaN</td>\n      <td>NaN</td>\n      <td>NaN</td>\n      <td>NaN</td>\n      <td>NaN</td>\n      <td>NaN</td>\n      <td>NaN</td>\n      <td>NaN</td>\n      <td>NaN</td>\n      <td>NaN</td>\n    </tr>\n    <tr>\n      <th>1060</th>\n      <td>1121</td>\n      <td>NaN</td>\n      <td>NaN</td>\n      <td>NaN</td>\n      <td>2</td>\n      <td>2</td>\n      <td>NaN</td>\n      <td>2</td>\n      <td>60</td>\n      <td>NaN</td>\n      <td>...</td>\n      <td>NaN</td>\n      <td>NaN</td>\n      <td>NaN</td>\n      <td>NaN</td>\n      <td>NaN</td>\n      <td>NaN</td>\n      <td>NaN</td>\n      <td>NaN</td>\n      <td>NaN</td>\n      <td>NaN</td>\n    </tr>\n    <tr>\n      <th>1061</th>\n      <td>1122</td>\n      <td>NaN</td>\n      <td>NaN</td>\n      <td>NaN</td>\n      <td>2</td>\n      <td>2</td>\n      <td>NaN</td>\n      <td>2</td>\n      <td>64</td>\n      <td>NaN</td>\n      <td>...</td>\n      <td>NaN</td>\n      <td>NaN</td>\n      <td>NaN</td>\n      <td>NaN</td>\n      <td>NaN</td>\n      <td>NaN</td>\n      <td>NaN</td>\n      <td>NaN</td>\n      <td>NaN</td>\n      <td>NaN</td>\n    </tr>\n    <tr>\n      <th>1062</th>\n      <td>1123</td>\n      <td>NaN</td>\n      <td>NaN</td>\n      <td>NaN</td>\n      <td>2</td>\n      <td>2</td>\n      <td>NaN</td>\n      <td>2</td>\n      <td>64</td>\n      <td>NaN</td>\n      <td>...</td>\n      <td>NaN</td>\n      <td>NaN</td>\n      <td>NaN</td>\n      <td>NaN</td>\n      <td>NaN</td>\n      <td>NaN</td>\n      <td>NaN</td>\n      <td>NaN</td>\n      <td>NaN</td>\n      <td>NaN</td>\n    </tr>\n    <tr>\n      <th>1063</th>\n      <td>1124</td>\n      <td>NaN</td>\n      <td>NaN</td>\n      <td>NaN</td>\n      <td>2</td>\n      <td>2</td>\n      <td>NaN</td>\n      <td>2</td>\n      <td>68</td>\n      <td>NaN</td>\n      <td>...</td>\n      <td>NaN</td>\n      <td>NaN</td>\n      <td>NaN</td>\n      <td>NaN</td>\n      <td>NaN</td>\n      <td>NaN</td>\n      <td>NaN</td>\n      <td>NaN</td>\n      <td>NaN</td>\n      <td>NaN</td>\n    </tr>\n  </tbody>\n</table>\n<p>1064 rows × 91 columns</p>\n</div>"
     },
     "execution_count": 10,
     "metadata": {},
     "output_type": "execute_result"
    }
   ],
   "source": [
    "varus_original"
   ],
   "metadata": {
    "collapsed": false,
    "pycharm": {
     "name": "#%%\n"
    }
   }
  },
  {
   "cell_type": "code",
   "execution_count": 10,
   "outputs": [],
   "source": [],
   "metadata": {
    "collapsed": false,
    "pycharm": {
     "name": "#%%\n"
    }
   }
  },
  {
   "cell_type": "code",
   "execution_count": 10,
   "outputs": [],
   "source": [],
   "metadata": {
    "collapsed": false,
    "pycharm": {
     "name": "#%%\n"
    }
   }
  }
 ],
 "metadata": {
  "kernelspec": {
   "display_name": "Python 3",
   "language": "python",
   "name": "python3"
  },
  "language_info": {
   "codemirror_mode": {
    "name": "ipython",
    "version": 2
   },
   "file_extension": ".py",
   "mimetype": "text/x-python",
   "name": "python",
   "nbconvert_exporter": "python",
   "pygments_lexer": "ipython2",
   "version": "2.7.6"
  }
 },
 "nbformat": 4,
 "nbformat_minor": 0
}