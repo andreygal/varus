{
 "cells": [
  {
   "cell_type": "code",
   "execution_count": 24,
   "metadata": {
    "pycharm": {
     "name": "#%%\n"
    }
   },
   "outputs": [],
   "source": [
    "import numpy as np\n",
    "import pandas as pd"
   ]
  },
  {
   "cell_type": "code",
   "execution_count": 25,
   "metadata": {
    "pycharm": {
     "name": "#%%\n"
    }
   },
   "outputs": [],
   "source": [
    "varus_valgus_original = pd.read_excel('varus_valgus.xlsx')\n",
    "# Will we treat varus and valgus separately? \n",
    "# Will we look at Rachala and Philips separately or as a group?"
   ]
  },
  {
   "cell_type": "code",
   "execution_count": 26,
   "metadata": {
    "pycharm": {
     "name": "#%%\n"
    }
   },
   "outputs": [],
   "source": [
    "#Consider a dual index for outliers (use zip command and hier_index)\n",
    "varus_valgus_original.set_index('Study ID', inplace=True)"
   ]
  },
  {
   "cell_type": "code",
   "execution_count": 27,
   "outputs": [],
   "source": [
    "#Data cleaning step (missing data etc.)\n",
    "#df.dropna(axis=1) for columns df.fillna()"
   ],
   "metadata": {
    "collapsed": false,
    "pycharm": {
     "name": "#%%\n"
    }
   }
  },
  {
   "cell_type": "code",
   "execution_count": 28,
   "metadata": {
    "pycharm": {
     "name": "#%%\n"
    }
   },
   "outputs": [],
   "source": [
    "#Filter the original data for outliers\n",
    "#Any deviation of mechanical axis of 10 or more from normal, according to either Nav or XR measurement\n",
    "varus_valgus_outliers = varus_valgus_original[(abs(varus_valgus_original['PreOp Mechanical axis']) >= 10) |\n",
    "                                              (abs(varus_valgus_original['Nav PreOp Measurement (degree; Valgus is negative)']) >= 10)]"
   ]
  },
  {
   "cell_type": "code",
   "execution_count": 29,
   "metadata": {
    "pycharm": {
     "name": "#%%\n"
    }
   },
   "outputs": [
    {
     "data": {
      "text/plain": "          Laterality (Right =1; Left = 2) Team Member Med Hist Review  \\\nStudy ID                                                                \n7                                     2.0                     Hailley   \n15                                    2.0                     Hailley   \n17                                    1.0                     Hailley   \n22                                    2.0                     Hailley   \n29                                    1.0                     Hailley   \n...                                   ...                         ...   \n497                                   2.0                     Hailley   \n498                                   1.0                     Hailley   \n1                                     1.0                      Andrey   \n2                                     1.0                     Andrey    \n389                                   1.0                         NaN   \n\n         Team Member XRay Review  Meets Inclusion: (Y=1; N=2)  \\\nStudy ID                                                        \n7                         Andrey                            1   \n15                        Andrey                            1   \n17                        Andrey                            1   \n22                        Andrey                            1   \n29                        Andrey                            1   \n...                          ...                          ...   \n497                          NaN                            1   \n498                          NaN                            1   \n1                            NaN                            1   \n2                            NaN                            1   \n389                          NaN                            1   \n\n          Nav or Conventional (Nav=1; Con=2)   Nav #  \\\nStudy ID                                               \n7                                          1  3056.0   \n15                                         1  3066.0   \n17                                         1  3068.0   \n22                                         1  3074.0   \n29                                         1  3082.0   \n...                                      ...     ...   \n497                                        1  3661.0   \n498                                        1  3663.0   \n1                                          1  3050.0   \n2                                          1  3051.0   \n389                                        1  3535.0   \n\n          MD (Phillips = 1; Rachala = 2)  Age at Surgery  Length of FU (Days)  \\\nStudy ID                                                                        \n7                                      1              69                123.0   \n15                                     1              71                106.0   \n17                                     1              58                169.0   \n22                                     1              54                  NaN   \n29                                     1              77                  NaN   \n...                                  ...             ...                  ...   \n497                                    1              57                362.0   \n498                                    1              74                328.0   \n1                                      1              51                  NaN   \n2                                      1              63                  NaN   \n389                                    1              81                  NaN   \n\n          Sex (M=1; F=2)  ...  KSS-Functional Knee Score 3 mo  \\\nStudy ID                  ...                                   \n7                      2  ...                             NaN   \n15                     1  ...                             NaN   \n17                     1  ...                             NaN   \n22                     2  ...                             NaN   \n29                     1  ...                             NaN   \n...                  ...  ...                             ...   \n497                    2  ...                             NaN   \n498                    1  ...                            20.0   \n1                      2  ...                             NaN   \n2                      1  ...                             NaN   \n389                    1  ...                             NaN   \n\n          KSS-Functional Knee Score 1 yr  \\\nStudy ID                                   \n7                                    NaN   \n15                                   NaN   \n17                                   NaN   \n22                                   NaN   \n29                                   NaN   \n...                                  ...   \n497                                  NaN   \n498                                  NaN   \n1                                    NaN   \n2                                    NaN   \n389                                  NaN   \n\n          KSS-Objective Knee Score (Pain) Score 2 wk  \\\nStudy ID                                               \n7                                                NaN   \n15                                               NaN   \n17                                               NaN   \n22                                               NaN   \n29                                               NaN   \n...                                              ...   \n497                                              NaN   \n498                                              NaN   \n1                                                NaN   \n2                                                NaN   \n389                                              NaN   \n\n          KSS-Objective Knee Score (Pain) Score 6 wk  \\\nStudy ID                                               \n7                                                NaN   \n15                                               NaN   \n17                                               NaN   \n22                                               NaN   \n29                                               NaN   \n...                                              ...   \n497                                              NaN   \n498                                              NaN   \n1                                                NaN   \n2                                                NaN   \n389                                              NaN   \n\n          KSS-Objective Knee Score (Pain) Score 3 mo  \\\nStudy ID                                               \n7                                                NaN   \n15                                               NaN   \n17                                               NaN   \n22                                               NaN   \n29                                               NaN   \n...                                              ...   \n497                                              NaN   \n498                                             50.0   \n1                                                NaN   \n2                                                NaN   \n389                                              NaN   \n\n          KSS-Objective Knee Score (Pain) Score 1 yr  LEAS Score 2 wk  \\\nStudy ID                                                                \n7                                                NaN              NaN   \n15                                               NaN              NaN   \n17                                               NaN              NaN   \n22                                               NaN              NaN   \n29                                               NaN              NaN   \n...                                              ...              ...   \n497                                              NaN              NaN   \n498                                              NaN              NaN   \n1                                                NaN              NaN   \n2                                                NaN              NaN   \n389                                              NaN              NaN   \n\n          LEAS Score 6 wk  LEAS Score 3 mo  LEAS Score 1 yr  \nStudy ID                                                     \n7                     NaN              NaN              NaN  \n15                    NaN              NaN              NaN  \n17                    NaN              NaN              NaN  \n22                    NaN              NaN              NaN  \n29                    NaN              NaN              NaN  \n...                   ...              ...              ...  \n497                   NaN              NaN              NaN  \n498                   NaN              6.0              NaN  \n1                     NaN              NaN              NaN  \n2                     NaN              NaN              NaN  \n389                   NaN              NaN              NaN  \n\n[102 rows x 90 columns]",
      "text/html": "<div>\n<style scoped>\n    .dataframe tbody tr th:only-of-type {\n        vertical-align: middle;\n    }\n\n    .dataframe tbody tr th {\n        vertical-align: top;\n    }\n\n    .dataframe thead th {\n        text-align: right;\n    }\n</style>\n<table border=\"1\" class=\"dataframe\">\n  <thead>\n    <tr style=\"text-align: right;\">\n      <th></th>\n      <th>Laterality (Right =1; Left = 2)</th>\n      <th>Team Member Med Hist Review</th>\n      <th>Team Member XRay Review</th>\n      <th>Meets Inclusion: (Y=1; N=2)</th>\n      <th>Nav or Conventional (Nav=1; Con=2)</th>\n      <th>Nav #</th>\n      <th>MD (Phillips = 1; Rachala = 2)</th>\n      <th>Age at Surgery</th>\n      <th>Length of FU (Days)</th>\n      <th>Sex (M=1; F=2)</th>\n      <th>...</th>\n      <th>KSS-Functional Knee Score 3 mo</th>\n      <th>KSS-Functional Knee Score 1 yr</th>\n      <th>KSS-Objective Knee Score (Pain) Score 2 wk</th>\n      <th>KSS-Objective Knee Score (Pain) Score 6 wk</th>\n      <th>KSS-Objective Knee Score (Pain) Score 3 mo</th>\n      <th>KSS-Objective Knee Score (Pain) Score 1 yr</th>\n      <th>LEAS Score 2 wk</th>\n      <th>LEAS Score 6 wk</th>\n      <th>LEAS Score 3 mo</th>\n      <th>LEAS Score 1 yr</th>\n    </tr>\n    <tr>\n      <th>Study ID</th>\n      <th></th>\n      <th></th>\n      <th></th>\n      <th></th>\n      <th></th>\n      <th></th>\n      <th></th>\n      <th></th>\n      <th></th>\n      <th></th>\n      <th></th>\n      <th></th>\n      <th></th>\n      <th></th>\n      <th></th>\n      <th></th>\n      <th></th>\n      <th></th>\n      <th></th>\n      <th></th>\n      <th></th>\n    </tr>\n  </thead>\n  <tbody>\n    <tr>\n      <th>7</th>\n      <td>2.0</td>\n      <td>Hailley</td>\n      <td>Andrey</td>\n      <td>1</td>\n      <td>1</td>\n      <td>3056.0</td>\n      <td>1</td>\n      <td>69</td>\n      <td>123.0</td>\n      <td>2</td>\n      <td>...</td>\n      <td>NaN</td>\n      <td>NaN</td>\n      <td>NaN</td>\n      <td>NaN</td>\n      <td>NaN</td>\n      <td>NaN</td>\n      <td>NaN</td>\n      <td>NaN</td>\n      <td>NaN</td>\n      <td>NaN</td>\n    </tr>\n    <tr>\n      <th>15</th>\n      <td>2.0</td>\n      <td>Hailley</td>\n      <td>Andrey</td>\n      <td>1</td>\n      <td>1</td>\n      <td>3066.0</td>\n      <td>1</td>\n      <td>71</td>\n      <td>106.0</td>\n      <td>1</td>\n      <td>...</td>\n      <td>NaN</td>\n      <td>NaN</td>\n      <td>NaN</td>\n      <td>NaN</td>\n      <td>NaN</td>\n      <td>NaN</td>\n      <td>NaN</td>\n      <td>NaN</td>\n      <td>NaN</td>\n      <td>NaN</td>\n    </tr>\n    <tr>\n      <th>17</th>\n      <td>1.0</td>\n      <td>Hailley</td>\n      <td>Andrey</td>\n      <td>1</td>\n      <td>1</td>\n      <td>3068.0</td>\n      <td>1</td>\n      <td>58</td>\n      <td>169.0</td>\n      <td>1</td>\n      <td>...</td>\n      <td>NaN</td>\n      <td>NaN</td>\n      <td>NaN</td>\n      <td>NaN</td>\n      <td>NaN</td>\n      <td>NaN</td>\n      <td>NaN</td>\n      <td>NaN</td>\n      <td>NaN</td>\n      <td>NaN</td>\n    </tr>\n    <tr>\n      <th>22</th>\n      <td>2.0</td>\n      <td>Hailley</td>\n      <td>Andrey</td>\n      <td>1</td>\n      <td>1</td>\n      <td>3074.0</td>\n      <td>1</td>\n      <td>54</td>\n      <td>NaN</td>\n      <td>2</td>\n      <td>...</td>\n      <td>NaN</td>\n      <td>NaN</td>\n      <td>NaN</td>\n      <td>NaN</td>\n      <td>NaN</td>\n      <td>NaN</td>\n      <td>NaN</td>\n      <td>NaN</td>\n      <td>NaN</td>\n      <td>NaN</td>\n    </tr>\n    <tr>\n      <th>29</th>\n      <td>1.0</td>\n      <td>Hailley</td>\n      <td>Andrey</td>\n      <td>1</td>\n      <td>1</td>\n      <td>3082.0</td>\n      <td>1</td>\n      <td>77</td>\n      <td>NaN</td>\n      <td>1</td>\n      <td>...</td>\n      <td>NaN</td>\n      <td>NaN</td>\n      <td>NaN</td>\n      <td>NaN</td>\n      <td>NaN</td>\n      <td>NaN</td>\n      <td>NaN</td>\n      <td>NaN</td>\n      <td>NaN</td>\n      <td>NaN</td>\n    </tr>\n    <tr>\n      <th>...</th>\n      <td>...</td>\n      <td>...</td>\n      <td>...</td>\n      <td>...</td>\n      <td>...</td>\n      <td>...</td>\n      <td>...</td>\n      <td>...</td>\n      <td>...</td>\n      <td>...</td>\n      <td>...</td>\n      <td>...</td>\n      <td>...</td>\n      <td>...</td>\n      <td>...</td>\n      <td>...</td>\n      <td>...</td>\n      <td>...</td>\n      <td>...</td>\n      <td>...</td>\n      <td>...</td>\n    </tr>\n    <tr>\n      <th>497</th>\n      <td>2.0</td>\n      <td>Hailley</td>\n      <td>NaN</td>\n      <td>1</td>\n      <td>1</td>\n      <td>3661.0</td>\n      <td>1</td>\n      <td>57</td>\n      <td>362.0</td>\n      <td>2</td>\n      <td>...</td>\n      <td>NaN</td>\n      <td>NaN</td>\n      <td>NaN</td>\n      <td>NaN</td>\n      <td>NaN</td>\n      <td>NaN</td>\n      <td>NaN</td>\n      <td>NaN</td>\n      <td>NaN</td>\n      <td>NaN</td>\n    </tr>\n    <tr>\n      <th>498</th>\n      <td>1.0</td>\n      <td>Hailley</td>\n      <td>NaN</td>\n      <td>1</td>\n      <td>1</td>\n      <td>3663.0</td>\n      <td>1</td>\n      <td>74</td>\n      <td>328.0</td>\n      <td>1</td>\n      <td>...</td>\n      <td>20.0</td>\n      <td>NaN</td>\n      <td>NaN</td>\n      <td>NaN</td>\n      <td>50.0</td>\n      <td>NaN</td>\n      <td>NaN</td>\n      <td>NaN</td>\n      <td>6.0</td>\n      <td>NaN</td>\n    </tr>\n    <tr>\n      <th>1</th>\n      <td>1.0</td>\n      <td>Andrey</td>\n      <td>NaN</td>\n      <td>1</td>\n      <td>1</td>\n      <td>3050.0</td>\n      <td>1</td>\n      <td>51</td>\n      <td>NaN</td>\n      <td>2</td>\n      <td>...</td>\n      <td>NaN</td>\n      <td>NaN</td>\n      <td>NaN</td>\n      <td>NaN</td>\n      <td>NaN</td>\n      <td>NaN</td>\n      <td>NaN</td>\n      <td>NaN</td>\n      <td>NaN</td>\n      <td>NaN</td>\n    </tr>\n    <tr>\n      <th>2</th>\n      <td>1.0</td>\n      <td>Andrey</td>\n      <td>NaN</td>\n      <td>1</td>\n      <td>1</td>\n      <td>3051.0</td>\n      <td>1</td>\n      <td>63</td>\n      <td>NaN</td>\n      <td>1</td>\n      <td>...</td>\n      <td>NaN</td>\n      <td>NaN</td>\n      <td>NaN</td>\n      <td>NaN</td>\n      <td>NaN</td>\n      <td>NaN</td>\n      <td>NaN</td>\n      <td>NaN</td>\n      <td>NaN</td>\n      <td>NaN</td>\n    </tr>\n    <tr>\n      <th>389</th>\n      <td>1.0</td>\n      <td>NaN</td>\n      <td>NaN</td>\n      <td>1</td>\n      <td>1</td>\n      <td>3535.0</td>\n      <td>1</td>\n      <td>81</td>\n      <td>NaN</td>\n      <td>1</td>\n      <td>...</td>\n      <td>NaN</td>\n      <td>NaN</td>\n      <td>NaN</td>\n      <td>NaN</td>\n      <td>NaN</td>\n      <td>NaN</td>\n      <td>NaN</td>\n      <td>NaN</td>\n      <td>NaN</td>\n      <td>NaN</td>\n    </tr>\n  </tbody>\n</table>\n<p>102 rows × 90 columns</p>\n</div>"
     },
     "execution_count": 29,
     "metadata": {},
     "output_type": "execute_result"
    }
   ],
   "source": [
    "#Verify varus valgus discrepancy b/w Nav and manual\n",
    "varus_outliers = varus_valgus_outliers = varus_valgus_outliers[(varus_valgus_outliers['PreOp Mechanical axis'] >= 10) |\n",
    "                                                              (varus_valgus_outliers['Nav PreOp Measurement (degree; Valgus is negative)'] >= 10)]\n",
    "varus_outliers"
   ]
  }
 ],
 "metadata": {
  "kernelspec": {
   "display_name": "Python 3 (ipykernel)",
   "language": "python",
   "name": "python3"
  },
  "language_info": {
   "codemirror_mode": {
    "name": "ipython",
    "version": 3
   },
   "file_extension": ".py",
   "mimetype": "text/x-python",
   "name": "python",
   "nbconvert_exporter": "python",
   "pygments_lexer": "ipython3",
   "version": "3.10.4"
  }
 },
 "nbformat": 4,
 "nbformat_minor": 1
}